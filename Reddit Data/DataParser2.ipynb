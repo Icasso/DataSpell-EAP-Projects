{
 "cells": [
  {
   "cell_type": "markdown",
   "source": [
    "Data Collection Part 1"
   ],
   "metadata": {
    "collapsed": false
   }
  },
  {
   "cell_type": "code",
   "execution_count": 42,
   "outputs": [
    {
     "data": {
      "text/plain": "body                   object\ncreated_utc    datetime64[ns]\ndtype: object"
     },
     "execution_count": 42,
     "metadata": {},
     "output_type": "execute_result"
    }
   ],
   "source": [
    "import pandas as pd\n",
    "raw_comments_df = pd.read_pickle('pre_comments_df.pkl')\n",
    "raw_comments_df.dtypes"
   ],
   "metadata": {
    "collapsed": false,
    "pycharm": {
     "name": "#%%\n"
    }
   }
  },
  {
   "cell_type": "code",
   "execution_count": 43,
   "outputs": [
    {
     "data": {
      "text/plain": "                                                      body created_utc\n4482265                   Not even close to enough rockets  2021-01-01\n2298808                             no product, no revenue  2021-01-01\n4481342                  Green apple Jack Daniels and coke  2021-01-01\n4482266                                         I did this  2021-01-01\n4481339                                       Not his own.  2021-01-01\n...                                                    ...         ...\n6743925  He said in his opinion vaccines where effectiv...  2021-11-28\n6743924          https://en.m.wikipedia.org/wiki/Straw_man  2021-11-28\n6743923  The boyfriend of my wife and his stepmother ar...  2021-11-28\n6743921  This sounds eerily similar to my relationship ...  2021-11-28\n6743428                      Yo College!!!\\n\\nFUK U!!!!! 🤓  2021-11-28\n\n[22715123 rows x 2 columns]",
      "text/html": "<div>\n<style scoped>\n    .dataframe tbody tr th:only-of-type {\n        vertical-align: middle;\n    }\n\n    .dataframe tbody tr th {\n        vertical-align: top;\n    }\n\n    .dataframe thead th {\n        text-align: right;\n    }\n</style>\n<table border=\"1\" class=\"dataframe\">\n  <thead>\n    <tr style=\"text-align: right;\">\n      <th></th>\n      <th>body</th>\n      <th>created_utc</th>\n    </tr>\n  </thead>\n  <tbody>\n    <tr>\n      <th>4482265</th>\n      <td>Not even close to enough rockets</td>\n      <td>2021-01-01</td>\n    </tr>\n    <tr>\n      <th>2298808</th>\n      <td>no product, no revenue</td>\n      <td>2021-01-01</td>\n    </tr>\n    <tr>\n      <th>4481342</th>\n      <td>Green apple Jack Daniels and coke</td>\n      <td>2021-01-01</td>\n    </tr>\n    <tr>\n      <th>4482266</th>\n      <td>I did this</td>\n      <td>2021-01-01</td>\n    </tr>\n    <tr>\n      <th>4481339</th>\n      <td>Not his own.</td>\n      <td>2021-01-01</td>\n    </tr>\n    <tr>\n      <th>...</th>\n      <td>...</td>\n      <td>...</td>\n    </tr>\n    <tr>\n      <th>6743925</th>\n      <td>He said in his opinion vaccines where effectiv...</td>\n      <td>2021-11-28</td>\n    </tr>\n    <tr>\n      <th>6743924</th>\n      <td>https://en.m.wikipedia.org/wiki/Straw_man</td>\n      <td>2021-11-28</td>\n    </tr>\n    <tr>\n      <th>6743923</th>\n      <td>The boyfriend of my wife and his stepmother ar...</td>\n      <td>2021-11-28</td>\n    </tr>\n    <tr>\n      <th>6743921</th>\n      <td>This sounds eerily similar to my relationship ...</td>\n      <td>2021-11-28</td>\n    </tr>\n    <tr>\n      <th>6743428</th>\n      <td>Yo College!!!\\n\\nFUK U!!!!! 🤓</td>\n      <td>2021-11-28</td>\n    </tr>\n  </tbody>\n</table>\n<p>22715123 rows × 2 columns</p>\n</div>"
     },
     "execution_count": 43,
     "metadata": {},
     "output_type": "execute_result"
    }
   ],
   "source": [
    "raw_comments_df"
   ],
   "metadata": {
    "collapsed": false,
    "pycharm": {
     "name": "#%%\n"
    }
   }
  },
  {
   "cell_type": "markdown",
   "source": [
    "Month Counter -> Chart Display"
   ],
   "metadata": {
    "collapsed": false
   }
  },
  {
   "cell_type": "code",
   "execution_count": 44,
   "outputs": [
    {
     "data": {
      "text/plain": "created_utc\n2021-01    5854247\n2021-02    4644290\n2021-03    2361654\n2021-04    1417778\n2021-05    1339675\n2021-06    2129259\n2021-07    1083788\n2021-08    1007205\n2021-09    1001595\n2021-10     919366\n2021-11     956266\nFreq: M, Name: created_utc, dtype: int64"
     },
     "execution_count": 44,
     "metadata": {},
     "output_type": "execute_result"
    }
   ],
   "source": [
    "monthcounter_df = raw_comments_df['created_utc'].groupby(raw_comments_df.created_utc.dt.to_period(\"M\")).agg('count')\n",
    "monthcounter_df"
   ],
   "metadata": {
    "collapsed": false,
    "pycharm": {
     "name": "#%%\n"
    }
   }
  },
  {
   "cell_type": "code",
   "execution_count": 45,
   "outputs": [
    {
     "data": {
      "text/plain": "<Figure size 432x288 with 1 Axes>",
      "image/png": "[encoded data removed]"
     },
     "metadata": {
      "needs_background": "light"
     },
     "output_type": "display_data"
    }
   ],
   "source": [
    "import matplotlib.pyplot as plt\n",
    "plt.figure()\n",
    "plt.title('Volume of comments from sub-reddit r/wallstreetbets')\n",
    "plt.ticklabel_format(style='plain')\n",
    "monthcounter_df.plot(kind='bar')\n",
    "plt.xlabel('Month')\n",
    "plt.ylabel('Number of comments')\n",
    "plt.show()"
   ],
   "metadata": {
    "collapsed": false,
    "pycharm": {
     "name": "#%%\n"
    }
   }
  },
  {
   "cell_type": "markdown",
   "source": [
    "[removed] [deleted]"
   ],
   "metadata": {
    "collapsed": false
   }
  },
  {
   "cell_type": "code",
   "execution_count": 46,
   "outputs": [
    {
     "data": {
      "text/plain": "                                                      body created_utc\n4482265                   Not even close to enough rockets  2021-01-01\n2298808                             no product, no revenue  2021-01-01\n4481342                  Green apple Jack Daniels and coke  2021-01-01\n4482266                                         I did this  2021-01-01\n4481339                                       Not his own.  2021-01-01\n...                                                    ...         ...\n6743925  He said in his opinion vaccines where effectiv...  2021-11-28\n6743924          https://en.m.wikipedia.org/wiki/Straw_man  2021-11-28\n6743923  The boyfriend of my wife and his stepmother ar...  2021-11-28\n6743921  This sounds eerily similar to my relationship ...  2021-11-28\n6743428                      Yo College!!!\\n\\nFUK U!!!!! 🤓  2021-11-28\n\n[17715994 rows x 2 columns]",
      "text/html": "<div>\n<style scoped>\n    .dataframe tbody tr th:only-of-type {\n        vertical-align: middle;\n    }\n\n    .dataframe tbody tr th {\n        vertical-align: top;\n    }\n\n    .dataframe thead th {\n        text-align: right;\n    }\n</style>\n<table border=\"1\" class=\"dataframe\">\n  <thead>\n    <tr style=\"text-align: right;\">\n      <th></th>\n      <th>body</th>\n      <th>created_utc</th>\n    </tr>\n  </thead>\n  <tbody>\n    <tr>\n      <th>4482265</th>\n      <td>Not even close to enough rockets</td>\n      <td>2021-01-01</td>\n    </tr>\n    <tr>\n      <th>2298808</th>\n      <td>no product, no revenue</td>\n      <td>2021-01-01</td>\n    </tr>\n    <tr>\n      <th>4481342</th>\n      <td>Green apple Jack Daniels and coke</td>\n      <td>2021-01-01</td>\n    </tr>\n    <tr>\n      <th>4482266</th>\n      <td>I did this</td>\n      <td>2021-01-01</td>\n    </tr>\n    <tr>\n      <th>4481339</th>\n      <td>Not his own.</td>\n      <td>2021-01-01</td>\n    </tr>\n    <tr>\n      <th>...</th>\n      <td>...</td>\n      <td>...</td>\n    </tr>\n    <tr>\n      <th>6743925</th>\n      <td>He said in his opinion vaccines where effectiv...</td>\n      <td>2021-11-28</td>\n    </tr>\n    <tr>\n      <th>6743924</th>\n      <td>https://en.m.wikipedia.org/wiki/Straw_man</td>\n      <td>2021-11-28</td>\n    </tr>\n    <tr>\n      <th>6743923</th>\n      <td>The boyfriend of my wife and his stepmother ar...</td>\n      <td>2021-11-28</td>\n    </tr>\n    <tr>\n      <th>6743921</th>\n      <td>This sounds eerily similar to my relationship ...</td>\n      <td>2021-11-28</td>\n    </tr>\n    <tr>\n      <th>6743428</th>\n      <td>Yo College!!!\\n\\nFUK U!!!!! 🤓</td>\n      <td>2021-11-28</td>\n    </tr>\n  </tbody>\n</table>\n<p>17715994 rows × 2 columns</p>\n</div>"
     },
     "execution_count": 46,
     "metadata": {},
     "output_type": "execute_result"
    }
   ],
   "source": [
    "raw_comments_df2 = raw_comments_df\n",
    "row_to_be_deleted_1 = raw_comments_df2[raw_comments_df2['body'] == '[removed]'].index\n",
    "row_to_be_deleted_2 = raw_comments_df2[raw_comments_df2['body'] == '[deleted]'].index\n",
    "raw_comments_df2.drop(row_to_be_deleted_1, inplace=True)\n",
    "raw_comments_df2.drop(row_to_be_deleted_2, inplace=True)\n",
    "raw_comments_df2"
   ],
   "metadata": {
    "collapsed": false,
    "pycharm": {
     "name": "#%%\n"
    }
   }
  },
  {
   "cell_type": "code",
   "execution_count": 47,
   "outputs": [
    {
     "data": {
      "text/plain": "created_utc\n2021-01    4407690\n2021-02    3170538\n2021-03    1944148\n2021-04    1219579\n2021-05    1228267\n2021-06    1633043\n2021-07     892856\n2021-08     838996\n2021-09     822080\n2021-10     758369\n2021-11     800428\nFreq: M, Name: created_utc, dtype: int64"
     },
     "execution_count": 47,
     "metadata": {},
     "output_type": "execute_result"
    }
   ],
   "source": [
    "monthcounter_df2 = raw_comments_df2['created_utc'].groupby(raw_comments_df2.created_utc.dt.to_period(\"M\")).agg('count')\n",
    "monthcounter_df2"
   ],
   "metadata": {
    "collapsed": false,
    "pycharm": {
     "name": "#%%\n"
    }
   }
  },
  {
   "cell_type": "markdown",
   "source": [
    "General Preprocess, REGEX"
   ],
   "metadata": {
    "collapsed": false
   }
  },
  {
   "cell_type": "code",
   "execution_count": 48,
   "outputs": [
    {
     "data": {
      "text/plain": "                                                      body created_utc\n4482265                   Not even close to enough rockets  2021-01-01\n2298808                             no product, no revenue  2021-01-01\n4481342                  Green apple Jack Daniels and coke  2021-01-01\n4482266                                         I did this  2021-01-01\n4481339                                       Not his own.  2021-01-01\n...                                                    ...         ...\n6743926      FAUCI is just mad that a bull fuked his wife.  2021-11-28\n6743925  He said in his opinion vaccines where effectiv...  2021-11-28\n6743923  The boyfriend of my wife and his stepmother ar...  2021-11-28\n6743921  This sounds eerily similar to my relationship ...  2021-11-28\n6743428                         Yo College!!! FUK U!!!!! 🤓  2021-11-28\n\n[17681183 rows x 2 columns]",
      "text/html": "<div>\n<style scoped>\n    .dataframe tbody tr th:only-of-type {\n        vertical-align: middle;\n    }\n\n    .dataframe tbody tr th {\n        vertical-align: top;\n    }\n\n    .dataframe thead th {\n        text-align: right;\n    }\n</style>\n<table border=\"1\" class=\"dataframe\">\n  <thead>\n    <tr style=\"text-align: right;\">\n      <th></th>\n      <th>body</th>\n      <th>created_utc</th>\n    </tr>\n  </thead>\n  <tbody>\n    <tr>\n      <th>4482265</th>\n      <td>Not even close to enough rockets</td>\n      <td>2021-01-01</td>\n    </tr>\n    <tr>\n      <th>2298808</th>\n      <td>no product, no revenue</td>\n      <td>2021-01-01</td>\n    </tr>\n    <tr>\n      <th>4481342</th>\n      <td>Green apple Jack Daniels and coke</td>\n      <td>2021-01-01</td>\n    </tr>\n    <tr>\n      <th>4482266</th>\n      <td>I did this</td>\n      <td>2021-01-01</td>\n    </tr>\n    <tr>\n      <th>4481339</th>\n      <td>Not his own.</td>\n      <td>2021-01-01</td>\n    </tr>\n    <tr>\n      <th>...</th>\n      <td>...</td>\n      <td>...</td>\n    </tr>\n    <tr>\n      <th>6743926</th>\n      <td>FAUCI is just mad that a bull fuked his wife.</td>\n      <td>2021-11-28</td>\n    </tr>\n    <tr>\n      <th>6743925</th>\n      <td>He said in his opinion vaccines where effectiv...</td>\n      <td>2021-11-28</td>\n    </tr>\n    <tr>\n      <th>6743923</th>\n      <td>The boyfriend of my wife and his stepmother ar...</td>\n      <td>2021-11-28</td>\n    </tr>\n    <tr>\n      <th>6743921</th>\n      <td>This sounds eerily similar to my relationship ...</td>\n      <td>2021-11-28</td>\n    </tr>\n    <tr>\n      <th>6743428</th>\n      <td>Yo College!!! FUK U!!!!! 🤓</td>\n      <td>2021-11-28</td>\n    </tr>\n  </tbody>\n</table>\n<p>17681183 rows × 2 columns</p>\n</div>"
     },
     "execution_count": 48,
     "metadata": {},
     "output_type": "execute_result"
    }
   ],
   "source": [
    "raw_comments_df3 = raw_comments_df2\n",
    "raw_comments_df3 = raw_comments_df3.replace(r'\\n', ' ', regex=True)\n",
    "raw_comments_df3 = raw_comments_df3.replace(r'http\\S+', '', regex=True)\n",
    "raw_comments_df3 = raw_comments_df3.replace({' +':' '},regex=True)\n",
    "row_to_be_deleted_3 = raw_comments_df3[raw_comments_df3['body'] == ''].index\n",
    "raw_comments_df3.drop(row_to_be_deleted_3, inplace=True)\n",
    "raw_comments_df3"
   ],
   "metadata": {
    "collapsed": false,
    "pycharm": {
     "name": "#%%\n"
    }
   }
  },
  {
   "cell_type": "code",
   "execution_count": 49,
   "outputs": [
    {
     "data": {
      "text/plain": "created_utc\n2021-01    4395910\n2021-02    3163680\n2021-03    1940536\n2021-04    1217629\n2021-05    1226330\n2021-06    1630385\n2021-07     891664\n2021-08     837718\n2021-09     820812\n2021-10     757317\n2021-11     799202\nFreq: M, Name: created_utc, dtype: int64"
     },
     "execution_count": 49,
     "metadata": {},
     "output_type": "execute_result"
    }
   ],
   "source": [
    "monthcounter_df3 = raw_comments_df3['created_utc'].groupby(raw_comments_df3.created_utc.dt.to_period(\"M\")).agg('count')\n",
    "monthcounter_df3"
   ],
   "metadata": {
    "collapsed": false,
    "pycharm": {
     "name": "#%%\n"
    }
   }
  },
  {
   "cell_type": "markdown",
   "source": [
    "COMBINE DATAFRAME"
   ],
   "metadata": {
    "collapsed": false
   }
  },
  {
   "cell_type": "code",
   "execution_count": 50,
   "outputs": [
    {
     "data": {
      "text/plain": "             created_utc\ncreated_utc             \n2021-01          5854247\n2021-02          4644290\n2021-03          2361654\n2021-04          1417778\n2021-05          1339675\n2021-06          2129259\n2021-07          1083788\n2021-08          1007205\n2021-09          1001595\n2021-10           919366\n2021-11           956266",
      "text/html": "<div>\n<style scoped>\n    .dataframe tbody tr th:only-of-type {\n        vertical-align: middle;\n    }\n\n    .dataframe tbody tr th {\n        vertical-align: top;\n    }\n\n    .dataframe thead th {\n        text-align: right;\n    }\n</style>\n<table border=\"1\" class=\"dataframe\">\n  <thead>\n    <tr style=\"text-align: right;\">\n      <th></th>\n      <th>created_utc</th>\n    </tr>\n    <tr>\n      <th>created_utc</th>\n      <th></th>\n    </tr>\n  </thead>\n  <tbody>\n    <tr>\n      <th>2021-01</th>\n      <td>5854247</td>\n    </tr>\n    <tr>\n      <th>2021-02</th>\n      <td>4644290</td>\n    </tr>\n    <tr>\n      <th>2021-03</th>\n      <td>2361654</td>\n    </tr>\n    <tr>\n      <th>2021-04</th>\n      <td>1417778</td>\n    </tr>\n    <tr>\n      <th>2021-05</th>\n      <td>1339675</td>\n    </tr>\n    <tr>\n      <th>2021-06</th>\n      <td>2129259</td>\n    </tr>\n    <tr>\n      <th>2021-07</th>\n      <td>1083788</td>\n    </tr>\n    <tr>\n      <th>2021-08</th>\n      <td>1007205</td>\n    </tr>\n    <tr>\n      <th>2021-09</th>\n      <td>1001595</td>\n    </tr>\n    <tr>\n      <th>2021-10</th>\n      <td>919366</td>\n    </tr>\n    <tr>\n      <th>2021-11</th>\n      <td>956266</td>\n    </tr>\n  </tbody>\n</table>\n</div>"
     },
     "execution_count": 50,
     "metadata": {},
     "output_type": "execute_result"
    }
   ],
   "source": [
    "df1 = pd.DataFrame(monthcounter_df)\n",
    "df1"
   ],
   "metadata": {
    "collapsed": false,
    "pycharm": {
     "name": "#%%\n"
    }
   }
  },
  {
   "cell_type": "code",
   "execution_count": 51,
   "outputs": [
    {
     "data": {
      "text/plain": "             created_utc\ncreated_utc             \n2021-01          4407690\n2021-02          3170538\n2021-03          1944148\n2021-04          1219579\n2021-05          1228267\n2021-06          1633043\n2021-07           892856\n2021-08           838996\n2021-09           822080\n2021-10           758369\n2021-11           800428",
      "text/html": "<div>\n<style scoped>\n    .dataframe tbody tr th:only-of-type {\n        vertical-align: middle;\n    }\n\n    .dataframe tbody tr th {\n        vertical-align: top;\n    }\n\n    .dataframe thead th {\n        text-align: right;\n    }\n</style>\n<table border=\"1\" class=\"dataframe\">\n  <thead>\n    <tr style=\"text-align: right;\">\n      <th></th>\n      <th>created_utc</th>\n    </tr>\n    <tr>\n      <th>created_utc</th>\n      <th></th>\n    </tr>\n  </thead>\n  <tbody>\n    <tr>\n      <th>2021-01</th>\n      <td>4407690</td>\n    </tr>\n    <tr>\n      <th>2021-02</th>\n      <td>3170538</td>\n    </tr>\n    <tr>\n      <th>2021-03</th>\n      <td>1944148</td>\n    </tr>\n    <tr>\n      <th>2021-04</th>\n      <td>1219579</td>\n    </tr>\n    <tr>\n      <th>2021-05</th>\n      <td>1228267</td>\n    </tr>\n    <tr>\n      <th>2021-06</th>\n      <td>1633043</td>\n    </tr>\n    <tr>\n      <th>2021-07</th>\n      <td>892856</td>\n    </tr>\n    <tr>\n      <th>2021-08</th>\n      <td>838996</td>\n    </tr>\n    <tr>\n      <th>2021-09</th>\n      <td>822080</td>\n    </tr>\n    <tr>\n      <th>2021-10</th>\n      <td>758369</td>\n    </tr>\n    <tr>\n      <th>2021-11</th>\n      <td>800428</td>\n    </tr>\n  </tbody>\n</table>\n</div>"
     },
     "execution_count": 51,
     "metadata": {},
     "output_type": "execute_result"
    }
   ],
   "source": [
    "df2 = pd.DataFrame(monthcounter_df2)\n",
    "df2"
   ],
   "metadata": {
    "collapsed": false,
    "pycharm": {
     "name": "#%%\n"
    }
   }
  },
  {
   "cell_type": "code",
   "execution_count": 52,
   "outputs": [
    {
     "data": {
      "text/plain": "             created_utc\ncreated_utc             \n2021-01          4395910\n2021-02          3163680\n2021-03          1940536\n2021-04          1217629\n2021-05          1226330\n2021-06          1630385\n2021-07           891664\n2021-08           837718\n2021-09           820812\n2021-10           757317\n2021-11           799202",
      "text/html": "<div>\n<style scoped>\n    .dataframe tbody tr th:only-of-type {\n        vertical-align: middle;\n    }\n\n    .dataframe tbody tr th {\n        vertical-align: top;\n    }\n\n    .dataframe thead th {\n        text-align: right;\n    }\n</style>\n<table border=\"1\" class=\"dataframe\">\n  <thead>\n    <tr style=\"text-align: right;\">\n      <th></th>\n      <th>created_utc</th>\n    </tr>\n    <tr>\n      <th>created_utc</th>\n      <th></th>\n    </tr>\n  </thead>\n  <tbody>\n    <tr>\n      <th>2021-01</th>\n      <td>4395910</td>\n    </tr>\n    <tr>\n      <th>2021-02</th>\n      <td>3163680</td>\n    </tr>\n    <tr>\n      <th>2021-03</th>\n      <td>1940536</td>\n    </tr>\n    <tr>\n      <th>2021-04</th>\n      <td>1217629</td>\n    </tr>\n    <tr>\n      <th>2021-05</th>\n      <td>1226330</td>\n    </tr>\n    <tr>\n      <th>2021-06</th>\n      <td>1630385</td>\n    </tr>\n    <tr>\n      <th>2021-07</th>\n      <td>891664</td>\n    </tr>\n    <tr>\n      <th>2021-08</th>\n      <td>837718</td>\n    </tr>\n    <tr>\n      <th>2021-09</th>\n      <td>820812</td>\n    </tr>\n    <tr>\n      <th>2021-10</th>\n      <td>757317</td>\n    </tr>\n    <tr>\n      <th>2021-11</th>\n      <td>799202</td>\n    </tr>\n  </tbody>\n</table>\n</div>"
     },
     "execution_count": 52,
     "metadata": {},
     "output_type": "execute_result"
    }
   ],
   "source": [
    "df3 = pd.DataFrame(monthcounter_df3)\n",
    "df3"
   ],
   "metadata": {
    "collapsed": false,
    "pycharm": {
     "name": "#%%\n"
    }
   }
  },
  {
   "cell_type": "code",
   "execution_count": 53,
   "outputs": [],
   "source": [
    "df1 = df1.rename(columns={\"created_utc\":\"Raw\"})\n",
    "df2 = df2.rename(columns={\"created_utc\":\"Empty\"})\n",
    "df3 = df3.rename(columns={\"created_utc\":\"Regex\"})"
   ],
   "metadata": {
    "collapsed": false,
    "pycharm": {
     "name": "#%%\n"
    }
   }
  },
  {
   "cell_type": "code",
   "execution_count": 54,
   "outputs": [
    {
     "data": {
      "text/plain": "                 Raw\ncreated_utc         \n2021-01      5854247\n2021-02      4644290\n2021-03      2361654\n2021-04      1417778\n2021-05      1339675\n2021-06      2129259\n2021-07      1083788\n2021-08      1007205\n2021-09      1001595\n2021-10       919366\n2021-11       956266",
      "text/html": "<div>\n<style scoped>\n    .dataframe tbody tr th:only-of-type {\n        vertical-align: middle;\n    }\n\n    .dataframe tbody tr th {\n        vertical-align: top;\n    }\n\n    .dataframe thead th {\n        text-align: right;\n    }\n</style>\n<table border=\"1\" class=\"dataframe\">\n  <thead>\n    <tr style=\"text-align: right;\">\n      <th></th>\n      <th>Raw</th>\n    </tr>\n    <tr>\n      <th>created_utc</th>\n      <th></th>\n    </tr>\n  </thead>\n  <tbody>\n    <tr>\n      <th>2021-01</th>\n      <td>5854247</td>\n    </tr>\n    <tr>\n      <th>2021-02</th>\n      <td>4644290</td>\n    </tr>\n    <tr>\n      <th>2021-03</th>\n      <td>2361654</td>\n    </tr>\n    <tr>\n      <th>2021-04</th>\n      <td>1417778</td>\n    </tr>\n    <tr>\n      <th>2021-05</th>\n      <td>1339675</td>\n    </tr>\n    <tr>\n      <th>2021-06</th>\n      <td>2129259</td>\n    </tr>\n    <tr>\n      <th>2021-07</th>\n      <td>1083788</td>\n    </tr>\n    <tr>\n      <th>2021-08</th>\n      <td>1007205</td>\n    </tr>\n    <tr>\n      <th>2021-09</th>\n      <td>1001595</td>\n    </tr>\n    <tr>\n      <th>2021-10</th>\n      <td>919366</td>\n    </tr>\n    <tr>\n      <th>2021-11</th>\n      <td>956266</td>\n    </tr>\n  </tbody>\n</table>\n</div>"
     },
     "execution_count": 54,
     "metadata": {},
     "output_type": "execute_result"
    }
   ],
   "source": [
    "df1"
   ],
   "metadata": {
    "collapsed": false,
    "pycharm": {
     "name": "#%%\n"
    }
   }
  },
  {
   "cell_type": "code",
   "execution_count": 55,
   "outputs": [
    {
     "data": {
      "text/plain": "               Empty\ncreated_utc         \n2021-01      4407690\n2021-02      3170538\n2021-03      1944148\n2021-04      1219579\n2021-05      1228267\n2021-06      1633043\n2021-07       892856\n2021-08       838996\n2021-09       822080\n2021-10       758369\n2021-11       800428",
      "text/html": "<div>\n<style scoped>\n    .dataframe tbody tr th:only-of-type {\n        vertical-align: middle;\n    }\n\n    .dataframe tbody tr th {\n        vertical-align: top;\n    }\n\n    .dataframe thead th {\n        text-align: right;\n    }\n</style>\n<table border=\"1\" class=\"dataframe\">\n  <thead>\n    <tr style=\"text-align: right;\">\n      <th></th>\n      <th>Empty</th>\n    </tr>\n    <tr>\n      <th>created_utc</th>\n      <th></th>\n    </tr>\n  </thead>\n  <tbody>\n    <tr>\n      <th>2021-01</th>\n      <td>4407690</td>\n    </tr>\n    <tr>\n      <th>2021-02</th>\n      <td>3170538</td>\n    </tr>\n    <tr>\n      <th>2021-03</th>\n      <td>1944148</td>\n    </tr>\n    <tr>\n      <th>2021-04</th>\n      <td>1219579</td>\n    </tr>\n    <tr>\n      <th>2021-05</th>\n      <td>1228267</td>\n    </tr>\n    <tr>\n      <th>2021-06</th>\n      <td>1633043</td>\n    </tr>\n    <tr>\n      <th>2021-07</th>\n      <td>892856</td>\n    </tr>\n    <tr>\n      <th>2021-08</th>\n      <td>838996</td>\n    </tr>\n    <tr>\n      <th>2021-09</th>\n      <td>822080</td>\n    </tr>\n    <tr>\n      <th>2021-10</th>\n      <td>758369</td>\n    </tr>\n    <tr>\n      <th>2021-11</th>\n      <td>800428</td>\n    </tr>\n  </tbody>\n</table>\n</div>"
     },
     "execution_count": 55,
     "metadata": {},
     "output_type": "execute_result"
    }
   ],
   "source": [
    "df2"
   ],
   "metadata": {
    "collapsed": false,
    "pycharm": {
     "name": "#%%\n"
    }
   }
  },
  {
   "cell_type": "code",
   "execution_count": 56,
   "outputs": [
    {
     "data": {
      "text/plain": "               Regex\ncreated_utc         \n2021-01      4395910\n2021-02      3163680\n2021-03      1940536\n2021-04      1217629\n2021-05      1226330\n2021-06      1630385\n2021-07       891664\n2021-08       837718\n2021-09       820812\n2021-10       757317\n2021-11       799202",
      "text/html": "<div>\n<style scoped>\n    .dataframe tbody tr th:only-of-type {\n        vertical-align: middle;\n    }\n\n    .dataframe tbody tr th {\n        vertical-align: top;\n    }\n\n    .dataframe thead th {\n        text-align: right;\n    }\n</style>\n<table border=\"1\" class=\"dataframe\">\n  <thead>\n    <tr style=\"text-align: right;\">\n      <th></th>\n      <th>Regex</th>\n    </tr>\n    <tr>\n      <th>created_utc</th>\n      <th></th>\n    </tr>\n  </thead>\n  <tbody>\n    <tr>\n      <th>2021-01</th>\n      <td>4395910</td>\n    </tr>\n    <tr>\n      <th>2021-02</th>\n      <td>3163680</td>\n    </tr>\n    <tr>\n      <th>2021-03</th>\n      <td>1940536</td>\n    </tr>\n    <tr>\n      <th>2021-04</th>\n      <td>1217629</td>\n    </tr>\n    <tr>\n      <th>2021-05</th>\n      <td>1226330</td>\n    </tr>\n    <tr>\n      <th>2021-06</th>\n      <td>1630385</td>\n    </tr>\n    <tr>\n      <th>2021-07</th>\n      <td>891664</td>\n    </tr>\n    <tr>\n      <th>2021-08</th>\n      <td>837718</td>\n    </tr>\n    <tr>\n      <th>2021-09</th>\n      <td>820812</td>\n    </tr>\n    <tr>\n      <th>2021-10</th>\n      <td>757317</td>\n    </tr>\n    <tr>\n      <th>2021-11</th>\n      <td>799202</td>\n    </tr>\n  </tbody>\n</table>\n</div>"
     },
     "execution_count": 56,
     "metadata": {},
     "output_type": "execute_result"
    }
   ],
   "source": [
    "df3"
   ],
   "metadata": {
    "collapsed": false,
    "pycharm": {
     "name": "#%%\n"
    }
   }
  },
  {
   "cell_type": "code",
   "execution_count": 60,
   "outputs": [
    {
     "data": {
      "text/plain": "                 Raw    Empty    Regex\ncreated_utc                           \n2021-01      5854247  4407690  4395910\n2021-02      4644290  3170538  3163680\n2021-03      2361654  1944148  1940536\n2021-04      1417778  1219579  1217629\n2021-05      1339675  1228267  1226330\n2021-06      2129259  1633043  1630385\n2021-07      1083788   892856   891664\n2021-08      1007205   838996   837718\n2021-09      1001595   822080   820812\n2021-10       919366   758369   757317\n2021-11       956266   800428   799202",
      "text/html": "<div>\n<style scoped>\n    .dataframe tbody tr th:only-of-type {\n        vertical-align: middle;\n    }\n\n    .dataframe tbody tr th {\n        vertical-align: top;\n    }\n\n    .dataframe thead th {\n        text-align: right;\n    }\n</style>\n<table border=\"1\" class=\"dataframe\">\n  <thead>\n    <tr style=\"text-align: right;\">\n      <th></th>\n      <th>Raw</th>\n      <th>Empty</th>\n      <th>Regex</th>\n    </tr>\n    <tr>\n      <th>created_utc</th>\n      <th></th>\n      <th></th>\n      <th></th>\n    </tr>\n  </thead>\n  <tbody>\n    <tr>\n      <th>2021-01</th>\n      <td>5854247</td>\n      <td>4407690</td>\n      <td>4395910</td>\n    </tr>\n    <tr>\n      <th>2021-02</th>\n      <td>4644290</td>\n      <td>3170538</td>\n      <td>3163680</td>\n    </tr>\n    <tr>\n      <th>2021-03</th>\n      <td>2361654</td>\n      <td>1944148</td>\n      <td>1940536</td>\n    </tr>\n    <tr>\n      <th>2021-04</th>\n      <td>1417778</td>\n      <td>1219579</td>\n      <td>1217629</td>\n    </tr>\n    <tr>\n      <th>2021-05</th>\n      <td>1339675</td>\n      <td>1228267</td>\n      <td>1226330</td>\n    </tr>\n    <tr>\n      <th>2021-06</th>\n      <td>2129259</td>\n      <td>1633043</td>\n      <td>1630385</td>\n    </tr>\n    <tr>\n      <th>2021-07</th>\n      <td>1083788</td>\n      <td>892856</td>\n      <td>891664</td>\n    </tr>\n    <tr>\n      <th>2021-08</th>\n      <td>1007205</td>\n      <td>838996</td>\n      <td>837718</td>\n    </tr>\n    <tr>\n      <th>2021-09</th>\n      <td>1001595</td>\n      <td>822080</td>\n      <td>820812</td>\n    </tr>\n    <tr>\n      <th>2021-10</th>\n      <td>919366</td>\n      <td>758369</td>\n      <td>757317</td>\n    </tr>\n    <tr>\n      <th>2021-11</th>\n      <td>956266</td>\n      <td>800428</td>\n      <td>799202</td>\n    </tr>\n  </tbody>\n</table>\n</div>"
     },
     "execution_count": 60,
     "metadata": {},
     "output_type": "execute_result"
    }
   ],
   "source": [
    "test_frames = [df1, df2, df3]\n",
    "test_result = pd.concat(test_frames, axis=1)\n",
    "test_result"
   ],
   "metadata": {
    "collapsed": false,
    "pycharm": {
     "name": "#%%\n"
    }
   }
  },
  {
   "cell_type": "code",
   "execution_count": 62,
   "outputs": [],
   "source": [
    "test_result.to_pickle('combine_plot_process.pkl')"
   ],
   "metadata": {
    "collapsed": false,
    "pycharm": {
     "name": "#%%\n"
    }
   }
  },
  {
   "cell_type": "code",
   "execution_count": 61,
   "outputs": [
    {
     "data": {
      "text/plain": "<AxesSubplot:xlabel='created_utc'>"
     },
     "execution_count": 61,
     "metadata": {},
     "output_type": "execute_result"
    },
    {
     "data": {
      "text/plain": "<Figure size 432x288 with 1 Axes>",
      "image/png": "[encoded data removed]"
     },
     "metadata": {
      "needs_background": "light"
     },
     "output_type": "display_data"
    }
   ],
   "source": [
    "res = test_result.plot.bar(stacked=True)\n",
    "res"
   ],
   "metadata": {
    "collapsed": false,
    "pycharm": {
     "name": "#%%\n"
    }
   }
  },
  {
   "cell_type": "code",
   "execution_count": null,
   "outputs": [],
   "source": [],
   "metadata": {
    "collapsed": false,
    "pycharm": {
     "name": "#%%\n"
    }
   }
  }
 ],
 "metadata": {
  "kernelspec": {
   "display_name": "Python 3",
   "language": "python",
   "name": "python3"
  },
  "language_info": {
   "codemirror_mode": {
    "name": "ipython",
    "version": 2
   },
   "file_extension": ".py",
   "mimetype": "text/x-python",
   "name": "python",
   "nbconvert_exporter": "python",
   "pygments_lexer": "ipython2",
   "version": "2.7.6"
  }
 },
 "nbformat": 4,
 "nbformat_minor": 0
}