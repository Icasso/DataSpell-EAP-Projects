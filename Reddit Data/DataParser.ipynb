{
 "cells": [
  {
   "cell_type": "code",
   "execution_count": 1,
   "metadata": {
    "collapsed": true
   },
   "outputs": [
    {
     "name": "stdout",
     "output_type": "stream",
     "text": [
      "Requirement already satisfied: pandas in /Users/isaac/lib/python3.10/site-packages (1.3.4)\r\n",
      "Requirement already satisfied: python-dateutil>=2.7.3 in /Users/isaac/lib/python3.10/site-packages (from pandas) (2.8.2)\r\n",
      "Requirement already satisfied: numpy>=1.21.0 in /Users/isaac/lib/python3.10/site-packages (from pandas) (1.21.4)\r\n",
      "Requirement already satisfied: pytz>=2017.3 in /Users/isaac/lib/python3.10/site-packages (from pandas) (2021.3)\r\n",
      "Requirement already satisfied: six>=1.5 in /Users/isaac/lib/python3.10/site-packages (from python-dateutil>=2.7.3->pandas) (1.16.0)\r\n"
     ]
    }
   ],
   "source": [
    "!pip install pandas"
   ]
  },
  {
   "cell_type": "code",
   "execution_count": 2,
   "outputs": [],
   "source": [
    "import pandas as pd"
   ],
   "metadata": {
    "collapsed": false,
    "pycharm": {
     "name": "#%%\n"
    }
   }
  },
  {
   "cell_type": "code",
   "execution_count": 3,
   "outputs": [],
   "source": [
    "comments_df = pd.read_pickle('comments_df.pkl')"
   ],
   "metadata": {
    "collapsed": false,
    "pycharm": {
     "name": "#%%\n"
    }
   }
  },
  {
   "cell_type": "code",
   "execution_count": 4,
   "outputs": [],
   "source": [
    "comments_df = comments_df.drop(columns=['all_awardings', 'approved_at_utc', 'associated_award', 'author', 'author_flair_background_color', 'author_flair_css_class', 'author_flair_template_id', 'author_flair_text', 'author_flair_text_color', 'author_is_blocked', 'awarders', 'banned_at_utc', 'can_mod_post', 'collapsed', 'collapsed_because_crowd_control', 'collapsed_reason', 'collapsed_reason_code', 'comment_type', 'distinguished', 'edited', 'gildings', 'id', 'is_submitter', 'link_id', 'locked', 'no_follow', 'parent_id', 'permalink', 'retrieved_on', 'score', 'send_replies', 'stickied', 'subreddit', 'subreddit_id', 'top_awarded_type', 'total_awards_received', 'treatment_tags', 'unrepliable_reason', 'author_flair_richtext', 'author_flair_type', 'author_fullname', 'author_patreon_flair', 'author_premium', 'author_cakeday'])"
   ],
   "metadata": {
    "collapsed": false,
    "pycharm": {
     "name": "#%%\n"
    }
   }
  },
  {
   "cell_type": "code",
   "execution_count": 5,
   "outputs": [
    {
     "data": {
      "text/plain": "                                                       body  \\\n0         420 calls 4/21 are about 60$ a pop not gonna l...   \n1                                       7% a week ain’t bad   \n2                   Man the GME cult thread is pure comedy.   \n3         I hope that you have $30k set aside for taxes....   \n4         I mean as long as it is profitable for you but...   \n...                                                     ...   \n22739099                                          [removed]   \n22739100             SILV AG AND SLV UNBLOCKED ON ROBINHOOD   \n22739101                                          [removed]   \n22739102                                          [removed]   \n22739103                                          [removed]   \n\n                 created_utc  \n0        2021-04-09 20:36:05  \n1        2021-04-09 20:36:05  \n2        2021-04-09 20:36:04  \n3        2021-04-09 20:36:01  \n4        2021-04-09 20:36:01  \n...                      ...  \n22739099 2021-01-28 15:24:42  \n22739100 2021-01-28 15:24:42  \n22739101 2021-01-28 15:24:42  \n22739102 2021-01-28 15:24:42  \n22739103 2021-01-28 15:24:42  \n\n[22739104 rows x 2 columns]",
      "text/html": "<div>\n<style scoped>\n    .dataframe tbody tr th:only-of-type {\n        vertical-align: middle;\n    }\n\n    .dataframe tbody tr th {\n        vertical-align: top;\n    }\n\n    .dataframe thead th {\n        text-align: right;\n    }\n</style>\n<table border=\"1\" class=\"dataframe\">\n  <thead>\n    <tr style=\"text-align: right;\">\n      <th></th>\n      <th>body</th>\n      <th>created_utc</th>\n    </tr>\n  </thead>\n  <tbody>\n    <tr>\n      <th>0</th>\n      <td>420 calls 4/21 are about 60$ a pop not gonna l...</td>\n      <td>2021-04-09 20:36:05</td>\n    </tr>\n    <tr>\n      <th>1</th>\n      <td>7% a week ain’t bad</td>\n      <td>2021-04-09 20:36:05</td>\n    </tr>\n    <tr>\n      <th>2</th>\n      <td>Man the GME cult thread is pure comedy.</td>\n      <td>2021-04-09 20:36:04</td>\n    </tr>\n    <tr>\n      <th>3</th>\n      <td>I hope that you have $30k set aside for taxes....</td>\n      <td>2021-04-09 20:36:01</td>\n    </tr>\n    <tr>\n      <th>4</th>\n      <td>I mean as long as it is profitable for you but...</td>\n      <td>2021-04-09 20:36:01</td>\n    </tr>\n    <tr>\n      <th>...</th>\n      <td>...</td>\n      <td>...</td>\n    </tr>\n    <tr>\n      <th>22739099</th>\n      <td>[removed]</td>\n      <td>2021-01-28 15:24:42</td>\n    </tr>\n    <tr>\n      <th>22739100</th>\n      <td>SILV AG AND SLV UNBLOCKED ON ROBINHOOD</td>\n      <td>2021-01-28 15:24:42</td>\n    </tr>\n    <tr>\n      <th>22739101</th>\n      <td>[removed]</td>\n      <td>2021-01-28 15:24:42</td>\n    </tr>\n    <tr>\n      <th>22739102</th>\n      <td>[removed]</td>\n      <td>2021-01-28 15:24:42</td>\n    </tr>\n    <tr>\n      <th>22739103</th>\n      <td>[removed]</td>\n      <td>2021-01-28 15:24:42</td>\n    </tr>\n  </tbody>\n</table>\n<p>22739104 rows × 2 columns</p>\n</div>"
     },
     "execution_count": 5,
     "metadata": {},
     "output_type": "execute_result"
    }
   ],
   "source": [
    "comments_df"
   ],
   "metadata": {
    "collapsed": false,
    "pycharm": {
     "name": "#%%\n"
    }
   }
  },
  {
   "cell_type": "code",
   "execution_count": 8,
   "outputs": [
    {
     "data": {
      "text/plain": "body                   object\ncreated_utc    datetime64[ns]\ndtype: object"
     },
     "execution_count": 8,
     "metadata": {},
     "output_type": "execute_result"
    }
   ],
   "source": [
    "comments_df.dtypes"
   ],
   "metadata": {
    "collapsed": false,
    "pycharm": {
     "name": "#%%\n"
    }
   }
  },
  {
   "cell_type": "code",
   "execution_count": 9,
   "outputs": [
    {
     "data": {
      "text/plain": "                                                      body created_utc\n4479788                    god damn what a waste of money!  2020-12-31\n8075891  Better yet: sell covered calls instead of buyi...  2020-12-31\n8075890         You certainly belong here. Godspeed retard  2020-12-31\n8075889  So I guess a ton of people are either locking ...  2020-12-31\n8075888               Shit was bouncing around like crazy.  2020-12-31\n...                                                    ...         ...\n6743925  He said in his opinion vaccines where effectiv...  2021-11-28\n6743924          https://en.m.wikipedia.org/wiki/Straw_man  2021-11-28\n6743923  The boyfriend of my wife and his stepmother ar...  2021-11-28\n6743921  This sounds eerily similar to my relationship ...  2021-11-28\n6743428                      Yo College!!!\\n\\nFUK U!!!!! 🤓  2021-11-28\n\n[22739104 rows x 2 columns]",
      "text/html": "<div>\n<style scoped>\n    .dataframe tbody tr th:only-of-type {\n        vertical-align: middle;\n    }\n\n    .dataframe tbody tr th {\n        vertical-align: top;\n    }\n\n    .dataframe thead th {\n        text-align: right;\n    }\n</style>\n<table border=\"1\" class=\"dataframe\">\n  <thead>\n    <tr style=\"text-align: right;\">\n      <th></th>\n      <th>body</th>\n      <th>created_utc</th>\n    </tr>\n  </thead>\n  <tbody>\n    <tr>\n      <th>4479788</th>\n      <td>god damn what a waste of money!</td>\n      <td>2020-12-31</td>\n    </tr>\n    <tr>\n      <th>8075891</th>\n      <td>Better yet: sell covered calls instead of buyi...</td>\n      <td>2020-12-31</td>\n    </tr>\n    <tr>\n      <th>8075890</th>\n      <td>You certainly belong here. Godspeed retard</td>\n      <td>2020-12-31</td>\n    </tr>\n    <tr>\n      <th>8075889</th>\n      <td>So I guess a ton of people are either locking ...</td>\n      <td>2020-12-31</td>\n    </tr>\n    <tr>\n      <th>8075888</th>\n      <td>Shit was bouncing around like crazy.</td>\n      <td>2020-12-31</td>\n    </tr>\n    <tr>\n      <th>...</th>\n      <td>...</td>\n      <td>...</td>\n    </tr>\n    <tr>\n      <th>6743925</th>\n      <td>He said in his opinion vaccines where effectiv...</td>\n      <td>2021-11-28</td>\n    </tr>\n    <tr>\n      <th>6743924</th>\n      <td>https://en.m.wikipedia.org/wiki/Straw_man</td>\n      <td>2021-11-28</td>\n    </tr>\n    <tr>\n      <th>6743923</th>\n      <td>The boyfriend of my wife and his stepmother ar...</td>\n      <td>2021-11-28</td>\n    </tr>\n    <tr>\n      <th>6743921</th>\n      <td>This sounds eerily similar to my relationship ...</td>\n      <td>2021-11-28</td>\n    </tr>\n    <tr>\n      <th>6743428</th>\n      <td>Yo College!!!\\n\\nFUK U!!!!! 🤓</td>\n      <td>2021-11-28</td>\n    </tr>\n  </tbody>\n</table>\n<p>22739104 rows × 2 columns</p>\n</div>"
     },
     "execution_count": 9,
     "metadata": {},
     "output_type": "execute_result"
    }
   ],
   "source": [
    "comments_df['created_utc'] = comments_df['created_utc'].dt.date\n",
    "comments_df = comments_df.sort_values(by=\"created_utc\", ascending=True)\n",
    "comments_df"
   ],
   "metadata": {
    "collapsed": false,
    "pycharm": {
     "name": "#%%\n"
    }
   }
  },
  {
   "cell_type": "code",
   "execution_count": 10,
   "outputs": [],
   "source": [
    "import datetime"
   ],
   "metadata": {
    "collapsed": false,
    "pycharm": {
     "name": "#%%\n"
    }
   }
  },
  {
   "cell_type": "code",
   "execution_count": 11,
   "outputs": [
    {
     "data": {
      "text/plain": "                                                      body created_utc\n4482265                   Not even close to enough rockets  2021-01-01\n2298808                             no product, no revenue  2021-01-01\n4481342                  Green apple Jack Daniels and coke  2021-01-01\n4482266                                         I did this  2021-01-01\n4481339                                       Not his own.  2021-01-01\n...                                                    ...         ...\n6743925  He said in his opinion vaccines where effectiv...  2021-11-28\n6743924          https://en.m.wikipedia.org/wiki/Straw_man  2021-11-28\n6743923  The boyfriend of my wife and his stepmother ar...  2021-11-28\n6743921  This sounds eerily similar to my relationship ...  2021-11-28\n6743428                      Yo College!!!\\n\\nFUK U!!!!! 🤓  2021-11-28\n\n[22715123 rows x 2 columns]",
      "text/html": "<div>\n<style scoped>\n    .dataframe tbody tr th:only-of-type {\n        vertical-align: middle;\n    }\n\n    .dataframe tbody tr th {\n        vertical-align: top;\n    }\n\n    .dataframe thead th {\n        text-align: right;\n    }\n</style>\n<table border=\"1\" class=\"dataframe\">\n  <thead>\n    <tr style=\"text-align: right;\">\n      <th></th>\n      <th>body</th>\n      <th>created_utc</th>\n    </tr>\n  </thead>\n  <tbody>\n    <tr>\n      <th>4482265</th>\n      <td>Not even close to enough rockets</td>\n      <td>2021-01-01</td>\n    </tr>\n    <tr>\n      <th>2298808</th>\n      <td>no product, no revenue</td>\n      <td>2021-01-01</td>\n    </tr>\n    <tr>\n      <th>4481342</th>\n      <td>Green apple Jack Daniels and coke</td>\n      <td>2021-01-01</td>\n    </tr>\n    <tr>\n      <th>4482266</th>\n      <td>I did this</td>\n      <td>2021-01-01</td>\n    </tr>\n    <tr>\n      <th>4481339</th>\n      <td>Not his own.</td>\n      <td>2021-01-01</td>\n    </tr>\n    <tr>\n      <th>...</th>\n      <td>...</td>\n      <td>...</td>\n    </tr>\n    <tr>\n      <th>6743925</th>\n      <td>He said in his opinion vaccines where effectiv...</td>\n      <td>2021-11-28</td>\n    </tr>\n    <tr>\n      <th>6743924</th>\n      <td>https://en.m.wikipedia.org/wiki/Straw_man</td>\n      <td>2021-11-28</td>\n    </tr>\n    <tr>\n      <th>6743923</th>\n      <td>The boyfriend of my wife and his stepmother ar...</td>\n      <td>2021-11-28</td>\n    </tr>\n    <tr>\n      <th>6743921</th>\n      <td>This sounds eerily similar to my relationship ...</td>\n      <td>2021-11-28</td>\n    </tr>\n    <tr>\n      <th>6743428</th>\n      <td>Yo College!!!\\n\\nFUK U!!!!! 🤓</td>\n      <td>2021-11-28</td>\n    </tr>\n  </tbody>\n</table>\n<p>22715123 rows × 2 columns</p>\n</div>"
     },
     "execution_count": 11,
     "metadata": {},
     "output_type": "execute_result"
    }
   ],
   "source": [
    "row_december = comments_df[comments_df['created_utc'] == datetime.date(2020,12,31)].index\n",
    "comments_df.drop(row_december, inplace=True)\n",
    "comments_df"
   ],
   "metadata": {
    "collapsed": false,
    "pycharm": {
     "name": "#%%\n"
    }
   }
  },
  {
   "cell_type": "code",
   "execution_count": 12,
   "outputs": [
    {
     "data": {
      "text/plain": "                                                      body created_utc\n4482265                   Not even close to enough rockets  2021-01-01\n2298808                             no product, no revenue  2021-01-01\n4481342                  Green apple Jack Daniels and coke  2021-01-01\n4482266                                         I did this  2021-01-01\n4481339                                       Not his own.  2021-01-01\n...                                                    ...         ...\n6743925  He said in his opinion vaccines where effectiv...  2021-11-28\n6743924          https://en.m.wikipedia.org/wiki/Straw_man  2021-11-28\n6743923  The boyfriend of my wife and his stepmother ar...  2021-11-28\n6743921  This sounds eerily similar to my relationship ...  2021-11-28\n6743428                      Yo College!!!\\n\\nFUK U!!!!! 🤓  2021-11-28\n\n[17715994 rows x 2 columns]",
      "text/html": "<div>\n<style scoped>\n    .dataframe tbody tr th:only-of-type {\n        vertical-align: middle;\n    }\n\n    .dataframe tbody tr th {\n        vertical-align: top;\n    }\n\n    .dataframe thead th {\n        text-align: right;\n    }\n</style>\n<table border=\"1\" class=\"dataframe\">\n  <thead>\n    <tr style=\"text-align: right;\">\n      <th></th>\n      <th>body</th>\n      <th>created_utc</th>\n    </tr>\n  </thead>\n  <tbody>\n    <tr>\n      <th>4482265</th>\n      <td>Not even close to enough rockets</td>\n      <td>2021-01-01</td>\n    </tr>\n    <tr>\n      <th>2298808</th>\n      <td>no product, no revenue</td>\n      <td>2021-01-01</td>\n    </tr>\n    <tr>\n      <th>4481342</th>\n      <td>Green apple Jack Daniels and coke</td>\n      <td>2021-01-01</td>\n    </tr>\n    <tr>\n      <th>4482266</th>\n      <td>I did this</td>\n      <td>2021-01-01</td>\n    </tr>\n    <tr>\n      <th>4481339</th>\n      <td>Not his own.</td>\n      <td>2021-01-01</td>\n    </tr>\n    <tr>\n      <th>...</th>\n      <td>...</td>\n      <td>...</td>\n    </tr>\n    <tr>\n      <th>6743925</th>\n      <td>He said in his opinion vaccines where effectiv...</td>\n      <td>2021-11-28</td>\n    </tr>\n    <tr>\n      <th>6743924</th>\n      <td>https://en.m.wikipedia.org/wiki/Straw_man</td>\n      <td>2021-11-28</td>\n    </tr>\n    <tr>\n      <th>6743923</th>\n      <td>The boyfriend of my wife and his stepmother ar...</td>\n      <td>2021-11-28</td>\n    </tr>\n    <tr>\n      <th>6743921</th>\n      <td>This sounds eerily similar to my relationship ...</td>\n      <td>2021-11-28</td>\n    </tr>\n    <tr>\n      <th>6743428</th>\n      <td>Yo College!!!\\n\\nFUK U!!!!! 🤓</td>\n      <td>2021-11-28</td>\n    </tr>\n  </tbody>\n</table>\n<p>17715994 rows × 2 columns</p>\n</div>"
     },
     "execution_count": 12,
     "metadata": {},
     "output_type": "execute_result"
    }
   ],
   "source": [
    "row_to_be_deleted_1 = comments_df[comments_df['body'] == '[removed]'].index\n",
    "row_to_be_deleted_2 = comments_df[comments_df['body'] == '[deleted]'].index\n",
    "comments_df.drop(row_to_be_deleted_1, inplace=True)\n",
    "comments_df.drop(row_to_be_deleted_2, inplace=True)\n",
    "comments_df"
   ],
   "metadata": {
    "collapsed": false,
    "pycharm": {
     "name": "#%%\n"
    }
   }
  },
  {
   "cell_type": "code",
   "execution_count": 13,
   "outputs": [
    {
     "data": {
      "text/plain": "                                                       body created_utc\n0                          Not even close to enough rockets  2021-01-01\n1                                    no product, no revenue  2021-01-01\n2                         Green apple Jack Daniels and coke  2021-01-01\n3                                                I did this  2021-01-01\n4                                              Not his own.  2021-01-01\n...                                                     ...         ...\n17681178      FAUCI is just mad that a bull fuked his wife.  2021-11-28\n17681179  He said in his opinion vaccines where effectiv...  2021-11-28\n17681180  The boyfriend of my wife and his stepmother ar...  2021-11-28\n17681181  This sounds eerily similar to my relationship ...  2021-11-28\n17681182                         Yo College!!! FUK U!!!!! 🤓  2021-11-28\n\n[17681183 rows x 2 columns]",
      "text/html": "<div>\n<style scoped>\n    .dataframe tbody tr th:only-of-type {\n        vertical-align: middle;\n    }\n\n    .dataframe tbody tr th {\n        vertical-align: top;\n    }\n\n    .dataframe thead th {\n        text-align: right;\n    }\n</style>\n<table border=\"1\" class=\"dataframe\">\n  <thead>\n    <tr style=\"text-align: right;\">\n      <th></th>\n      <th>body</th>\n      <th>created_utc</th>\n    </tr>\n  </thead>\n  <tbody>\n    <tr>\n      <th>0</th>\n      <td>Not even close to enough rockets</td>\n      <td>2021-01-01</td>\n    </tr>\n    <tr>\n      <th>1</th>\n      <td>no product, no revenue</td>\n      <td>2021-01-01</td>\n    </tr>\n    <tr>\n      <th>2</th>\n      <td>Green apple Jack Daniels and coke</td>\n      <td>2021-01-01</td>\n    </tr>\n    <tr>\n      <th>3</th>\n      <td>I did this</td>\n      <td>2021-01-01</td>\n    </tr>\n    <tr>\n      <th>4</th>\n      <td>Not his own.</td>\n      <td>2021-01-01</td>\n    </tr>\n    <tr>\n      <th>...</th>\n      <td>...</td>\n      <td>...</td>\n    </tr>\n    <tr>\n      <th>17681178</th>\n      <td>FAUCI is just mad that a bull fuked his wife.</td>\n      <td>2021-11-28</td>\n    </tr>\n    <tr>\n      <th>17681179</th>\n      <td>He said in his opinion vaccines where effectiv...</td>\n      <td>2021-11-28</td>\n    </tr>\n    <tr>\n      <th>17681180</th>\n      <td>The boyfriend of my wife and his stepmother ar...</td>\n      <td>2021-11-28</td>\n    </tr>\n    <tr>\n      <th>17681181</th>\n      <td>This sounds eerily similar to my relationship ...</td>\n      <td>2021-11-28</td>\n    </tr>\n    <tr>\n      <th>17681182</th>\n      <td>Yo College!!! FUK U!!!!! 🤓</td>\n      <td>2021-11-28</td>\n    </tr>\n  </tbody>\n</table>\n<p>17681183 rows × 2 columns</p>\n</div>"
     },
     "execution_count": 13,
     "metadata": {},
     "output_type": "execute_result"
    }
   ],
   "source": [
    "comments_df = comments_df.replace(r'\\n', ' ', regex=True)\n",
    "comments_df = comments_df.replace(r'http\\S+', '', regex=True)\n",
    "comments_df = comments_df.replace({' +':' '},regex=True)\n",
    "row_to_be_deleted_3 = comments_df[comments_df['body'] == ''].index\n",
    "comments_df.drop(row_to_be_deleted_3, inplace=True)\n",
    "df = comments_df.reset_index(drop=True)\n",
    "df"
   ],
   "metadata": {
    "collapsed": false,
    "pycharm": {
     "name": "#%%\n"
    }
   }
  },
  {
   "cell_type": "code",
   "execution_count": 14,
   "outputs": [],
   "source": [
    "df.to_pickle('comments_df_NEW.pkl')"
   ],
   "metadata": {
    "collapsed": false,
    "pycharm": {
     "name": "#%%\n"
    }
   }
  },
  {
   "cell_type": "code",
   "execution_count": 18,
   "outputs": [
    {
     "data": {
      "text/plain": "array(['\\x00it', '\\x08do', '\\x08fortune', ..., '🫖🐸', '🫖🥳', '𠘨口丅'],\n      dtype=object)"
     },
     "execution_count": 18,
     "metadata": {},
     "output_type": "execute_result"
    }
   ],
   "source": [
    "from sklearn.feature_extraction.text import CountVectorizer\n",
    "cv = CountVectorizer(token_pattern=r'[^\\s]+')\n",
    "data_cv = cv.fit_transform(df['body'])\n",
    "temp = cv.get_feature_names_out()"
   ],
   "metadata": {
    "collapsed": false,
    "pycharm": {
     "name": "#%%\n"
    }
   }
  },
  {
   "cell_type": "code",
   "execution_count": 19,
   "outputs": [],
   "source": [
    "textfile = open(\"a_file.txt\", \"w\")\n",
    "for item in temp:\n",
    "    textfile.write(item + \"\\n\")\n",
    "textfile.close()"
   ],
   "metadata": {
    "collapsed": false,
    "pycharm": {
     "name": "#%%\n"
    }
   }
  },
  {
   "cell_type": "code",
   "execution_count": null,
   "outputs": [],
   "source": [],
   "metadata": {
    "collapsed": false,
    "pycharm": {
     "name": "#%%\n"
    }
   }
  }
 ],
 "metadata": {
  "kernelspec": {
   "display_name": "Python 3",
   "language": "python",
   "name": "python3"
  },
  "language_info": {
   "codemirror_mode": {
    "name": "ipython",
    "version": 2
   },
   "file_extension": ".py",
   "mimetype": "text/x-python",
   "name": "python",
   "nbconvert_exporter": "python",
   "pygments_lexer": "ipython2",
   "version": "2.7.6"
  }
 },
 "nbformat": 4,
 "nbformat_minor": 0
}