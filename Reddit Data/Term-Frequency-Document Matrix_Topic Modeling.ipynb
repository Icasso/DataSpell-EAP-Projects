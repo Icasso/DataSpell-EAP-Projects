{
 "cells": [
  {
   "cell_type": "code",
   "execution_count": 1,
   "metadata": {
    "collapsed": true
   },
   "outputs": [],
   "source": [
    "import pandas as pd"
   ]
  },
  {
   "cell_type": "code",
   "execution_count": 2,
   "outputs": [],
   "source": [
    "df = pd.read_pickle('../Sentiment Analysis/comments_fin_df.pkl')\n",
    "df = df[df['Symbol'] != '']"
   ],
   "metadata": {
    "collapsed": false,
    "pycharm": {
     "name": "#%%\n"
    }
   }
  },
  {
   "cell_type": "code",
   "execution_count": 3,
   "outputs": [
    {
     "name": "stdout",
     "output_type": "stream",
     "text": [
      "CPU times: user 997 ms, sys: 41.8 ms, total: 1.04 s\n",
      "Wall time: 1.04 s\n"
     ]
    }
   ],
   "source": [
    "%%time\n",
    "GME_df = df[df['Symbol'] == 'GME']\n",
    "AMC_df = df[df['Symbol'] == 'AMC']\n",
    "BB_df = df[df['Symbol'] == 'BB']\n",
    "PLTR_df = df[df['Symbol'] == 'PLTR']\n",
    "TSLA_df = df[df['Symbol'] == 'TSLA']\n",
    "RH_df = df[df['Symbol'] == 'RH']\n",
    "NOK_df = df[df['Symbol'] == 'NOK']\n",
    "RKT_df = df[df['Symbol'] == 'RKT']\n",
    "AMD_df = df[df['Symbol'] == 'AMD']\n",
    "TLRY_df = df[df['Symbol'] == 'TLRY']"
   ],
   "metadata": {
    "collapsed": false,
    "pycharm": {
     "name": "#%%\n"
    }
   }
  },
  {
   "cell_type": "code",
   "execution_count": 4,
   "outputs": [
    {
     "name": "stdout",
     "output_type": "stream",
     "text": [
      "CPU times: user 24.6 ms, sys: 1.13 ms, total: 25.7 ms\n",
      "Wall time: 25.6 ms\n"
     ]
    }
   ],
   "source": [
    "%%time\n",
    "GME_body_list = GME_df['body'].tolist()\n",
    "AMC_body_list = AMC_df['body'].tolist()\n",
    "BB_body_list = BB_df['body'].tolist()\n",
    "PLTR_body_list = PLTR_df['body'].tolist()\n",
    "TSLA_body_list = TSLA_df['body'].tolist()\n",
    "RH_body_list = RH_df['body'].tolist()\n",
    "NOK_body_list = NOK_df['body'].tolist()\n",
    "RKT_body_list = RKT_df['body'].tolist()\n",
    "AMD_body_list = AMD_df['body'].tolist()\n",
    "TLRY_body_list = TLRY_df['body'].tolist()"
   ],
   "metadata": {
    "collapsed": false,
    "pycharm": {
     "name": "#%%\n"
    }
   }
  },
  {
   "cell_type": "code",
   "execution_count": 5,
   "outputs": [
    {
     "name": "stdout",
     "output_type": "stream",
     "text": [
      "CPU times: user 197 ms, sys: 43.5 ms, total: 240 ms\n",
      "Wall time: 239 ms\n"
     ]
    }
   ],
   "source": [
    "%%time\n",
    "GME_body = ' '.join(GME_body_list)\n",
    "AMC_body = ' '.join(AMC_body_list)\n",
    "BB_body = ' '.join(BB_body_list)\n",
    "PLTR_body = ' '.join(PLTR_body_list)\n",
    "TSLA_body = ' '.join(TSLA_body_list)\n",
    "RH_body = ' '.join(RH_body_list)\n",
    "NOK_body = ' '.join(NOK_body_list)\n",
    "RKT_body = ' '.join(RKT_body_list)\n",
    "AMD_body = ' '.join(AMD_body_list)\n",
    "TLRY_body = ' '.join(TLRY_body_list)"
   ],
   "metadata": {
    "collapsed": false,
    "pycharm": {
     "name": "#%%\n"
    }
   }
  },
  {
   "cell_type": "code",
   "execution_count": 6,
   "outputs": [
    {
     "name": "stdout",
     "output_type": "stream",
     "text": [
      "CPU times: user 3 µs, sys: 1e+03 ns, total: 4 µs\n",
      "Wall time: 6.2 µs\n"
     ]
    }
   ],
   "source": [
    "%%time\n",
    "body_list = [GME_body, AMC_body, BB_body, PLTR_body, TSLA_body, RH_body, NOK_body, RKT_body, AMD_body, TLRY_body]"
   ],
   "metadata": {
    "collapsed": false,
    "pycharm": {
     "name": "#%%\n"
    }
   }
  },
  {
   "cell_type": "code",
   "execution_count": 7,
   "outputs": [
    {
     "data": {
      "text/plain": "10"
     },
     "execution_count": 7,
     "metadata": {},
     "output_type": "execute_result"
    }
   ],
   "source": [
    "len(body_list)"
   ],
   "metadata": {
    "collapsed": false,
    "pycharm": {
     "name": "#%%\n"
    }
   }
  },
  {
   "cell_type": "code",
   "execution_count": 8,
   "outputs": [
    {
     "name": "stdout",
     "output_type": "stream",
     "text": [
      "CPU times: user 8.69 s, sys: 1.82 s, total: 10.5 s\n",
      "Wall time: 9.32 s\n"
     ]
    }
   ],
   "source": [
    "%%time\n",
    "from sklearn.feature_extraction.text import CountVectorizer\n",
    "## Count Vectorizer\n",
    "vect = CountVectorizer(stop_words='english')\n",
    "vects = vect.fit_transform(body_list)"
   ],
   "metadata": {
    "collapsed": false,
    "pycharm": {
     "name": "#%%\n"
    }
   }
  },
  {
   "cell_type": "code",
   "execution_count": 9,
   "outputs": [
    {
     "data": {
      "text/plain": "           GME   AMC   BB  PLTR  TSLA   RH  NOK  RKT  AMD  TLRY  total_count\n00        1759   706  294   201   140  198  107  120   57    93         3675\n000       8583  1781  576   280   814  582  245  143  121    93        13218\n0000        11     2    1     1     0    0    0    1    0     0           16\n00000        1     0    0     0     0    0    0    0    0     0            1\n000000       4     0    1     0     0    0    0    1    0     0            6\n...        ...   ...  ...   ...   ...  ...  ...  ...  ...   ...          ...\n𝗸𝘆𝘀          0     0    0     0     0    1    0    0    0     0            1\n𝘁𝗵𝗲𝗿𝗲        0     0    0     0     0    0    1    0    0     0            1\n𝘨𝘳𝘦𝘢𝘵𝘦𝘴𝘵     1     0    0     0     0    0    0    0    0     0            1\n𝙝𝙪𝙜𝙚         0     0    0     0     1    0    0    0    0     0            1\n𝟬𝟬𝟬          2     0    0     0     0    0    0    0    0     0            2\n\n[124697 rows x 11 columns]",
      "text/html": "<div>\n<style scoped>\n    .dataframe tbody tr th:only-of-type {\n        vertical-align: middle;\n    }\n\n    .dataframe tbody tr th {\n        vertical-align: top;\n    }\n\n    .dataframe thead th {\n        text-align: right;\n    }\n</style>\n<table border=\"1\" class=\"dataframe\">\n  <thead>\n    <tr style=\"text-align: right;\">\n      <th></th>\n      <th>GME</th>\n      <th>AMC</th>\n      <th>BB</th>\n      <th>PLTR</th>\n      <th>TSLA</th>\n      <th>RH</th>\n      <th>NOK</th>\n      <th>RKT</th>\n      <th>AMD</th>\n      <th>TLRY</th>\n      <th>total_count</th>\n    </tr>\n  </thead>\n  <tbody>\n    <tr>\n      <th>00</th>\n      <td>1759</td>\n      <td>706</td>\n      <td>294</td>\n      <td>201</td>\n      <td>140</td>\n      <td>198</td>\n      <td>107</td>\n      <td>120</td>\n      <td>57</td>\n      <td>93</td>\n      <td>3675</td>\n    </tr>\n    <tr>\n      <th>000</th>\n      <td>8583</td>\n      <td>1781</td>\n      <td>576</td>\n      <td>280</td>\n      <td>814</td>\n      <td>582</td>\n      <td>245</td>\n      <td>143</td>\n      <td>121</td>\n      <td>93</td>\n      <td>13218</td>\n    </tr>\n    <tr>\n      <th>0000</th>\n      <td>11</td>\n      <td>2</td>\n      <td>1</td>\n      <td>1</td>\n      <td>0</td>\n      <td>0</td>\n      <td>0</td>\n      <td>1</td>\n      <td>0</td>\n      <td>0</td>\n      <td>16</td>\n    </tr>\n    <tr>\n      <th>00000</th>\n      <td>1</td>\n      <td>0</td>\n      <td>0</td>\n      <td>0</td>\n      <td>0</td>\n      <td>0</td>\n      <td>0</td>\n      <td>0</td>\n      <td>0</td>\n      <td>0</td>\n      <td>1</td>\n    </tr>\n    <tr>\n      <th>000000</th>\n      <td>4</td>\n      <td>0</td>\n      <td>1</td>\n      <td>0</td>\n      <td>0</td>\n      <td>0</td>\n      <td>0</td>\n      <td>1</td>\n      <td>0</td>\n      <td>0</td>\n      <td>6</td>\n    </tr>\n    <tr>\n      <th>...</th>\n      <td>...</td>\n      <td>...</td>\n      <td>...</td>\n      <td>...</td>\n      <td>...</td>\n      <td>...</td>\n      <td>...</td>\n      <td>...</td>\n      <td>...</td>\n      <td>...</td>\n      <td>...</td>\n    </tr>\n    <tr>\n      <th>𝗸𝘆𝘀</th>\n      <td>0</td>\n      <td>0</td>\n      <td>0</td>\n      <td>0</td>\n      <td>0</td>\n      <td>1</td>\n      <td>0</td>\n      <td>0</td>\n      <td>0</td>\n      <td>0</td>\n      <td>1</td>\n    </tr>\n    <tr>\n      <th>𝘁𝗵𝗲𝗿𝗲</th>\n      <td>0</td>\n      <td>0</td>\n      <td>0</td>\n      <td>0</td>\n      <td>0</td>\n      <td>0</td>\n      <td>1</td>\n      <td>0</td>\n      <td>0</td>\n      <td>0</td>\n      <td>1</td>\n    </tr>\n    <tr>\n      <th>𝘨𝘳𝘦𝘢𝘵𝘦𝘴𝘵</th>\n      <td>1</td>\n      <td>0</td>\n      <td>0</td>\n      <td>0</td>\n      <td>0</td>\n      <td>0</td>\n      <td>0</td>\n      <td>0</td>\n      <td>0</td>\n      <td>0</td>\n      <td>1</td>\n    </tr>\n    <tr>\n      <th>𝙝𝙪𝙜𝙚</th>\n      <td>0</td>\n      <td>0</td>\n      <td>0</td>\n      <td>0</td>\n      <td>1</td>\n      <td>0</td>\n      <td>0</td>\n      <td>0</td>\n      <td>0</td>\n      <td>0</td>\n      <td>1</td>\n    </tr>\n    <tr>\n      <th>𝟬𝟬𝟬</th>\n      <td>2</td>\n      <td>0</td>\n      <td>0</td>\n      <td>0</td>\n      <td>0</td>\n      <td>0</td>\n      <td>0</td>\n      <td>0</td>\n      <td>0</td>\n      <td>0</td>\n      <td>2</td>\n    </tr>\n  </tbody>\n</table>\n<p>124697 rows × 11 columns</p>\n</div>"
     },
     "execution_count": 9,
     "metadata": {},
     "output_type": "execute_result"
    }
   ],
   "source": [
    "data = pd.DataFrame(vects.toarray(), columns=vect.get_feature_names_out())\n",
    "data_matrix = data.T\n",
    "data_matrix.columns = ['GME', 'AMC', 'BB', 'PLTR', 'TSLA', 'RH', 'NOK', 'RKT', 'AMD', 'TLRY']\n",
    "data_matrix['total_count'] = data_matrix.sum(axis=1)\n",
    "data_matrix"
   ],
   "metadata": {
    "collapsed": false,
    "pycharm": {
     "name": "#%%\n"
    }
   }
  },
  {
   "cell_type": "code",
   "execution_count": 10,
   "outputs": [
    {
     "data": {
      "text/plain": "                    GME     AMC      BB  PLTR  TSLA     RH   NOK   RKT   AMD  \\\ngme              626789   45478   16279  3728  2541   7990  6509  4802   609   \namc               53761  263243   12986   596   358   1868  7545   614   333   \nbb                17506   12773  165854  1254   333    732  5119   180   175   \nbuy               88935   32423   14135  5905  5864  11427  5972  2701  2438   \njust              79417   24115   12350  6697  7144  12060  3946  3437  3007   \n...                 ...     ...     ...   ...   ...    ...   ...   ...   ...   \ndeeaayyuumm           0       1       0     0     0      0     0     0     0   \nnuggetlover1999       1       0       0     0     0      0     0     0     0   \ndedudction            1       0       0     0     0      0     0     0     0   \nnuggetssssss          0       1       0     0     0      0     0     0     0   \ninternalise           0       0       0     0     0      1     0     0     0   \n\n                 TLRY  total_count  \ngme               676       715401  \namc               309       341613  \nbb                346       204272  \nbuy              2013       171813  \njust             2341       154514  \n...               ...          ...  \ndeeaayyuumm         0            1  \nnuggetlover1999     0            1  \ndedudction          0            1  \nnuggetssssss        0            1  \ninternalise         0            1  \n\n[124697 rows x 11 columns]",
      "text/html": "<div>\n<style scoped>\n    .dataframe tbody tr th:only-of-type {\n        vertical-align: middle;\n    }\n\n    .dataframe tbody tr th {\n        vertical-align: top;\n    }\n\n    .dataframe thead th {\n        text-align: right;\n    }\n</style>\n<table border=\"1\" class=\"dataframe\">\n  <thead>\n    <tr style=\"text-align: right;\">\n      <th></th>\n      <th>GME</th>\n      <th>AMC</th>\n      <th>BB</th>\n      <th>PLTR</th>\n      <th>TSLA</th>\n      <th>RH</th>\n      <th>NOK</th>\n      <th>RKT</th>\n      <th>AMD</th>\n      <th>TLRY</th>\n      <th>total_count</th>\n    </tr>\n  </thead>\n  <tbody>\n    <tr>\n      <th>gme</th>\n      <td>626789</td>\n      <td>45478</td>\n      <td>16279</td>\n      <td>3728</td>\n      <td>2541</td>\n      <td>7990</td>\n      <td>6509</td>\n      <td>4802</td>\n      <td>609</td>\n      <td>676</td>\n      <td>715401</td>\n    </tr>\n    <tr>\n      <th>amc</th>\n      <td>53761</td>\n      <td>263243</td>\n      <td>12986</td>\n      <td>596</td>\n      <td>358</td>\n      <td>1868</td>\n      <td>7545</td>\n      <td>614</td>\n      <td>333</td>\n      <td>309</td>\n      <td>341613</td>\n    </tr>\n    <tr>\n      <th>bb</th>\n      <td>17506</td>\n      <td>12773</td>\n      <td>165854</td>\n      <td>1254</td>\n      <td>333</td>\n      <td>732</td>\n      <td>5119</td>\n      <td>180</td>\n      <td>175</td>\n      <td>346</td>\n      <td>204272</td>\n    </tr>\n    <tr>\n      <th>buy</th>\n      <td>88935</td>\n      <td>32423</td>\n      <td>14135</td>\n      <td>5905</td>\n      <td>5864</td>\n      <td>11427</td>\n      <td>5972</td>\n      <td>2701</td>\n      <td>2438</td>\n      <td>2013</td>\n      <td>171813</td>\n    </tr>\n    <tr>\n      <th>just</th>\n      <td>79417</td>\n      <td>24115</td>\n      <td>12350</td>\n      <td>6697</td>\n      <td>7144</td>\n      <td>12060</td>\n      <td>3946</td>\n      <td>3437</td>\n      <td>3007</td>\n      <td>2341</td>\n      <td>154514</td>\n    </tr>\n    <tr>\n      <th>...</th>\n      <td>...</td>\n      <td>...</td>\n      <td>...</td>\n      <td>...</td>\n      <td>...</td>\n      <td>...</td>\n      <td>...</td>\n      <td>...</td>\n      <td>...</td>\n      <td>...</td>\n      <td>...</td>\n    </tr>\n    <tr>\n      <th>deeaayyuumm</th>\n      <td>0</td>\n      <td>1</td>\n      <td>0</td>\n      <td>0</td>\n      <td>0</td>\n      <td>0</td>\n      <td>0</td>\n      <td>0</td>\n      <td>0</td>\n      <td>0</td>\n      <td>1</td>\n    </tr>\n    <tr>\n      <th>nuggetlover1999</th>\n      <td>1</td>\n      <td>0</td>\n      <td>0</td>\n      <td>0</td>\n      <td>0</td>\n      <td>0</td>\n      <td>0</td>\n      <td>0</td>\n      <td>0</td>\n      <td>0</td>\n      <td>1</td>\n    </tr>\n    <tr>\n      <th>dedudction</th>\n      <td>1</td>\n      <td>0</td>\n      <td>0</td>\n      <td>0</td>\n      <td>0</td>\n      <td>0</td>\n      <td>0</td>\n      <td>0</td>\n      <td>0</td>\n      <td>0</td>\n      <td>1</td>\n    </tr>\n    <tr>\n      <th>nuggetssssss</th>\n      <td>0</td>\n      <td>1</td>\n      <td>0</td>\n      <td>0</td>\n      <td>0</td>\n      <td>0</td>\n      <td>0</td>\n      <td>0</td>\n      <td>0</td>\n      <td>0</td>\n      <td>1</td>\n    </tr>\n    <tr>\n      <th>internalise</th>\n      <td>0</td>\n      <td>0</td>\n      <td>0</td>\n      <td>0</td>\n      <td>0</td>\n      <td>1</td>\n      <td>0</td>\n      <td>0</td>\n      <td>0</td>\n      <td>0</td>\n      <td>1</td>\n    </tr>\n  </tbody>\n</table>\n<p>124697 rows × 11 columns</p>\n</div>"
     },
     "execution_count": 10,
     "metadata": {},
     "output_type": "execute_result"
    }
   ],
   "source": [
    "# Top words\n",
    "term_document_matrix = data_matrix.sort_values(by='total_count', ascending=False)\n",
    "term_document_matrix"
   ],
   "metadata": {
    "collapsed": false,
    "pycharm": {
     "name": "#%%\n"
    }
   }
  },
  {
   "cell_type": "code",
   "execution_count": 11,
   "outputs": [
    {
     "data": {
      "text/plain": "                    GME     AMC      BB  PLTR  TSLA     RH   NOK   RKT   AMD  \\\ngme              626789   45478   16279  3728  2541   7990  6509  4802   609   \namc               53761  263243   12986   596   358   1868  7545   614   333   \nbb                17506   12773  165854  1254   333    732  5119   180   175   \nbuy               88935   32423   14135  5905  5864  11427  5972  2701  2438   \njust              79417   24115   12350  6697  7144  12060  3946  3437  3007   \n...                 ...     ...     ...   ...   ...    ...   ...   ...   ...   \ndeeaayyuumm           0       1       0     0     0      0     0     0     0   \nnuggetlover1999       1       0       0     0     0      0     0     0     0   \ndedudction            1       0       0     0     0      0     0     0     0   \nnuggetssssss          0       1       0     0     0      0     0     0     0   \ninternalise           0       0       0     0     0      1     0     0     0   \n\n                 TLRY  \ngme               676  \namc               309  \nbb                346  \nbuy              2013  \njust             2341  \n...               ...  \ndeeaayyuumm         0  \nnuggetlover1999     0  \ndedudction          0  \nnuggetssssss        0  \ninternalise         0  \n\n[124697 rows x 10 columns]",
      "text/html": "<div>\n<style scoped>\n    .dataframe tbody tr th:only-of-type {\n        vertical-align: middle;\n    }\n\n    .dataframe tbody tr th {\n        vertical-align: top;\n    }\n\n    .dataframe thead th {\n        text-align: right;\n    }\n</style>\n<table border=\"1\" class=\"dataframe\">\n  <thead>\n    <tr style=\"text-align: right;\">\n      <th></th>\n      <th>GME</th>\n      <th>AMC</th>\n      <th>BB</th>\n      <th>PLTR</th>\n      <th>TSLA</th>\n      <th>RH</th>\n      <th>NOK</th>\n      <th>RKT</th>\n      <th>AMD</th>\n      <th>TLRY</th>\n    </tr>\n  </thead>\n  <tbody>\n    <tr>\n      <th>gme</th>\n      <td>626789</td>\n      <td>45478</td>\n      <td>16279</td>\n      <td>3728</td>\n      <td>2541</td>\n      <td>7990</td>\n      <td>6509</td>\n      <td>4802</td>\n      <td>609</td>\n      <td>676</td>\n    </tr>\n    <tr>\n      <th>amc</th>\n      <td>53761</td>\n      <td>263243</td>\n      <td>12986</td>\n      <td>596</td>\n      <td>358</td>\n      <td>1868</td>\n      <td>7545</td>\n      <td>614</td>\n      <td>333</td>\n      <td>309</td>\n    </tr>\n    <tr>\n      <th>bb</th>\n      <td>17506</td>\n      <td>12773</td>\n      <td>165854</td>\n      <td>1254</td>\n      <td>333</td>\n      <td>732</td>\n      <td>5119</td>\n      <td>180</td>\n      <td>175</td>\n      <td>346</td>\n    </tr>\n    <tr>\n      <th>buy</th>\n      <td>88935</td>\n      <td>32423</td>\n      <td>14135</td>\n      <td>5905</td>\n      <td>5864</td>\n      <td>11427</td>\n      <td>5972</td>\n      <td>2701</td>\n      <td>2438</td>\n      <td>2013</td>\n    </tr>\n    <tr>\n      <th>just</th>\n      <td>79417</td>\n      <td>24115</td>\n      <td>12350</td>\n      <td>6697</td>\n      <td>7144</td>\n      <td>12060</td>\n      <td>3946</td>\n      <td>3437</td>\n      <td>3007</td>\n      <td>2341</td>\n    </tr>\n    <tr>\n      <th>...</th>\n      <td>...</td>\n      <td>...</td>\n      <td>...</td>\n      <td>...</td>\n      <td>...</td>\n      <td>...</td>\n      <td>...</td>\n      <td>...</td>\n      <td>...</td>\n      <td>...</td>\n    </tr>\n    <tr>\n      <th>deeaayyuumm</th>\n      <td>0</td>\n      <td>1</td>\n      <td>0</td>\n      <td>0</td>\n      <td>0</td>\n      <td>0</td>\n      <td>0</td>\n      <td>0</td>\n      <td>0</td>\n      <td>0</td>\n    </tr>\n    <tr>\n      <th>nuggetlover1999</th>\n      <td>1</td>\n      <td>0</td>\n      <td>0</td>\n      <td>0</td>\n      <td>0</td>\n      <td>0</td>\n      <td>0</td>\n      <td>0</td>\n      <td>0</td>\n      <td>0</td>\n    </tr>\n    <tr>\n      <th>dedudction</th>\n      <td>1</td>\n      <td>0</td>\n      <td>0</td>\n      <td>0</td>\n      <td>0</td>\n      <td>0</td>\n      <td>0</td>\n      <td>0</td>\n      <td>0</td>\n      <td>0</td>\n    </tr>\n    <tr>\n      <th>nuggetssssss</th>\n      <td>0</td>\n      <td>1</td>\n      <td>0</td>\n      <td>0</td>\n      <td>0</td>\n      <td>0</td>\n      <td>0</td>\n      <td>0</td>\n      <td>0</td>\n      <td>0</td>\n    </tr>\n    <tr>\n      <th>internalise</th>\n      <td>0</td>\n      <td>0</td>\n      <td>0</td>\n      <td>0</td>\n      <td>0</td>\n      <td>1</td>\n      <td>0</td>\n      <td>0</td>\n      <td>0</td>\n      <td>0</td>\n    </tr>\n  </tbody>\n</table>\n<p>124697 rows × 10 columns</p>\n</div>"
     },
     "execution_count": 11,
     "metadata": {},
     "output_type": "execute_result"
    }
   ],
   "source": [
    "# term_document_matrix.to_pickle('term_document_matrix.pkl')\n",
    "term_document_matrix = term_document_matrix.drop(columns=['total_count'])\n",
    "term_document_matrix"
   ],
   "metadata": {
    "collapsed": false,
    "pycharm": {
     "name": "#%%\n"
    }
   }
  },
  {
   "cell_type": "code",
   "execution_count": 12,
   "outputs": [],
   "source": [
    "term_document_matrix.to_pickle('term_document_matrix.pkl')"
   ],
   "metadata": {
    "collapsed": false,
    "pycharm": {
     "name": "#%%\n"
    }
   }
  },
  {
   "cell_type": "code",
   "execution_count": 28,
   "outputs": [
    {
     "data": {
      "text/plain": "{('GME', 'AMC'): 0.34117544318315574,\n ('GME', 'BB'): 0.21292011206171174,\n ('GME', 'PLTR'): 0.13805548526086722,\n ('GME', 'TSLA'): 0.13739857217653695,\n ('GME', 'RH'): 0.26551693934345005,\n ('GME', 'NOK'): 0.151589060837327,\n ('GME', 'RKT'): 0.23507753256236566,\n ('GME', 'AMD'): 0.1264859285660242,\n ('GME', 'TLRY'): 0.11824772638151305,\n ('AMC', 'BB'): 0.20545845709464086,\n ('AMC', 'PLTR'): 0.0870787958487049,\n ('AMC', 'TSLA'): 0.08935623269070925,\n ('AMC', 'RH'): 0.16149072863097277,\n ('AMC', 'NOK'): 0.17628189821298917,\n ('AMC', 'RKT'): 0.12429910466208871,\n ('AMC', 'AMD'): 0.0949630187163324,\n ('AMC', 'TLRY'): 0.08760534003605773,\n ('BB', 'PLTR'): 0.09081139954747416,\n ('BB', 'TSLA'): 0.07789249521631897,\n ('BB', 'RH'): 0.11849084842610987,\n ('BB', 'NOK'): 0.14833311158854331,\n ('BB', 'RKT'): 0.09398148434273042,\n ('BB', 'AMD'): 0.08090347031705043,\n ('BB', 'TLRY'): 0.08018712759684345,\n ('PLTR', 'TSLA'): 0.09342130121315904,\n ('PLTR', 'RH'): 0.10336291391156956,\n ('PLTR', 'NOK'): 0.04738616363314707,\n ('PLTR', 'RKT'): 0.10067437072085349,\n ('PLTR', 'AMD'): 0.08979310412679521,\n ('PLTR', 'TLRY'): 0.07404397438153111,\n ('TSLA', 'RH'): 0.11457003586694504,\n ('TSLA', 'NOK'): 0.04673247097533329,\n ('TSLA', 'RKT'): 0.0946862706200598,\n ('TSLA', 'AMD'): 0.10392942068882216,\n ('TSLA', 'TLRY'): 0.07822044790071506,\n ('RH', 'NOK'): 0.0821518581007519,\n ('RH', 'RKT'): 0.13200520327057222,\n ('RH', 'AMD'): 0.11692228692135949,\n ('RH', 'TLRY'): 0.10013716648319937,\n ('NOK', 'RKT'): 0.06048898531304239,\n ('NOK', 'AMD'): 0.04914871345686427,\n ('NOK', 'TLRY'): 0.04483081357642331,\n ('RKT', 'AMD'): 0.0971486799641022,\n ('RKT', 'TLRY'): 0.0864723479305109,\n ('AMD', 'TLRY'): 0.08092344782672962}"
     },
     "execution_count": 28,
     "metadata": {},
     "output_type": "execute_result"
    }
   ],
   "source": [
    "# Cosine Similarity between Documents\n",
    "import math\n",
    "\n",
    "# Cosine Similarity function\n",
    "def cosine_similarity(a,b):\n",
    "    sumxx, sumxy, sumyy = 0, 0, 0\n",
    "    for i in range(len(a)):\n",
    "        x = a[i]; y = b[i]\n",
    "        sumxx += x*x\n",
    "        sumyy += y*y\n",
    "        sumxy += x*y\n",
    "    return sumxy/math.sqrt(sumxx*sumyy)\n",
    "\n",
    "# Save the similarity index between the documents\n",
    "def pair(s):\n",
    "    for i, v1 in enumerate(s):\n",
    "        for j in range(i+1, len(s)):\n",
    "            yield [v1, s[j]]\n",
    "\n",
    "dic={}\n",
    "for (a,b) in list(pair(['GME', 'AMC', 'BB', 'PLTR', 'TSLA', 'RH', 'NOK', 'RKT', 'AMD', 'TLRY'])):\n",
    "    dic[(a,b)] = cosine_similarity(term_document_matrix[a].tolist(), term_document_matrix[b].tolist())\n",
    "\n",
    "# Print the cosine similarity\n",
    "dic"
   ],
   "metadata": {
    "collapsed": false,
    "pycharm": {
     "name": "#%%\n"
    }
   }
  },
  {
   "cell_type": "code",
   "execution_count": 59,
   "outputs": [
    {
     "data": {
      "text/plain": "<Figure size 720x720 with 1 Axes>",
      "image/png": "[encoded data removed]"
     },
     "metadata": {
      "needs_background": "light"
     },
     "output_type": "display_data"
    }
   ],
   "source": [
    "import numpy as np\n",
    "documents= ['GME', 'AMC', 'BB', 'PLTR', 'TSLA', 'RH', 'NOK', 'RKT', 'AMD', 'TLRY']\n",
    "final_df = pd.DataFrame(np.asarray([[(dic[(x,y)] if (x,y) in dic else 0) for y in documents] for x in documents]))\n",
    "final_df.columns =  documents\n",
    "final_df.index = documents\n",
    "\n",
    "import matplotlib.pyplot as plt\n",
    "fig, ax = plt.subplots()\n",
    "ax.set_xticks(np.arange(len(documents)), labels=documents)\n",
    "ax.set_yticks(np.arange(len(documents)), labels=documents)\n",
    "ax.matshow(final_df, cmap='seismic')\n",
    "for (i, j), z in np.ndenumerate(final_df):\n",
    "    if z != 0 :\n",
    "        ax.text(j, i, '{:0.2f}'.format(z), ha='center', va='center',\n",
    "                bbox=dict(boxstyle='round', facecolor='white', edgecolor='0.3'))\n",
    "    else:\n",
    "        None\n",
    "fig.suptitle('Cosine Similarity Index between the Documents')\n",
    "fig.set_size_inches(10,10)\n",
    "plt.xticks(np.arange(len(documents)))\n",
    "plt.yticks(np.arange(len(documents)))\n",
    "plt.show()"
   ],
   "metadata": {
    "collapsed": false,
    "pycharm": {
     "name": "#%%\n"
    }
   }
  },
  {
   "cell_type": "code",
   "execution_count": 35,
   "outputs": [
    {
     "data": {
      "text/plain": "      GME       AMC        BB      PLTR      TSLA        RH       NOK  \\\nGME   0.0  0.341175  0.212920  0.138055  0.137399  0.265517  0.151589   \nAMC   0.0  0.000000  0.205458  0.087079  0.089356  0.161491  0.176282   \nBB    0.0  0.000000  0.000000  0.090811  0.077892  0.118491  0.148333   \nPLTR  0.0  0.000000  0.000000  0.000000  0.093421  0.103363  0.047386   \nTSLA  0.0  0.000000  0.000000  0.000000  0.000000  0.114570  0.046732   \nRH    0.0  0.000000  0.000000  0.000000  0.000000  0.000000  0.082152   \nNOK   0.0  0.000000  0.000000  0.000000  0.000000  0.000000  0.000000   \nRKT   0.0  0.000000  0.000000  0.000000  0.000000  0.000000  0.000000   \nAMD   0.0  0.000000  0.000000  0.000000  0.000000  0.000000  0.000000   \nTLRY  0.0  0.000000  0.000000  0.000000  0.000000  0.000000  0.000000   \n\n           RKT       AMD      TLRY  \nGME   0.235078  0.126486  0.118248  \nAMC   0.124299  0.094963  0.087605  \nBB    0.093981  0.080903  0.080187  \nPLTR  0.100674  0.089793  0.074044  \nTSLA  0.094686  0.103929  0.078220  \nRH    0.132005  0.116922  0.100137  \nNOK   0.060489  0.049149  0.044831  \nRKT   0.000000  0.097149  0.086472  \nAMD   0.000000  0.000000  0.080923  \nTLRY  0.000000  0.000000  0.000000  ",
      "text/html": "<div>\n<style scoped>\n    .dataframe tbody tr th:only-of-type {\n        vertical-align: middle;\n    }\n\n    .dataframe tbody tr th {\n        vertical-align: top;\n    }\n\n    .dataframe thead th {\n        text-align: right;\n    }\n</style>\n<table border=\"1\" class=\"dataframe\">\n  <thead>\n    <tr style=\"text-align: right;\">\n      <th></th>\n      <th>GME</th>\n      <th>AMC</th>\n      <th>BB</th>\n      <th>PLTR</th>\n      <th>TSLA</th>\n      <th>RH</th>\n      <th>NOK</th>\n      <th>RKT</th>\n      <th>AMD</th>\n      <th>TLRY</th>\n    </tr>\n  </thead>\n  <tbody>\n    <tr>\n      <th>GME</th>\n      <td>0.0</td>\n      <td>0.341175</td>\n      <td>0.212920</td>\n      <td>0.138055</td>\n      <td>0.137399</td>\n      <td>0.265517</td>\n      <td>0.151589</td>\n      <td>0.235078</td>\n      <td>0.126486</td>\n      <td>0.118248</td>\n    </tr>\n    <tr>\n      <th>AMC</th>\n      <td>0.0</td>\n      <td>0.000000</td>\n      <td>0.205458</td>\n      <td>0.087079</td>\n      <td>0.089356</td>\n      <td>0.161491</td>\n      <td>0.176282</td>\n      <td>0.124299</td>\n      <td>0.094963</td>\n      <td>0.087605</td>\n    </tr>\n    <tr>\n      <th>BB</th>\n      <td>0.0</td>\n      <td>0.000000</td>\n      <td>0.000000</td>\n      <td>0.090811</td>\n      <td>0.077892</td>\n      <td>0.118491</td>\n      <td>0.148333</td>\n      <td>0.093981</td>\n      <td>0.080903</td>\n      <td>0.080187</td>\n    </tr>\n    <tr>\n      <th>PLTR</th>\n      <td>0.0</td>\n      <td>0.000000</td>\n      <td>0.000000</td>\n      <td>0.000000</td>\n      <td>0.093421</td>\n      <td>0.103363</td>\n      <td>0.047386</td>\n      <td>0.100674</td>\n      <td>0.089793</td>\n      <td>0.074044</td>\n    </tr>\n    <tr>\n      <th>TSLA</th>\n      <td>0.0</td>\n      <td>0.000000</td>\n      <td>0.000000</td>\n      <td>0.000000</td>\n      <td>0.000000</td>\n      <td>0.114570</td>\n      <td>0.046732</td>\n      <td>0.094686</td>\n      <td>0.103929</td>\n      <td>0.078220</td>\n    </tr>\n    <tr>\n      <th>RH</th>\n      <td>0.0</td>\n      <td>0.000000</td>\n      <td>0.000000</td>\n      <td>0.000000</td>\n      <td>0.000000</td>\n      <td>0.000000</td>\n      <td>0.082152</td>\n      <td>0.132005</td>\n      <td>0.116922</td>\n      <td>0.100137</td>\n    </tr>\n    <tr>\n      <th>NOK</th>\n      <td>0.0</td>\n      <td>0.000000</td>\n      <td>0.000000</td>\n      <td>0.000000</td>\n      <td>0.000000</td>\n      <td>0.000000</td>\n      <td>0.000000</td>\n      <td>0.060489</td>\n      <td>0.049149</td>\n      <td>0.044831</td>\n    </tr>\n    <tr>\n      <th>RKT</th>\n      <td>0.0</td>\n      <td>0.000000</td>\n      <td>0.000000</td>\n      <td>0.000000</td>\n      <td>0.000000</td>\n      <td>0.000000</td>\n      <td>0.000000</td>\n      <td>0.000000</td>\n      <td>0.097149</td>\n      <td>0.086472</td>\n    </tr>\n    <tr>\n      <th>AMD</th>\n      <td>0.0</td>\n      <td>0.000000</td>\n      <td>0.000000</td>\n      <td>0.000000</td>\n      <td>0.000000</td>\n      <td>0.000000</td>\n      <td>0.000000</td>\n      <td>0.000000</td>\n      <td>0.000000</td>\n      <td>0.080923</td>\n    </tr>\n    <tr>\n      <th>TLRY</th>\n      <td>0.0</td>\n      <td>0.000000</td>\n      <td>0.000000</td>\n      <td>0.000000</td>\n      <td>0.000000</td>\n      <td>0.000000</td>\n      <td>0.000000</td>\n      <td>0.000000</td>\n      <td>0.000000</td>\n      <td>0.000000</td>\n    </tr>\n  </tbody>\n</table>\n</div>"
     },
     "execution_count": 35,
     "metadata": {},
     "output_type": "execute_result"
    }
   ],
   "source": [
    "final_df"
   ],
   "metadata": {
    "collapsed": false,
    "pycharm": {
     "name": "#%%\n"
    }
   }
  },
  {
   "cell_type": "code",
   "execution_count": 30,
   "outputs": [
    {
     "name": "stderr",
     "output_type": "stream",
     "text": [
      "[nltk_data] Downloading package stopwords to /Users/isaac/nltk_data...\n",
      "[nltk_data]   Package stopwords is already up-to-date!\n"
     ]
    }
   ],
   "source": [
    "# Topic Modelling\n",
    "import gensim\n",
    "from gensim.utils import simple_preprocess\n",
    "import nltk\n",
    "import ssl\n",
    "try:\n",
    "    _create_unverified_https_context = ssl._create_unverified_context\n",
    "except AttributeError:\n",
    "    pass\n",
    "else:\n",
    "    ssl._create_default_https_context = _create_unverified_https_context\n",
    "nltk.download('stopwords')\n",
    "from nltk.corpus import stopwords\n",
    "stop_words = stopwords.words('english')\n",
    "\n",
    "def sent_to_words(sentences):\n",
    "    for sentence in sentences:\n",
    "        yield gensim.utils.simple_preprocess(str(sentence), deacc=True)\n",
    "\n",
    "def remove_stopwords(texts):\n",
    "    return [[word for word in simple_preprocess(str(doc))\n",
    "             if word not in stop_words] for doc in texts]\n",
    "data = body_list\n",
    "data_words = list(sent_to_words(data))\n",
    "# remove stop words\n",
    "data_words = remove_stopwords(data_words)\n",
    "\n",
    "import gensim.corpora as corpora\n",
    "# Create Dictionary\n",
    "id2word = corpora.Dictionary(data_words)\n",
    "# Create Corpus\n",
    "texts = data_words\n",
    "# Term Document Frequency\n",
    "corpus = [id2word.doc2bow(text) for text in texts]"
   ],
   "metadata": {
    "collapsed": false,
    "pycharm": {
     "name": "#%%\n"
    }
   }
  },
  {
   "cell_type": "code",
   "execution_count": 31,
   "outputs": [
    {
     "name": "stdout",
     "output_type": "stream",
     "text": [
      "[(0, '0.054*\"gme\" + 0.022*\"amc\" + 0.010*\"buy\" + 0.009*\"like\" + 0.008*\"stock\" + 0.008*\"pltr\" + 0.007*\"shares\" + 0.006*\"tsla\" + 0.006*\"bb\" + 0.006*\"get\"'), (1, '0.044*\"bb\" + 0.042*\"gme\" + 0.028*\"amc\" + 0.009*\"buy\" + 0.009*\"like\" + 0.008*\"shares\" + 0.006*\"stock\" + 0.006*\"money\" + 0.006*\"get\" + 0.006*\"people\"'), (2, '0.046*\"gme\" + 0.025*\"nok\" + 0.012*\"buy\" + 0.011*\"amc\" + 0.010*\"pltr\" + 0.010*\"rh\" + 0.009*\"bb\" + 0.009*\"shares\" + 0.009*\"like\" + 0.006*\"get\"'), (3, '0.030*\"nok\" + 0.025*\"gme\" + 0.020*\"bb\" + 0.013*\"tsla\" + 0.012*\"amc\" + 0.010*\"buy\" + 0.008*\"rkt\" + 0.007*\"stock\" + 0.007*\"like\" + 0.006*\"amd\"'), (4, '0.037*\"amc\" + 0.032*\"bb\" + 0.024*\"gme\" + 0.015*\"buy\" + 0.009*\"nok\" + 0.009*\"like\" + 0.009*\"shares\" + 0.007*\"going\" + 0.007*\"tsla\" + 0.007*\"stock\"'), (5, '0.051*\"gme\" + 0.030*\"amc\" + 0.013*\"pltr\" + 0.012*\"buy\" + 0.009*\"shares\" + 0.007*\"stock\" + 0.007*\"like\" + 0.006*\"get\" + 0.006*\"money\" + 0.006*\"hold\"'), (6, '0.061*\"gme\" + 0.011*\"amc\" + 0.011*\"buy\" + 0.009*\"shares\" + 0.008*\"rh\" + 0.007*\"tsla\" + 0.006*\"like\" + 0.006*\"bb\" + 0.005*\"money\" + 0.005*\"going\"'), (7, '0.040*\"gme\" + 0.034*\"amc\" + 0.011*\"buy\" + 0.011*\"like\" + 0.010*\"bb\" + 0.008*\"shares\" + 0.007*\"get\" + 0.006*\"rh\" + 0.006*\"going\" + 0.006*\"stock\"'), (8, '0.051*\"gme\" + 0.022*\"amc\" + 0.011*\"buy\" + 0.009*\"shares\" + 0.008*\"like\" + 0.007*\"pltr\" + 0.007*\"get\" + 0.006*\"bb\" + 0.006*\"hold\" + 0.006*\"stock\"'), (9, '0.043*\"gme\" + 0.010*\"rh\" + 0.010*\"buy\" + 0.009*\"tlry\" + 0.009*\"pltr\" + 0.008*\"like\" + 0.008*\"amc\" + 0.008*\"shares\" + 0.006*\"tsla\" + 0.006*\"get\"')]\n"
     ]
    }
   ],
   "source": [
    "# number of topics\n",
    "num_topics = 10\n",
    "# Build LDA model\n",
    "lda_model = gensim.models.LdaMulticore(corpus=corpus,\n",
    "                                       id2word=id2word,\n",
    "                                       num_topics=num_topics)\n",
    "# Print the Keyword in the 10 topics\n",
    "print(lda_model.print_topics())\n",
    "doc_lda = lda_model[corpus]"
   ],
   "metadata": {
    "collapsed": false,
    "pycharm": {
     "name": "#%%\n"
    }
   }
  }
 ],
 "metadata": {
  "kernelspec": {
   "display_name": "Python 3",
   "language": "python",
   "name": "python3"
  },
  "language_info": {
   "codemirror_mode": {
    "name": "ipython",
    "version": 2
   },
   "file_extension": ".py",
   "mimetype": "text/x-python",
   "name": "python",
   "nbconvert_exporter": "python",
   "pygments_lexer": "ipython2",
   "version": "2.7.6"
  }
 },
 "nbformat": 4,
 "nbformat_minor": 0
}