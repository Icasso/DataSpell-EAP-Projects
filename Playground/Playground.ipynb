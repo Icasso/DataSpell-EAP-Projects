{
 "cells": [
  {
   "cell_type": "code",
   "execution_count": 1,
   "outputs": [],
   "source": [
    "import pandas as pd"
   ],
   "metadata": {
    "collapsed": false,
    "pycharm": {
     "name": "#%%\n"
    }
   }
  },
  {
   "cell_type": "code",
   "execution_count": 2,
   "metadata": {
    "collapsed": true
   },
   "outputs": [
    {
     "data": {
      "text/plain": "                                                      body created_utc\n4482265                   Not even close to enough rockets  2021-01-01\n2298808                             no product, no revenue  2021-01-01\n4481342                  Green apple Jack Daniels and coke  2021-01-01\n4482266                                         I did this  2021-01-01\n4481339                                       Not his own.  2021-01-01\n...                                                    ...         ...\n6743926      FAUCI is just mad that a bull fuked his wife.  2021-11-28\n6743925  He said in his opinion vaccines where effectiv...  2021-11-28\n6743923  The boyfriend of my wife and his stepmother ar...  2021-11-28\n6743921  This sounds eerily similar to my relationship ...  2021-11-28\n6743428                         Yo College!!! FUK U!!!!! 🤓  2021-11-28\n\n[17681183 rows x 2 columns]",
      "text/html": "<div>\n<style scoped>\n    .dataframe tbody tr th:only-of-type {\n        vertical-align: middle;\n    }\n\n    .dataframe tbody tr th {\n        vertical-align: top;\n    }\n\n    .dataframe thead th {\n        text-align: right;\n    }\n</style>\n<table border=\"1\" class=\"dataframe\">\n  <thead>\n    <tr style=\"text-align: right;\">\n      <th></th>\n      <th>body</th>\n      <th>created_utc</th>\n    </tr>\n  </thead>\n  <tbody>\n    <tr>\n      <th>4482265</th>\n      <td>Not even close to enough rockets</td>\n      <td>2021-01-01</td>\n    </tr>\n    <tr>\n      <th>2298808</th>\n      <td>no product, no revenue</td>\n      <td>2021-01-01</td>\n    </tr>\n    <tr>\n      <th>4481342</th>\n      <td>Green apple Jack Daniels and coke</td>\n      <td>2021-01-01</td>\n    </tr>\n    <tr>\n      <th>4482266</th>\n      <td>I did this</td>\n      <td>2021-01-01</td>\n    </tr>\n    <tr>\n      <th>4481339</th>\n      <td>Not his own.</td>\n      <td>2021-01-01</td>\n    </tr>\n    <tr>\n      <th>...</th>\n      <td>...</td>\n      <td>...</td>\n    </tr>\n    <tr>\n      <th>6743926</th>\n      <td>FAUCI is just mad that a bull fuked his wife.</td>\n      <td>2021-11-28</td>\n    </tr>\n    <tr>\n      <th>6743925</th>\n      <td>He said in his opinion vaccines where effectiv...</td>\n      <td>2021-11-28</td>\n    </tr>\n    <tr>\n      <th>6743923</th>\n      <td>The boyfriend of my wife and his stepmother ar...</td>\n      <td>2021-11-28</td>\n    </tr>\n    <tr>\n      <th>6743921</th>\n      <td>This sounds eerily similar to my relationship ...</td>\n      <td>2021-11-28</td>\n    </tr>\n    <tr>\n      <th>6743428</th>\n      <td>Yo College!!! FUK U!!!!! 🤓</td>\n      <td>2021-11-28</td>\n    </tr>\n  </tbody>\n</table>\n<p>17681183 rows × 2 columns</p>\n</div>"
     },
     "execution_count": 2,
     "metadata": {},
     "output_type": "execute_result"
    }
   ],
   "source": [
    "comments_df = pd.read_pickle('processed_df.pkl')\n",
    "comments_df"
   ]
  },
  {
   "cell_type": "code",
   "execution_count": 3,
   "outputs": [
    {
     "data": {
      "text/plain": "body                   object\ncreated_utc    datetime64[ns]\ndtype: object"
     },
     "execution_count": 3,
     "metadata": {},
     "output_type": "execute_result"
    }
   ],
   "source": [
    "comments_df.dtypes"
   ],
   "metadata": {
    "collapsed": false,
    "pycharm": {
     "name": "#%%\n"
    }
   }
  },
  {
   "cell_type": "markdown",
   "source": [],
   "metadata": {
    "collapsed": false
   }
  },
  {
   "cell_type": "code",
   "execution_count": 4,
   "outputs": [
    {
     "data": {
      "text/plain": "                                                      body created_utc\n4482265                   Not even close to enough rockets  2021-01-01\n2298808                             no product, no revenue  2021-01-01\n4481342                  Green apple Jack Daniels and coke  2021-01-01\n4482266                                         I did this  2021-01-01\n4481339                                       Not his own.  2021-01-01\n...                                                    ...         ...\n6743926      FAUCI is just mad that a bull fuked his wife.  2021-11-28\n6743925  He said in his opinion vaccines where effectiv...  2021-11-28\n6743923  The boyfriend of my wife and his stepmother ar...  2021-11-28\n6743921  This sounds eerily similar to my relationship ...  2021-11-28\n6743428                         Yo College!!! FUK U!!!!! 🤓  2021-11-28\n\n[17681183 rows x 2 columns]",
      "text/html": "<div>\n<style scoped>\n    .dataframe tbody tr th:only-of-type {\n        vertical-align: middle;\n    }\n\n    .dataframe tbody tr th {\n        vertical-align: top;\n    }\n\n    .dataframe thead th {\n        text-align: right;\n    }\n</style>\n<table border=\"1\" class=\"dataframe\">\n  <thead>\n    <tr style=\"text-align: right;\">\n      <th></th>\n      <th>body</th>\n      <th>created_utc</th>\n    </tr>\n  </thead>\n  <tbody>\n    <tr>\n      <th>4482265</th>\n      <td>Not even close to enough rockets</td>\n      <td>2021-01-01</td>\n    </tr>\n    <tr>\n      <th>2298808</th>\n      <td>no product, no revenue</td>\n      <td>2021-01-01</td>\n    </tr>\n    <tr>\n      <th>4481342</th>\n      <td>Green apple Jack Daniels and coke</td>\n      <td>2021-01-01</td>\n    </tr>\n    <tr>\n      <th>4482266</th>\n      <td>I did this</td>\n      <td>2021-01-01</td>\n    </tr>\n    <tr>\n      <th>4481339</th>\n      <td>Not his own.</td>\n      <td>2021-01-01</td>\n    </tr>\n    <tr>\n      <th>...</th>\n      <td>...</td>\n      <td>...</td>\n    </tr>\n    <tr>\n      <th>6743926</th>\n      <td>FAUCI is just mad that a bull fuked his wife.</td>\n      <td>2021-11-28</td>\n    </tr>\n    <tr>\n      <th>6743925</th>\n      <td>He said in his opinion vaccines where effectiv...</td>\n      <td>2021-11-28</td>\n    </tr>\n    <tr>\n      <th>6743923</th>\n      <td>The boyfriend of my wife and his stepmother ar...</td>\n      <td>2021-11-28</td>\n    </tr>\n    <tr>\n      <th>6743921</th>\n      <td>This sounds eerily similar to my relationship ...</td>\n      <td>2021-11-28</td>\n    </tr>\n    <tr>\n      <th>6743428</th>\n      <td>Yo College!!! FUK U!!!!! 🤓</td>\n      <td>2021-11-28</td>\n    </tr>\n  </tbody>\n</table>\n<p>17681183 rows × 2 columns</p>\n</div>"
     },
     "execution_count": 4,
     "metadata": {},
     "output_type": "execute_result"
    }
   ],
   "source": [
    "test_df = comments_df\n",
    "# test_df = comments_df.iloc[0:5000]\n",
    "test_df = test_df.replace('\\x00', '', regex=True)\n",
    "test_df = test_df.replace('\\00', '', regex=True)\n",
    "test_df = test_df.replace('\\0', '', regex=True)\n",
    "test_df"
   ],
   "metadata": {
    "collapsed": false,
    "pycharm": {
     "name": "#%%\n"
    }
   }
  },
  {
   "cell_type": "code",
   "execution_count": 5,
   "outputs": [
    {
     "data": {
      "text/plain": "body                   object\ncreated_utc    datetime64[ns]\ndtype: object"
     },
     "execution_count": 5,
     "metadata": {},
     "output_type": "execute_result"
    }
   ],
   "source": [
    "test_df.dtypes"
   ],
   "metadata": {
    "collapsed": false,
    "pycharm": {
     "name": "#%%\n"
    }
   }
  },
  {
   "cell_type": "code",
   "execution_count": 6,
   "outputs": [],
   "source": [
    "from data import *\n",
    "# us 5553 stocks"
   ],
   "metadata": {
    "collapsed": false,
    "pycharm": {
     "name": "#%%\n"
    }
   }
  },
  {
   "cell_type": "code",
   "execution_count": 7,
   "outputs": [
    {
     "data": {
      "text/plain": "                                                      body created_utc Symbol\n4482265                   Not even close to enough rockets  2021-01-01       \n2298808                             no product, no revenue  2021-01-01       \n4481342                  Green apple Jack Daniels and coke  2021-01-01       \n4482266                                         I did this  2021-01-01       \n4481339                                       Not his own.  2021-01-01       \n...                                                    ...         ...    ...\n6743926      FAUCI is just mad that a bull fuked his wife.  2021-11-28       \n6743925  He said in his opinion vaccines where effectiv...  2021-11-28       \n6743923  The boyfriend of my wife and his stepmother ar...  2021-11-28       \n6743921  This sounds eerily similar to my relationship ...  2021-11-28       \n6743428                         Yo College!!! FUK U!!!!! 🤓  2021-11-28       \n\n[17681183 rows x 3 columns]",
      "text/html": "<div>\n<style scoped>\n    .dataframe tbody tr th:only-of-type {\n        vertical-align: middle;\n    }\n\n    .dataframe tbody tr th {\n        vertical-align: top;\n    }\n\n    .dataframe thead th {\n        text-align: right;\n    }\n</style>\n<table border=\"1\" class=\"dataframe\">\n  <thead>\n    <tr style=\"text-align: right;\">\n      <th></th>\n      <th>body</th>\n      <th>created_utc</th>\n      <th>Symbol</th>\n    </tr>\n  </thead>\n  <tbody>\n    <tr>\n      <th>4482265</th>\n      <td>Not even close to enough rockets</td>\n      <td>2021-01-01</td>\n      <td></td>\n    </tr>\n    <tr>\n      <th>2298808</th>\n      <td>no product, no revenue</td>\n      <td>2021-01-01</td>\n      <td></td>\n    </tr>\n    <tr>\n      <th>4481342</th>\n      <td>Green apple Jack Daniels and coke</td>\n      <td>2021-01-01</td>\n      <td></td>\n    </tr>\n    <tr>\n      <th>4482266</th>\n      <td>I did this</td>\n      <td>2021-01-01</td>\n      <td></td>\n    </tr>\n    <tr>\n      <th>4481339</th>\n      <td>Not his own.</td>\n      <td>2021-01-01</td>\n      <td></td>\n    </tr>\n    <tr>\n      <th>...</th>\n      <td>...</td>\n      <td>...</td>\n      <td>...</td>\n    </tr>\n    <tr>\n      <th>6743926</th>\n      <td>FAUCI is just mad that a bull fuked his wife.</td>\n      <td>2021-11-28</td>\n      <td></td>\n    </tr>\n    <tr>\n      <th>6743925</th>\n      <td>He said in his opinion vaccines where effectiv...</td>\n      <td>2021-11-28</td>\n      <td></td>\n    </tr>\n    <tr>\n      <th>6743923</th>\n      <td>The boyfriend of my wife and his stepmother ar...</td>\n      <td>2021-11-28</td>\n      <td></td>\n    </tr>\n    <tr>\n      <th>6743921</th>\n      <td>This sounds eerily similar to my relationship ...</td>\n      <td>2021-11-28</td>\n      <td></td>\n    </tr>\n    <tr>\n      <th>6743428</th>\n      <td>Yo College!!! FUK U!!!!! 🤓</td>\n      <td>2021-11-28</td>\n      <td></td>\n    </tr>\n  </tbody>\n</table>\n<p>17681183 rows × 3 columns</p>\n</div>"
     },
     "execution_count": 7,
     "metadata": {},
     "output_type": "execute_result"
    }
   ],
   "source": [
    "len(us)\n",
    "test_df[\"Symbol\"] = \"\"\n",
    "test_df"
   ],
   "metadata": {
    "collapsed": false,
    "pycharm": {
     "name": "#%%\n"
    }
   }
  },
  {
   "cell_type": "code",
   "execution_count": 8,
   "outputs": [],
   "source": [
    "body_list = test_df.body.tolist()\n",
    "# body_list[17]\n",
    "# test_list = []\n",
    "# split = body_list[17].split(\" \")\n",
    "# split\n",
    "# for word in split:\n",
    "#     word = word.replace(\"$\", \"\")\n",
    "#     if word.isupper() and len(word) <= 5 and word in us:\n",
    "#         test_list.append(word)\n",
    "# test_list"
   ],
   "metadata": {
    "collapsed": false,
    "pycharm": {
     "name": "#%%\n"
    }
   }
  },
  {
   "cell_type": "code",
   "execution_count": 9,
   "outputs": [
    {
     "data": {
      "text/plain": "['',\n '',\n '',\n '',\n '',\n '',\n '',\n '',\n '',\n '',\n '',\n '',\n '',\n '',\n '',\n '',\n '',\n 'TSLA',\n '',\n '',\n '',\n 'PLTR',\n '',\n '',\n '',\n '',\n '',\n '',\n '',\n 'DD',\n '',\n '',\n '',\n '',\n '',\n '',\n '',\n '',\n '',\n '',\n 'F',\n '',\n '',\n '',\n '',\n '',\n '',\n '',\n '',\n '',\n 'GME',\n '',\n '',\n '',\n 'TSLA',\n '',\n '',\n '',\n '',\n '',\n '',\n 'TSLA',\n '',\n '',\n '',\n '',\n '',\n '',\n 'B',\n '',\n 'DTE',\n '',\n '',\n '',\n '',\n '',\n '',\n '',\n '',\n '',\n 'PHD',\n '',\n '',\n '',\n '',\n '',\n '',\n '',\n '',\n '',\n '',\n 'TSLA',\n '',\n '',\n 'GME',\n '',\n '',\n 'AAPL',\n '',\n '',\n '',\n '',\n '',\n '',\n '',\n 'SQ',\n '',\n '',\n '',\n '',\n '',\n 'USA',\n 'TSLA',\n '',\n '',\n '',\n '',\n '',\n '',\n '',\n '',\n '',\n '',\n '',\n '',\n '',\n '',\n '',\n '',\n '',\n '',\n '',\n '',\n '',\n '',\n '',\n '',\n '',\n '',\n '',\n '',\n 'L',\n '',\n '',\n '',\n '',\n '',\n '',\n '',\n '',\n '',\n '',\n '',\n '',\n '',\n '',\n '',\n '',\n '',\n '',\n '',\n '',\n '',\n '',\n '',\n '',\n '',\n '',\n '',\n 'PLTR',\n '',\n '',\n '',\n '',\n '',\n '',\n '',\n '',\n '',\n '',\n '',\n '',\n '',\n '',\n '',\n '',\n '',\n '',\n '',\n '',\n '',\n '',\n '',\n '',\n '',\n '',\n '',\n '',\n 'AM',\n '',\n '',\n '',\n '',\n '',\n '',\n '',\n '',\n '',\n '',\n '',\n '',\n '',\n '',\n '',\n '',\n '',\n '',\n '',\n '',\n '',\n '',\n '',\n '',\n '',\n '',\n '',\n '',\n '',\n 'TSLA',\n '',\n '',\n '',\n '',\n '',\n '',\n '',\n '',\n '',\n '',\n '',\n '',\n '',\n '',\n '',\n '',\n '',\n '',\n '',\n '',\n '',\n '',\n '',\n '',\n '',\n '',\n '',\n '',\n '',\n '',\n 'PLTR',\n 'L',\n '',\n '',\n 'ZM',\n '',\n '',\n '',\n '',\n '',\n '',\n '',\n '',\n 'PLTR',\n '',\n '',\n '',\n '',\n '',\n 'TSLA',\n '',\n '',\n '',\n '',\n '',\n '',\n '',\n '',\n '',\n '',\n '',\n '',\n '',\n '',\n '',\n '',\n 'PLTR',\n '',\n '',\n '',\n '',\n '',\n '',\n '',\n '',\n '',\n '',\n '',\n '',\n '',\n '',\n '',\n '',\n '',\n '',\n '',\n '',\n '',\n '',\n '',\n '',\n '',\n '',\n '',\n '',\n '',\n '',\n '',\n '',\n '',\n '',\n '',\n '',\n '',\n '',\n '',\n '',\n '',\n '',\n '',\n '',\n '',\n '',\n '',\n '',\n '',\n 'CSIQ',\n '',\n '',\n '',\n 'DTE',\n '',\n '',\n '',\n '',\n '',\n '',\n '',\n '',\n '',\n '',\n 'GME',\n '',\n '',\n 'DD',\n '',\n '',\n '',\n 'RH',\n 'OR',\n '',\n '',\n '',\n '',\n 'DD',\n '',\n '',\n '',\n '',\n '',\n '',\n '',\n '',\n '',\n '',\n '',\n '',\n '',\n '',\n '',\n 'AZN',\n '',\n '',\n '',\n '',\n '',\n '',\n '',\n '',\n '',\n 'TSLA',\n '',\n 'GME',\n '',\n '',\n '',\n '',\n '',\n '',\n '',\n '',\n '',\n 'GME',\n '',\n '',\n '',\n '',\n '',\n '',\n '',\n '',\n '',\n 'A',\n '',\n '',\n '',\n '',\n '',\n '',\n '',\n '',\n '',\n '',\n '',\n '',\n '',\n '',\n '',\n 'B',\n '',\n '',\n '',\n 'ARE',\n '',\n '',\n '',\n '',\n '',\n 'PLTR',\n '',\n '',\n '',\n '',\n '',\n '',\n '',\n '',\n '',\n '',\n '',\n '',\n '',\n '',\n '',\n '',\n '',\n '',\n '',\n 'B',\n '',\n '',\n '',\n '',\n '',\n 'A',\n '',\n '',\n '',\n '',\n '',\n '',\n '',\n '',\n '',\n 'FUN',\n '',\n '',\n '',\n '',\n '',\n '',\n '',\n '',\n '',\n '',\n '',\n '',\n '',\n '',\n '',\n '',\n '',\n '',\n '',\n '',\n '',\n '',\n '',\n '',\n '',\n '',\n '',\n '',\n '',\n '',\n '',\n '',\n '',\n '',\n 'TSLA',\n '',\n '',\n '',\n '',\n '',\n '',\n '',\n '',\n '',\n '',\n '',\n '',\n '',\n '',\n '',\n '',\n '',\n 'VZ',\n '',\n '',\n '',\n '',\n '',\n 'A',\n '',\n '',\n 'QS',\n '',\n '',\n '',\n '',\n '',\n '',\n '',\n '',\n '',\n '',\n '',\n '',\n '',\n '',\n '',\n '',\n '',\n '',\n '',\n '',\n '',\n '',\n '',\n '',\n '',\n '',\n '',\n '',\n '',\n 'JMIA',\n '',\n '',\n '',\n '',\n '',\n '',\n '',\n '',\n '',\n 'GME',\n 'ALL',\n '',\n '',\n '',\n '',\n '',\n '',\n '',\n '',\n '',\n '',\n '',\n '',\n 'TSLA',\n '',\n '',\n '',\n '',\n '',\n '',\n '',\n '',\n '',\n '',\n '',\n '',\n '',\n '',\n '',\n '',\n '',\n '',\n '',\n '',\n '',\n '',\n '',\n '',\n '',\n '',\n '',\n '',\n '',\n '',\n '',\n '',\n '',\n '',\n '',\n '',\n '',\n '',\n 'NIO',\n '',\n '',\n '',\n '',\n '',\n '',\n '',\n '',\n '',\n '',\n '',\n '',\n '',\n '',\n 'IRS',\n '',\n '',\n '',\n '',\n '',\n '',\n '',\n 'A',\n '',\n '',\n '',\n '',\n '',\n '',\n '',\n '',\n '',\n '',\n '',\n '',\n 'GME',\n '',\n 'PLTR',\n '',\n '',\n '',\n '',\n 'GME',\n '',\n '',\n '',\n 'ED',\n '',\n '',\n '',\n '',\n '',\n '',\n '',\n '',\n '',\n '',\n '',\n '',\n '',\n '',\n '',\n 'PM',\n '',\n '',\n '',\n '',\n '',\n '',\n '',\n '',\n '',\n '',\n '',\n '',\n '',\n '',\n '',\n 'AMZN',\n '',\n '',\n '',\n '',\n '',\n '',\n 'TSLA',\n '',\n '',\n 'NIO',\n '',\n '',\n '',\n 'BABA',\n '',\n '',\n '',\n '',\n '',\n '',\n '',\n '',\n 'JPM',\n '',\n '',\n '',\n '',\n '',\n '',\n '',\n '',\n '',\n '',\n '',\n '',\n '',\n '',\n '',\n '',\n '',\n 'NYC',\n '',\n '',\n '',\n '',\n '',\n 'QS',\n 'PLTR',\n '',\n '',\n '',\n 'BABA',\n '',\n '',\n '',\n '',\n 'PLTR',\n 'ZM',\n '',\n 'QS',\n '',\n '',\n '',\n '',\n '',\n '',\n 'PLTR',\n '',\n '',\n '',\n '',\n '',\n '',\n '',\n '',\n '',\n '',\n '',\n '',\n '',\n '',\n '',\n '',\n '',\n '',\n '',\n '',\n '',\n '',\n '',\n '',\n '',\n '',\n '',\n '',\n '',\n '',\n '',\n '',\n '',\n '',\n '',\n 'QS',\n '',\n '',\n '',\n '',\n '',\n '',\n '',\n '',\n '',\n '',\n '',\n '',\n '',\n '',\n '',\n '',\n '',\n 'A',\n '',\n '',\n '',\n '',\n '',\n '',\n '',\n '',\n 'NIO',\n '',\n '',\n '',\n '',\n '',\n '',\n 'IRS',\n '',\n '',\n '',\n '',\n '',\n '',\n '',\n '',\n '',\n '',\n '',\n '',\n '',\n 'A',\n '',\n '',\n '',\n 'RKT',\n '',\n '',\n '',\n 'IRS',\n '',\n '',\n '',\n '',\n '',\n '',\n '',\n '',\n '',\n '',\n '',\n '',\n '',\n '',\n '',\n '',\n '',\n '',\n '',\n '',\n '',\n '',\n '',\n '',\n 'PCG',\n '',\n '',\n '',\n '',\n '',\n '',\n '',\n '',\n '',\n 'QS',\n '',\n '',\n '',\n '',\n '',\n '',\n '',\n 'F',\n '',\n '',\n '',\n '',\n '',\n 'AMZN',\n '',\n 'AAPL',\n '',\n 'AAPL',\n '',\n 'GME',\n '',\n '',\n 'QS',\n '',\n '',\n '',\n '',\n '',\n '',\n '',\n '',\n '',\n '',\n '',\n '',\n '',\n '',\n '',\n '',\n '',\n '',\n '',\n '',\n '',\n 'NIO',\n '',\n '',\n '',\n '',\n '',\n '',\n '',\n 'FUBO',\n '',\n '',\n '',\n '',\n '',\n '',\n '',\n '',\n '',\n '',\n 'RKT',\n '',\n 'MF',\n '',\n '',\n '',\n '',\n '',\n '',\n '',\n '',\n '',\n '',\n '',\n '',\n '',\n '',\n '',\n '',\n '',\n '',\n '',\n 'IIPR',\n '',\n '',\n ...]"
     },
     "execution_count": 9,
     "metadata": {},
     "output_type": "execute_result"
    }
   ],
   "source": [
    "symbol_list = []\n",
    "for i in body_list:\n",
    "    inserted = False\n",
    "    split = i.split(\" \")\n",
    "    for word in split:\n",
    "        word = word.replace(\"$\", \"\")\n",
    "        if word.isupper() and len(word) <= 5 and word in us:\n",
    "            symbol_list.append(word)\n",
    "            inserted = True\n",
    "            break\n",
    "    if not inserted:\n",
    "        symbol_list.append(\"\")\n",
    "symbol_list"
   ],
   "metadata": {
    "collapsed": false,
    "pycharm": {
     "name": "#%%\n"
    }
   }
  },
  {
   "cell_type": "code",
   "execution_count": 10,
   "outputs": [
    {
     "data": {
      "text/plain": "17681183"
     },
     "execution_count": 10,
     "metadata": {},
     "output_type": "execute_result"
    }
   ],
   "source": [
    "len(symbol_list)"
   ],
   "metadata": {
    "collapsed": false,
    "pycharm": {
     "name": "#%%\n"
    }
   }
  },
  {
   "cell_type": "code",
   "execution_count": 11,
   "outputs": [],
   "source": [
    "test_df['Symbol'] = symbol_list"
   ],
   "metadata": {
    "collapsed": false,
    "pycharm": {
     "name": "#%%\n"
    }
   }
  },
  {
   "cell_type": "code",
   "execution_count": 12,
   "outputs": [
    {
     "data": {
      "text/plain": "                                                      body created_utc Symbol\n4482265                   Not even close to enough rockets  2021-01-01       \n2298808                             no product, no revenue  2021-01-01       \n4481342                  Green apple Jack Daniels and coke  2021-01-01       \n4482266                                         I did this  2021-01-01       \n4481339                                       Not his own.  2021-01-01       \n...                                                    ...         ...    ...\n6743926      FAUCI is just mad that a bull fuked his wife.  2021-11-28       \n6743925  He said in his opinion vaccines where effectiv...  2021-11-28       \n6743923  The boyfriend of my wife and his stepmother ar...  2021-11-28       \n6743921  This sounds eerily similar to my relationship ...  2021-11-28       \n6743428                         Yo College!!! FUK U!!!!! 🤓  2021-11-28       \n\n[17681183 rows x 3 columns]",
      "text/html": "<div>\n<style scoped>\n    .dataframe tbody tr th:only-of-type {\n        vertical-align: middle;\n    }\n\n    .dataframe tbody tr th {\n        vertical-align: top;\n    }\n\n    .dataframe thead th {\n        text-align: right;\n    }\n</style>\n<table border=\"1\" class=\"dataframe\">\n  <thead>\n    <tr style=\"text-align: right;\">\n      <th></th>\n      <th>body</th>\n      <th>created_utc</th>\n      <th>Symbol</th>\n    </tr>\n  </thead>\n  <tbody>\n    <tr>\n      <th>4482265</th>\n      <td>Not even close to enough rockets</td>\n      <td>2021-01-01</td>\n      <td></td>\n    </tr>\n    <tr>\n      <th>2298808</th>\n      <td>no product, no revenue</td>\n      <td>2021-01-01</td>\n      <td></td>\n    </tr>\n    <tr>\n      <th>4481342</th>\n      <td>Green apple Jack Daniels and coke</td>\n      <td>2021-01-01</td>\n      <td></td>\n    </tr>\n    <tr>\n      <th>4482266</th>\n      <td>I did this</td>\n      <td>2021-01-01</td>\n      <td></td>\n    </tr>\n    <tr>\n      <th>4481339</th>\n      <td>Not his own.</td>\n      <td>2021-01-01</td>\n      <td></td>\n    </tr>\n    <tr>\n      <th>...</th>\n      <td>...</td>\n      <td>...</td>\n      <td>...</td>\n    </tr>\n    <tr>\n      <th>6743926</th>\n      <td>FAUCI is just mad that a bull fuked his wife.</td>\n      <td>2021-11-28</td>\n      <td></td>\n    </tr>\n    <tr>\n      <th>6743925</th>\n      <td>He said in his opinion vaccines where effectiv...</td>\n      <td>2021-11-28</td>\n      <td></td>\n    </tr>\n    <tr>\n      <th>6743923</th>\n      <td>The boyfriend of my wife and his stepmother ar...</td>\n      <td>2021-11-28</td>\n      <td></td>\n    </tr>\n    <tr>\n      <th>6743921</th>\n      <td>This sounds eerily similar to my relationship ...</td>\n      <td>2021-11-28</td>\n      <td></td>\n    </tr>\n    <tr>\n      <th>6743428</th>\n      <td>Yo College!!! FUK U!!!!! 🤓</td>\n      <td>2021-11-28</td>\n      <td></td>\n    </tr>\n  </tbody>\n</table>\n<p>17681183 rows × 3 columns</p>\n</div>"
     },
     "execution_count": 12,
     "metadata": {},
     "output_type": "execute_result"
    }
   ],
   "source": [
    "test_df"
   ],
   "metadata": {
    "collapsed": false,
    "pycharm": {
     "name": "#%%\n"
    }
   }
  },
  {
   "cell_type": "code",
   "execution_count": 13,
   "outputs": [],
   "source": [
    "# count = 0\n",
    "# for i in test_df.index:\n",
    "#     split = test_df.loc[i, 'body'].split(\" \")\n",
    "#     for word in split:\n",
    "#         word = word.replace(\"$\", \"\")\n",
    "#         if word.isupper() and len(word) <= 5 and word in us:\n",
    "#             test_df.loc[i, \"Symbol\"] = word\n",
    "#     count += 1\n",
    "#     if count % 5000 == 0:\n",
    "#         print(count // 17681183)\n",
    "# test_df"
   ],
   "metadata": {
    "collapsed": false,
    "pycharm": {
     "name": "#%%\n"
    }
   }
  },
  {
   "cell_type": "code",
   "execution_count": 14,
   "outputs": [
    {
     "data": {
      "text/plain": "body                   object\ncreated_utc    datetime64[ns]\nSymbol                 object\ndtype: object"
     },
     "execution_count": 14,
     "metadata": {},
     "output_type": "execute_result"
    }
   ],
   "source": [
    "test_df.dtypes"
   ],
   "metadata": {
    "collapsed": false,
    "pycharm": {
     "name": "#%%\n"
    }
   }
  },
  {
   "cell_type": "code",
   "execution_count": 15,
   "outputs": [
    {
     "name": "stdout",
     "output_type": "stream",
     "text": [
      "CPU times: user 56.1 s, sys: 1.42 s, total: 57.6 s\n",
      "Wall time: 59 s\n"
     ]
    },
    {
     "data": {
      "text/plain": "2755024"
     },
     "execution_count": 15,
     "metadata": {},
     "output_type": "execute_result"
    }
   ],
   "source": [
    "%%time\n",
    "count = 0\n",
    "for i in test_df.index:\n",
    "    if test_df.loc[i, \"Symbol\"] != \"\":\n",
    "        count += 1\n",
    "count"
   ],
   "metadata": {
    "collapsed": false,
    "pycharm": {
     "name": "#%%\n"
    }
   }
  },
  {
   "cell_type": "code",
   "execution_count": 16,
   "outputs": [],
   "source": [
    "# test_df.to_excel('sample.xlsx', engine='xlsxwriter')"
   ],
   "metadata": {
    "collapsed": false,
    "pycharm": {
     "name": "#%%\n"
    }
   }
  },
  {
   "cell_type": "code",
   "execution_count": 17,
   "outputs": [],
   "source": [
    "# test_df.to_pickle('comments_with_symbol_df.pkl')"
   ],
   "metadata": {
    "collapsed": false,
    "pycharm": {
     "name": "#%%\n"
    }
   }
  },
  {
   "cell_type": "code",
   "execution_count": 18,
   "outputs": [
    {
     "data": {
      "text/plain": "                                                      body created_utc Symbol\n4482265                   Not even close to enough rockets  2021-01-01       \n2298808                             no product, no revenue  2021-01-01       \n4481342                  Green apple Jack Daniels and coke  2021-01-01       \n4482266                                         I did this  2021-01-01       \n4481339                                       Not his own.  2021-01-01       \n...                                                    ...         ...    ...\n6743926      FAUCI is just mad that a bull fuked his wife.  2021-11-28       \n6743925  He said in his opinion vaccines where effectiv...  2021-11-28       \n6743923  The boyfriend of my wife and his stepmother ar...  2021-11-28       \n6743921  This sounds eerily similar to my relationship ...  2021-11-28       \n6743428                         Yo College!!! FUK U!!!!! 🤓  2021-11-28       \n\n[17681183 rows x 3 columns]",
      "text/html": "<div>\n<style scoped>\n    .dataframe tbody tr th:only-of-type {\n        vertical-align: middle;\n    }\n\n    .dataframe tbody tr th {\n        vertical-align: top;\n    }\n\n    .dataframe thead th {\n        text-align: right;\n    }\n</style>\n<table border=\"1\" class=\"dataframe\">\n  <thead>\n    <tr style=\"text-align: right;\">\n      <th></th>\n      <th>body</th>\n      <th>created_utc</th>\n      <th>Symbol</th>\n    </tr>\n  </thead>\n  <tbody>\n    <tr>\n      <th>4482265</th>\n      <td>Not even close to enough rockets</td>\n      <td>2021-01-01</td>\n      <td></td>\n    </tr>\n    <tr>\n      <th>2298808</th>\n      <td>no product, no revenue</td>\n      <td>2021-01-01</td>\n      <td></td>\n    </tr>\n    <tr>\n      <th>4481342</th>\n      <td>Green apple Jack Daniels and coke</td>\n      <td>2021-01-01</td>\n      <td></td>\n    </tr>\n    <tr>\n      <th>4482266</th>\n      <td>I did this</td>\n      <td>2021-01-01</td>\n      <td></td>\n    </tr>\n    <tr>\n      <th>4481339</th>\n      <td>Not his own.</td>\n      <td>2021-01-01</td>\n      <td></td>\n    </tr>\n    <tr>\n      <th>...</th>\n      <td>...</td>\n      <td>...</td>\n      <td>...</td>\n    </tr>\n    <tr>\n      <th>6743926</th>\n      <td>FAUCI is just mad that a bull fuked his wife.</td>\n      <td>2021-11-28</td>\n      <td></td>\n    </tr>\n    <tr>\n      <th>6743925</th>\n      <td>He said in his opinion vaccines where effectiv...</td>\n      <td>2021-11-28</td>\n      <td></td>\n    </tr>\n    <tr>\n      <th>6743923</th>\n      <td>The boyfriend of my wife and his stepmother ar...</td>\n      <td>2021-11-28</td>\n      <td></td>\n    </tr>\n    <tr>\n      <th>6743921</th>\n      <td>This sounds eerily similar to my relationship ...</td>\n      <td>2021-11-28</td>\n      <td></td>\n    </tr>\n    <tr>\n      <th>6743428</th>\n      <td>Yo College!!! FUK U!!!!! 🤓</td>\n      <td>2021-11-28</td>\n      <td></td>\n    </tr>\n  </tbody>\n</table>\n<p>17681183 rows × 3 columns</p>\n</div>"
     },
     "execution_count": 18,
     "metadata": {},
     "output_type": "execute_result"
    }
   ],
   "source": [
    "test_df"
   ],
   "metadata": {
    "collapsed": false,
    "pycharm": {
     "name": "#%%\n"
    }
   }
  },
  {
   "cell_type": "code",
   "execution_count": 19,
   "outputs": [],
   "source": [
    "# test_df = test_df.replace('\\x00', '', regex=True)\n",
    "# test_df = test_df.replace('\\00', '', regex=True)\n",
    "# test_df = test_df.replace('\\0', '', regex=True)"
   ],
   "metadata": {
    "collapsed": false,
    "pycharm": {
     "name": "#%%\n"
    }
   }
  },
  {
   "cell_type": "code",
   "execution_count": 20,
   "outputs": [],
   "source": [
    "test_df.to_pickle('comments_with_symbol_df.pkl')"
   ],
   "metadata": {
    "collapsed": false,
    "pycharm": {
     "name": "#%%\n"
    }
   }
  }
 ],
 "metadata": {
  "kernelspec": {
   "display_name": "Python 3",
   "language": "python",
   "name": "python3"
  },
  "language_info": {
   "codemirror_mode": {
    "name": "ipython",
    "version": 2
   },
   "file_extension": ".py",
   "mimetype": "text/x-python",
   "name": "python",
   "nbconvert_exporter": "python",
   "pygments_lexer": "ipython2",
   "version": "2.7.6"
  }
 },
 "nbformat": 4,
 "nbformat_minor": 0
}