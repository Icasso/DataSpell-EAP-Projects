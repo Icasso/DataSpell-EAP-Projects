{
 "cells": [
  {
   "cell_type": "code",
   "execution_count": 2,
   "metadata": {
    "collapsed": true
   },
   "outputs": [],
   "source": [
    "import pandas as pd"
   ]
  },
  {
   "cell_type": "code",
   "execution_count": 56,
   "outputs": [
    {
     "data": {
      "text/plain": "                 Raw    Empty    Regex\ncreated_utc                           \n2021-01      5854247  4407690  4395910\n2021-02      4644290  3170538  3163680\n2021-03      2361654  1944148  1940536\n2021-04      1417778  1219579  1217629\n2021-05      1339675  1228267  1226330\n2021-06      2129259  1633043  1630385\n2021-07      1083788   892856   891664\n2021-08      1007205   838996   837718\n2021-09      1001595   822080   820812\n2021-10       919366   758369   757317\n2021-11       956266   800428   799202",
      "text/html": "<div>\n<style scoped>\n    .dataframe tbody tr th:only-of-type {\n        vertical-align: middle;\n    }\n\n    .dataframe tbody tr th {\n        vertical-align: top;\n    }\n\n    .dataframe thead th {\n        text-align: right;\n    }\n</style>\n<table border=\"1\" class=\"dataframe\">\n  <thead>\n    <tr style=\"text-align: right;\">\n      <th></th>\n      <th>Raw</th>\n      <th>Empty</th>\n      <th>Regex</th>\n    </tr>\n    <tr>\n      <th>created_utc</th>\n      <th></th>\n      <th></th>\n      <th></th>\n    </tr>\n  </thead>\n  <tbody>\n    <tr>\n      <th>2021-01</th>\n      <td>5854247</td>\n      <td>4407690</td>\n      <td>4395910</td>\n    </tr>\n    <tr>\n      <th>2021-02</th>\n      <td>4644290</td>\n      <td>3170538</td>\n      <td>3163680</td>\n    </tr>\n    <tr>\n      <th>2021-03</th>\n      <td>2361654</td>\n      <td>1944148</td>\n      <td>1940536</td>\n    </tr>\n    <tr>\n      <th>2021-04</th>\n      <td>1417778</td>\n      <td>1219579</td>\n      <td>1217629</td>\n    </tr>\n    <tr>\n      <th>2021-05</th>\n      <td>1339675</td>\n      <td>1228267</td>\n      <td>1226330</td>\n    </tr>\n    <tr>\n      <th>2021-06</th>\n      <td>2129259</td>\n      <td>1633043</td>\n      <td>1630385</td>\n    </tr>\n    <tr>\n      <th>2021-07</th>\n      <td>1083788</td>\n      <td>892856</td>\n      <td>891664</td>\n    </tr>\n    <tr>\n      <th>2021-08</th>\n      <td>1007205</td>\n      <td>838996</td>\n      <td>837718</td>\n    </tr>\n    <tr>\n      <th>2021-09</th>\n      <td>1001595</td>\n      <td>822080</td>\n      <td>820812</td>\n    </tr>\n    <tr>\n      <th>2021-10</th>\n      <td>919366</td>\n      <td>758369</td>\n      <td>757317</td>\n    </tr>\n    <tr>\n      <th>2021-11</th>\n      <td>956266</td>\n      <td>800428</td>\n      <td>799202</td>\n    </tr>\n  </tbody>\n</table>\n</div>"
     },
     "execution_count": 56,
     "metadata": {},
     "output_type": "execute_result"
    }
   ],
   "source": [
    "raw_df = pd.read_pickle('../Pickles/Old/combine_plot_process.pkl')\n",
    "raw_df"
   ],
   "metadata": {
    "collapsed": false,
    "pycharm": {
     "name": "#%%\n"
    }
   }
  },
  {
   "cell_type": "code",
   "execution_count": 57,
   "outputs": [],
   "source": [
    "preprocessing_df = pd.DataFrame(raw_df)\n",
    "preprocessing_df = preprocessing_df.reset_index()"
   ],
   "metadata": {
    "collapsed": false,
    "pycharm": {
     "name": "#%%\n"
    }
   }
  },
  {
   "cell_type": "code",
   "execution_count": 58,
   "outputs": [
    {
     "data": {
      "text/plain": "created_utc    datetime64[ns]\nRaw                     int64\nEmpty                   int64\nRegex                   int64\ndtype: object"
     },
     "execution_count": 58,
     "metadata": {},
     "output_type": "execute_result"
    }
   ],
   "source": [
    "preprocessing_df['created_utc'] = preprocessing_df['created_utc'].dt.to_timestamp()\n",
    "preprocessing_df.dtypes"
   ],
   "metadata": {
    "collapsed": false,
    "pycharm": {
     "name": "#%%\n"
    }
   }
  },
  {
   "cell_type": "code",
   "execution_count": 59,
   "outputs": [
    {
     "data": {
      "text/plain": "   created_utc      Raw    Empty    Regex\n0   2021-01-01  5854247  4407690  4395910\n1   2021-02-01  4644290  3170538  3163680\n2   2021-03-01  2361654  1944148  1940536\n3   2021-04-01  1417778  1219579  1217629\n4   2021-05-01  1339675  1228267  1226330\n5   2021-06-01  2129259  1633043  1630385\n6   2021-07-01  1083788   892856   891664\n7   2021-08-01  1007205   838996   837718\n8   2021-09-01  1001595   822080   820812\n9   2021-10-01   919366   758369   757317\n10  2021-11-01   956266   800428   799202",
      "text/html": "<div>\n<style scoped>\n    .dataframe tbody tr th:only-of-type {\n        vertical-align: middle;\n    }\n\n    .dataframe tbody tr th {\n        vertical-align: top;\n    }\n\n    .dataframe thead th {\n        text-align: right;\n    }\n</style>\n<table border=\"1\" class=\"dataframe\">\n  <thead>\n    <tr style=\"text-align: right;\">\n      <th></th>\n      <th>created_utc</th>\n      <th>Raw</th>\n      <th>Empty</th>\n      <th>Regex</th>\n    </tr>\n  </thead>\n  <tbody>\n    <tr>\n      <th>0</th>\n      <td>2021-01-01</td>\n      <td>5854247</td>\n      <td>4407690</td>\n      <td>4395910</td>\n    </tr>\n    <tr>\n      <th>1</th>\n      <td>2021-02-01</td>\n      <td>4644290</td>\n      <td>3170538</td>\n      <td>3163680</td>\n    </tr>\n    <tr>\n      <th>2</th>\n      <td>2021-03-01</td>\n      <td>2361654</td>\n      <td>1944148</td>\n      <td>1940536</td>\n    </tr>\n    <tr>\n      <th>3</th>\n      <td>2021-04-01</td>\n      <td>1417778</td>\n      <td>1219579</td>\n      <td>1217629</td>\n    </tr>\n    <tr>\n      <th>4</th>\n      <td>2021-05-01</td>\n      <td>1339675</td>\n      <td>1228267</td>\n      <td>1226330</td>\n    </tr>\n    <tr>\n      <th>5</th>\n      <td>2021-06-01</td>\n      <td>2129259</td>\n      <td>1633043</td>\n      <td>1630385</td>\n    </tr>\n    <tr>\n      <th>6</th>\n      <td>2021-07-01</td>\n      <td>1083788</td>\n      <td>892856</td>\n      <td>891664</td>\n    </tr>\n    <tr>\n      <th>7</th>\n      <td>2021-08-01</td>\n      <td>1007205</td>\n      <td>838996</td>\n      <td>837718</td>\n    </tr>\n    <tr>\n      <th>8</th>\n      <td>2021-09-01</td>\n      <td>1001595</td>\n      <td>822080</td>\n      <td>820812</td>\n    </tr>\n    <tr>\n      <th>9</th>\n      <td>2021-10-01</td>\n      <td>919366</td>\n      <td>758369</td>\n      <td>757317</td>\n    </tr>\n    <tr>\n      <th>10</th>\n      <td>2021-11-01</td>\n      <td>956266</td>\n      <td>800428</td>\n      <td>799202</td>\n    </tr>\n  </tbody>\n</table>\n</div>"
     },
     "execution_count": 59,
     "metadata": {},
     "output_type": "execute_result"
    }
   ],
   "source": [
    "preprocessing_df"
   ],
   "metadata": {
    "collapsed": false,
    "pycharm": {
     "name": "#%%\n"
    }
   }
  },
  {
   "cell_type": "code",
   "execution_count": 60,
   "outputs": [],
   "source": [
    "preprocessing_df.to_pickle('../Pickles/Old/preprocessing_stats_df.pkl')"
   ],
   "metadata": {
    "collapsed": false,
    "pycharm": {
     "name": "#%%\n"
    }
   }
  },
  {
   "cell_type": "code",
   "execution_count": 61,
   "outputs": [
    {
     "data": {
      "text/plain": "   created_utc      Raw    Empty    Regex\n0   2021-01-01  5854247  4407690  4395910\n1   2021-02-01  4644290  3170538  3163680\n2   2021-03-01  2361654  1944148  1940536\n3   2021-04-01  1417778  1219579  1217629\n4   2021-05-01  1339675  1228267  1226330\n5   2021-06-01  2129259  1633043  1630385\n6   2021-07-01  1083788   892856   891664\n7   2021-08-01  1007205   838996   837718\n8   2021-09-01  1001595   822080   820812\n9   2021-10-01   919366   758369   757317\n10  2021-11-01   956266   800428   799202",
      "text/html": "<div>\n<style scoped>\n    .dataframe tbody tr th:only-of-type {\n        vertical-align: middle;\n    }\n\n    .dataframe tbody tr th {\n        vertical-align: top;\n    }\n\n    .dataframe thead th {\n        text-align: right;\n    }\n</style>\n<table border=\"1\" class=\"dataframe\">\n  <thead>\n    <tr style=\"text-align: right;\">\n      <th></th>\n      <th>created_utc</th>\n      <th>Raw</th>\n      <th>Empty</th>\n      <th>Regex</th>\n    </tr>\n  </thead>\n  <tbody>\n    <tr>\n      <th>0</th>\n      <td>2021-01-01</td>\n      <td>5854247</td>\n      <td>4407690</td>\n      <td>4395910</td>\n    </tr>\n    <tr>\n      <th>1</th>\n      <td>2021-02-01</td>\n      <td>4644290</td>\n      <td>3170538</td>\n      <td>3163680</td>\n    </tr>\n    <tr>\n      <th>2</th>\n      <td>2021-03-01</td>\n      <td>2361654</td>\n      <td>1944148</td>\n      <td>1940536</td>\n    </tr>\n    <tr>\n      <th>3</th>\n      <td>2021-04-01</td>\n      <td>1417778</td>\n      <td>1219579</td>\n      <td>1217629</td>\n    </tr>\n    <tr>\n      <th>4</th>\n      <td>2021-05-01</td>\n      <td>1339675</td>\n      <td>1228267</td>\n      <td>1226330</td>\n    </tr>\n    <tr>\n      <th>5</th>\n      <td>2021-06-01</td>\n      <td>2129259</td>\n      <td>1633043</td>\n      <td>1630385</td>\n    </tr>\n    <tr>\n      <th>6</th>\n      <td>2021-07-01</td>\n      <td>1083788</td>\n      <td>892856</td>\n      <td>891664</td>\n    </tr>\n    <tr>\n      <th>7</th>\n      <td>2021-08-01</td>\n      <td>1007205</td>\n      <td>838996</td>\n      <td>837718</td>\n    </tr>\n    <tr>\n      <th>8</th>\n      <td>2021-09-01</td>\n      <td>1001595</td>\n      <td>822080</td>\n      <td>820812</td>\n    </tr>\n    <tr>\n      <th>9</th>\n      <td>2021-10-01</td>\n      <td>919366</td>\n      <td>758369</td>\n      <td>757317</td>\n    </tr>\n    <tr>\n      <th>10</th>\n      <td>2021-11-01</td>\n      <td>956266</td>\n      <td>800428</td>\n      <td>799202</td>\n    </tr>\n  </tbody>\n</table>\n</div>"
     },
     "execution_count": 61,
     "metadata": {},
     "output_type": "execute_result"
    }
   ],
   "source": [
    "df = pd.read_pickle('../Pickles/Old/preprocessing_stats_df.pkl')\n",
    "df"
   ],
   "metadata": {
    "collapsed": false,
    "pycharm": {
     "name": "#%%\n"
    }
   }
  },
  {
   "cell_type": "code",
   "execution_count": 55,
   "outputs": [
    {
     "data": {
      "text/plain": "created_utc    datetime64[ns]\ncount                   int64\ndtype: object"
     },
     "execution_count": 55,
     "metadata": {},
     "output_type": "execute_result"
    }
   ],
   "source": [
    "df.dtypes"
   ],
   "metadata": {
    "collapsed": false,
    "pycharm": {
     "name": "#%%\n"
    }
   }
  },
  {
   "cell_type": "code",
   "execution_count": null,
   "outputs": [],
   "source": [],
   "metadata": {
    "collapsed": false,
    "pycharm": {
     "name": "#%%\n"
    }
   }
  }
 ],
 "metadata": {
  "kernelspec": {
   "display_name": "Python 3",
   "language": "python",
   "name": "python3"
  },
  "language_info": {
   "codemirror_mode": {
    "name": "ipython",
    "version": 2
   },
   "file_extension": ".py",
   "mimetype": "text/x-python",
   "name": "python",
   "nbconvert_exporter": "python",
   "pygments_lexer": "ipython2",
   "version": "2.7.6"
  }
 },
 "nbformat": 4,
 "nbformat_minor": 0
}