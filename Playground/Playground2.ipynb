{
 "cells": [
  {
   "cell_type": "code",
   "execution_count": 1,
   "metadata": {
    "collapsed": true
   },
   "outputs": [],
   "source": [
    "import pandas as pd"
   ]
  },
  {
   "cell_type": "code",
   "execution_count": 8,
   "outputs": [
    {
     "name": "stdout",
     "output_type": "stream",
     "text": [
      "CPU times: user 2.35 s, sys: 4.83 s, total: 7.18 s\n",
      "Wall time: 11.5 s\n"
     ]
    },
    {
     "data": {
      "text/plain": "body                               object\ncreated_utc                datetime64[ns]\nSymbol                             object\nTextBlob_Polarity                 float64\nTextBlob_Subjectivity             float64\nDefault_Vader_Negative            float64\nDefault_Vader_Neutral             float64\nDefault_Vader_Positive            float64\nDefault_Vader_Compound            float64\nModified_Vader_Negative           float64\nModified_Vader_Neutral            float64\nModified_Vader_Positive           float64\nModified_Vader_Compound           float64\ndtype: object"
     },
     "execution_count": 8,
     "metadata": {},
     "output_type": "execute_result"
    }
   ],
   "source": [
    "%%time\n",
    "comments_df = pd.read_pickle('../Sentiment Analysis/comments_fin_df.pkl')\n",
    "comments_df.dtypes"
   ],
   "metadata": {
    "collapsed": false,
    "pycharm": {
     "name": "#%%\n"
    }
   }
  },
  {
   "cell_type": "code",
   "execution_count": 11,
   "outputs": [
    {
     "data": {
      "text/plain": "                                      body created_utc Symbol  \\\n4482265   Not even close to enough rockets  2021-01-01          \n2298808             no product, no revenue  2021-01-01          \n4481342  Green apple Jack Daniels and coke  2021-01-01          \n4482266                         I did this  2021-01-01          \n4481339                       Not his own.  2021-01-01          \n\n         TextBlob_Polarity  TextBlob_Subjectivity  Default_Vader_Negative  \\\n4482265                0.0                    0.5                   0.000   \n2298808                0.0                    0.0                   0.688   \n4481342               -0.2                    0.3                   0.000   \n4482266                0.0                    0.0                   0.000   \n4481339                0.6                    1.0                   0.000   \n\n         Default_Vader_Neutral  Default_Vader_Positive  \\\n4482265                  1.000                     0.0   \n2298808                  0.312                     0.0   \n4481342                  1.000                     0.0   \n4482266                  1.000                     0.0   \n4481339                  1.000                     0.0   \n\n         Default_Vader_Compound  Modified_Vader_Negative  \\\n4482265                  0.0000                    0.000   \n2298808                 -0.5267                    0.688   \n4481342                  0.0000                    0.000   \n4482266                  0.0000                    0.000   \n4481339                  0.0000                    0.000   \n\n         Modified_Vader_Neutral  Modified_Vader_Positive  \\\n4482265                   1.000                    0.000   \n2298808                   0.312                    0.000   \n4481342                   0.633                    0.367   \n4482266                   1.000                    0.000   \n4481339                   1.000                    0.000   \n\n         Modified_Vader_Compound  \n4482265                   0.0000  \n2298808                  -0.5267  \n4481342                   0.4404  \n4482266                   0.0000  \n4481339                   0.0000  ",
      "text/html": "<div>\n<style scoped>\n    .dataframe tbody tr th:only-of-type {\n        vertical-align: middle;\n    }\n\n    .dataframe tbody tr th {\n        vertical-align: top;\n    }\n\n    .dataframe thead th {\n        text-align: right;\n    }\n</style>\n<table border=\"1\" class=\"dataframe\">\n  <thead>\n    <tr style=\"text-align: right;\">\n      <th></th>\n      <th>body</th>\n      <th>created_utc</th>\n      <th>Symbol</th>\n      <th>TextBlob_Polarity</th>\n      <th>TextBlob_Subjectivity</th>\n      <th>Default_Vader_Negative</th>\n      <th>Default_Vader_Neutral</th>\n      <th>Default_Vader_Positive</th>\n      <th>Default_Vader_Compound</th>\n      <th>Modified_Vader_Negative</th>\n      <th>Modified_Vader_Neutral</th>\n      <th>Modified_Vader_Positive</th>\n      <th>Modified_Vader_Compound</th>\n    </tr>\n  </thead>\n  <tbody>\n    <tr>\n      <th>4482265</th>\n      <td>Not even close to enough rockets</td>\n      <td>2021-01-01</td>\n      <td></td>\n      <td>0.0</td>\n      <td>0.5</td>\n      <td>0.000</td>\n      <td>1.000</td>\n      <td>0.0</td>\n      <td>0.0000</td>\n      <td>0.000</td>\n      <td>1.000</td>\n      <td>0.000</td>\n      <td>0.0000</td>\n    </tr>\n    <tr>\n      <th>2298808</th>\n      <td>no product, no revenue</td>\n      <td>2021-01-01</td>\n      <td></td>\n      <td>0.0</td>\n      <td>0.0</td>\n      <td>0.688</td>\n      <td>0.312</td>\n      <td>0.0</td>\n      <td>-0.5267</td>\n      <td>0.688</td>\n      <td>0.312</td>\n      <td>0.000</td>\n      <td>-0.5267</td>\n    </tr>\n    <tr>\n      <th>4481342</th>\n      <td>Green apple Jack Daniels and coke</td>\n      <td>2021-01-01</td>\n      <td></td>\n      <td>-0.2</td>\n      <td>0.3</td>\n      <td>0.000</td>\n      <td>1.000</td>\n      <td>0.0</td>\n      <td>0.0000</td>\n      <td>0.000</td>\n      <td>0.633</td>\n      <td>0.367</td>\n      <td>0.4404</td>\n    </tr>\n    <tr>\n      <th>4482266</th>\n      <td>I did this</td>\n      <td>2021-01-01</td>\n      <td></td>\n      <td>0.0</td>\n      <td>0.0</td>\n      <td>0.000</td>\n      <td>1.000</td>\n      <td>0.0</td>\n      <td>0.0000</td>\n      <td>0.000</td>\n      <td>1.000</td>\n      <td>0.000</td>\n      <td>0.0000</td>\n    </tr>\n    <tr>\n      <th>4481339</th>\n      <td>Not his own.</td>\n      <td>2021-01-01</td>\n      <td></td>\n      <td>0.6</td>\n      <td>1.0</td>\n      <td>0.000</td>\n      <td>1.000</td>\n      <td>0.0</td>\n      <td>0.0000</td>\n      <td>0.000</td>\n      <td>1.000</td>\n      <td>0.000</td>\n      <td>0.0000</td>\n    </tr>\n  </tbody>\n</table>\n</div>"
     },
     "execution_count": 11,
     "metadata": {},
     "output_type": "execute_result"
    }
   ],
   "source": [
    "comments_df.head()"
   ],
   "metadata": {
    "collapsed": false,
    "pycharm": {
     "name": "#%%\n"
    }
   }
  },
  {
   "cell_type": "code",
   "execution_count": 12,
   "outputs": [],
   "source": [
    "symbol_list = comments_df.Symbol.tolist()"
   ],
   "metadata": {
    "collapsed": false,
    "pycharm": {
     "name": "#%%\n"
    }
   }
  },
  {
   "cell_type": "code",
   "execution_count": 14,
   "outputs": [
    {
     "data": {
      "text/plain": "[('', 14926159),\n ('GME', 517224),\n ('AMC', 209970),\n ('BB', 140441),\n ('A', 131667),\n ('PLTR', 76165),\n ('TSLA', 76020),\n ('DD', 75911),\n ('RH', 63948),\n ('NOK', 47086),\n ('WE', 46590),\n ('IS', 43264),\n ('YOU', 35934),\n ('RKT', 32206),\n ('AMD', 30151),\n ('TLRY', 28382),\n ('CLNE', 27491),\n ('AAPL', 26866),\n ('F', 25400),\n ('NIO', 21396),\n ('MVIS', 20035),\n ('TD', 19694),\n ('IT', 17903),\n ('BABA', 17523),\n ('U', 17487),\n ('UWMC', 17419),\n ('SPCE', 17316),\n ('ALL', 16675),\n ('ON', 16610),\n ('EOD', 16357),\n ('GO', 15732),\n ('WKHS', 14909),\n ('CRSR', 14002),\n ('NVDA', 13904),\n ('FOR', 13806),\n ('ARE', 12546),\n ('CLF', 12315),\n ('AMZN', 11609),\n ('PM', 10700),\n ('FB', 10498),\n ('UP', 10108),\n ('SOFI', 9805),\n ('HOOD', 9270),\n ('AM', 8893),\n ('ME', 8823),\n ('LMAO', 8701),\n ('PLUG', 7628),\n ('DKNG', 7578),\n ('LOVE', 7429),\n ('X', 6926),\n ('GOEV', 6753),\n ('OCGN', 6678),\n ('COIN', 6677),\n ('BE', 6670),\n ('MSFT', 6663),\n ('ASO', 6587),\n ('SO', 6536),\n ('NOW', 6030),\n ('OR', 6029),\n ('RBLX', 5975),\n ('R', 5920),\n ('RIOT', 5900),\n ('TA', 5796),\n ('DIS', 5674),\n ('LCID', 5613),\n ('LFG', 5597),\n ('USA', 5582),\n ('VIAC', 5574),\n ('TV', 5531),\n ('SQ', 5489),\n ('IMO', 5406),\n ('T', 5376),\n ('FUBO', 5220),\n ('SI', 5123),\n ('CAN', 4970),\n ('BIG', 4907),\n ('V', 4841),\n ('MRNA', 4673),\n ('BBBY', 4670),\n ('GM', 4647),\n ('VXX', 4550),\n ('MU', 4525),\n ('IRNT', 4510),\n ('AI', 4464),\n ('L', 4438),\n ('G', 4413),\n ('HE', 4379),\n ('B', 4221),\n ('TSM', 4211),\n ('C', 4088),\n ('OUT', 4082),\n ('PTON', 4018),\n ('MVST', 3967),\n ('BA', 3960),\n ('RC', 3862),\n ('NKLA', 3775),\n ('MARA', 3752),\n ('PSFE', 3649),\n ('OPEN', 3565),\n ('MT', 3543),\n ('S', 3434),\n ('CC', 3379),\n ('HAS', 3333),\n ('QS', 3314),\n ('SNAP', 3310),\n ('IQ', 3251),\n ('UI', 3218),\n ('DM', 3181),\n ('RSI', 3172),\n ('K', 3168),\n ('PYPL', 3138),\n ('O', 3127),\n ('GE', 3087),\n ('IRS', 3084),\n ('SKLZ', 3082),\n ('D', 2975),\n ('WOOF', 2954),\n ('FCEL', 2905),\n ('ET', 2872),\n ('J', 2808),\n ('DWAC', 2792),\n ('Y', 2765),\n ('IBKR', 2758),\n ('ACB', 2673),\n ('GOOD', 2628),\n ('E', 2627),\n ('NFLX', 2615),\n ('PFE', 2612),\n ('AAL', 2591),\n ('PDT', 2568),\n ('M', 2558),\n ('NET', 2556),\n ('WEN', 2498),\n ('INTC', 2465),\n ('UPST', 2421),\n ('JD', 2380),\n ('HYLN', 2340),\n ('CCL', 2289),\n ('HES', 2243),\n ('JPM', 2222),\n ('SEE', 2190),\n ('ZM', 2180),\n ('W', 2160),\n ('DASH', 2151),\n ('XOM', 2142),\n ('VERY', 2108),\n ('AG', 2088),\n ('RIVN', 2017),\n ('SAVA', 2008),\n ('PSTH', 1968),\n ('BY', 1931),\n ('REAL', 1929),\n ('GL', 1924),\n ('FSR', 1918),\n ('NYC', 1912),\n ('MSM', 1873),\n ('PINS', 1872),\n ('MAN', 1842),\n ('HOUR', 1825),\n ('AFRM', 1800),\n ('ROKU', 1798),\n ('AN', 1796),\n ('OI', 1771),\n ('TIL', 1765),\n ('ABNB', 1748),\n ('SKT', 1740),\n ('Z', 1737),\n ('DOW', 1730),\n ('POST', 1703),\n ('CHWY', 1661),\n ('VALE', 1648),\n ('RKLB', 1641),\n ('NNDM', 1606),\n ('MF', 1603),\n ('DIDI', 1602),\n ('PRPL', 1598),\n ('ASTS', 1598),\n ('H', 1581),\n ('AMP', 1580),\n ('PENN', 1538),\n ('DTE', 1518),\n ('TWTR', 1471),\n ('INO', 1416),\n ('FSLY', 1386),\n ('ATVI', 1386),\n ('FREE', 1377),\n ('CCJ', 1366),\n ('BYND', 1320),\n ('EAT', 1298),\n ('HD', 1297),\n ('CRM', 1279),\n ('PLAY', 1279),\n ('PUMP', 1272),\n ('CHPT', 1244),\n ('GS', 1240),\n ('WMT', 1235),\n ('ELY', 1215),\n ('CGC', 1214),\n ('MA', 1210),\n ('TTCF', 1191),\n ('EVER', 1151),\n ('RUN', 1088),\n ('BAC', 1084),\n ('IBM', 1081),\n ('SP', 1079),\n ('FSD', 1077),\n ('ZNGA', 1075),\n ('XPEV', 1073),\n ('GOOG', 1073),\n ('NVAX', 1064),\n ('DNUT', 1060),\n ('IP', 1059),\n ('ICE', 1057),\n ('BRO', 1055),\n ('NYT', 1053),\n ('LOW', 1043),\n ('CVS', 1041),\n ('UPS', 1025),\n ('TDOC', 1023),\n ('WELL', 1011),\n ('WOW', 994),\n ('GF', 991),\n ('BP', 986),\n ('SHOP', 986),\n ('GMED', 978),\n ('TWO', 972),\n ('KO', 964),\n ('MO', 959),\n ('LEAP', 959),\n ('SRNE', 941),\n ('HEAR', 931),\n ('NICE', 911),\n ('ENPH', 910),\n ('DISCA', 910),\n ('CAT', 907),\n ('OPAD', 899),\n ('SE', 890),\n ('AA', 854),\n ('CS', 849),\n ('MS', 843),\n ('BTX', 829),\n ('BLNK', 825),\n ('JMIA', 815),\n ('LMT', 811),\n ('GOLD', 804),\n ('SNOW', 801),\n ('AKA', 799),\n ('BMBL', 794),\n ('SBUX', 784),\n ('COST', 780),\n ('DTC', 772),\n ('SAVE', 768),\n ('BNTX', 767),\n ('NKE', 767),\n ('CASH', 765),\n ('CRWD', 757),\n ('CAR', 749),\n ('WFC', 747),\n ('MSTR', 740),\n ('BCRX', 739),\n ('LULU', 738),\n ('TTD', 737),\n ('LMND', 736),\n ('PAY', 732),\n ('GOOGL', 731),\n ('QCOM', 725),\n ('DNA', 721),\n ('WWE', 717),\n ('TX', 716),\n ('FCX', 716),\n ('TAL', 715),\n ('ZIM', 708),\n ('BARK', 703),\n ('EA', 701),\n ('BOOM', 700),\n ('MRO', 685),\n ('HUT', 684),\n ('HR', 679),\n ('LIFE', 676),\n ('HOPE', 675),\n ('AC', 666),\n ('CRSP', 661),\n ('ITUB', 659),\n ('TECH', 657),\n ('MAC', 656),\n ('UBER', 653),\n ('TGT', 644),\n ('TWNK', 644),\n ('EDIT', 637),\n ('MC', 635),\n ('ASTR', 625),\n ('UAL', 618),\n ('TEAM', 617),\n ('MGNI', 613),\n ('RIG', 612),\n ('SWBI', 611),\n ('BROS', 610),\n ('KTOS', 608),\n ('MP', 606),\n ('GRWG', 605),\n ('PSA', 596),\n ('CPA', 596),\n ('CIA', 592),\n ('BIDU', 592),\n ('ETSY', 590),\n ('AR', 590),\n ('GEVO', 587),\n ('EXPR', 584),\n ('ES', 577),\n ('VZ', 573),\n ('MGM', 573),\n ('PTRA', 573),\n ('EB', 572),\n ('LZB', 570),\n ('NCLH', 568),\n ('LAZR', 567),\n ('MOVE', 564),\n ('BBQ', 560),\n ('SPWR', 560),\n ('PUBM', 554),\n ('RTX', 552),\n ('CPNG', 540),\n ('ACH', 537),\n ('SOL', 536),\n ('HL', 535),\n ('DAL', 532),\n ('JNJ', 532),\n ('AMAT', 531),\n ('LAC', 528),\n ('HIMX', 528),\n ('MCD', 527),\n ('BJ', 526),\n ('TURN', 521),\n ('MCFE', 521),\n ('SA', 520),\n ('FDX', 517),\n ('VZIO', 510),\n ('SF', 508),\n ('KBH', 507),\n ('RE', 503),\n ('TR', 500),\n ('DOCU', 500),\n ('WTI', 499),\n ('GPRO', 497),\n ('ARVL', 497),\n ('DDD', 495),\n ('LUV', 485),\n ('API', 484),\n ('VFF', 484),\n ('KOSS', 484),\n ('AUPH', 482),\n ('SRPT', 477),\n ('LEV', 476),\n ('BFLY', 470),\n ('TY', 467),\n ('PLBY', 467),\n ('CD', 466),\n ('BC', 459),\n ('TRUE', 454),\n ('FL', 452),\n ('HA', 452),\n ('APPS', 451),\n ('FANG', 447),\n ('CMPS', 446),\n ('BBY', 445),\n ('LUMN', 443),\n ('THC', 430),\n ('GENI', 429),\n ('GPS', 427),\n ('LINK', 425),\n ('HUYA', 424),\n ('CBD', 424),\n ('KHC', 421),\n ('OXY', 418),\n ('DOLE', 413),\n ('APR', 412),\n ('FUND', 412),\n ('BK', 407),\n ('LI', 406),\n ('DE', 405),\n ('CROX', 402),\n ('CRON', 387),\n ('MLM', 386),\n ('TACO', 386),\n ('TIGR', 380),\n ('SPOT', 376),\n ('MAX', 375),\n ('CHGG', 375),\n ('FUTU', 371),\n ('SU', 370),\n ('CMC', 369),\n ('VC', 368),\n ('OSTK', 366),\n ('MRVI', 365),\n ('AVPT', 365),\n ('AMCX', 364),\n ('ALOT', 363),\n ('MAPS', 360),\n ('JACK', 357),\n ('ABC', 355),\n ('NEE', 355),\n ('MOD', 353),\n ('TME', 348),\n ('REE', 347),\n ('FAST', 346),\n ('FAT', 344),\n ('IONQ', 344),\n ('HIMS', 342),\n ('EVGO', 339),\n ('LOGI', 334),\n ('LILM', 333),\n ('RNG', 332),\n ('FIGS', 331),\n ('APP', 330),\n ('VXRT', 330),\n ('VLDR', 328),\n ('MRK', 328),\n ('WH', 324),\n ('LC', 321),\n ('AZ', 321),\n ('ZTS', 320),\n ('TAK', 318),\n ('JOE', 317),\n ('SKY', 315),\n ('UMC', 314),\n ('XLNX', 314),\n ('CARE', 314),\n ('EDR', 314),\n ('DOOR', 311),\n ('LVS', 311),\n ('STEM', 311),\n ('MD', 309),\n ('RAD', 308),\n ('SONO', 308),\n ('CB', 306),\n ('CNK', 305),\n ('SAFE', 305),\n ('PH', 302),\n ('ROCK', 302),\n ('VLTA', 301),\n ('FUN', 299),\n ('EH', 299),\n ('III', 297),\n ('BIIB', 297),\n ('HP', 295),\n ('RYAN', 295),\n ('PDD', 294),\n ('CALM', 293),\n ('VUZI', 293),\n ('DISCB', 293),\n ('ASML', 291),\n ('OC', 290),\n ('EBAY', 288),\n ('AP', 288),\n ('KB', 287),\n ('CMG', 286),\n ('NUE', 285),\n ('HI', 284),\n ('SLQT', 283),\n ('OTLY', 283),\n ('SAM', 281),\n ('MAXR', 281),\n ('CAKE', 281),\n ('ST', 279),\n ('PBR', 278),\n ('HSBC', 276),\n ('COTY', 273),\n ('RCL', 273),\n ('GD', 271),\n ('GAIN', 271),\n ('VG', 270),\n ('POSH', 269),\n ('CBOE', 265),\n ('FT', 264),\n ('CO', 262),\n ('PACB', 260),\n ('ASAN', 260),\n ('OSK', 260),\n ('GOGO', 257),\n ('BUD', 255),\n ('WBA', 253),\n ('FOX', 253),\n ('PLUS', 252),\n ('LNG', 249),\n ('WB', 247),\n ('TWLO', 247),\n ('ED', 246),\n ('PLAN', 245),\n ('UNFI', 244),\n ('IPA', 242),\n ('ONTO', 241),\n ('SUN', 241),\n ('CVX', 240),\n ('DKS', 239),\n ('UBS', 238),\n ('TTWO', 236),\n ('LDI', 236),\n ('BLUE', 234),\n ('MTCH', 233),\n ('ORCL', 233)]"
     },
     "execution_count": 14,
     "metadata": {},
     "output_type": "execute_result"
    }
   ],
   "source": [
    "from collections import Counter\n",
    "c = Counter(symbol_list)\n",
    "c.most_common(500)"
   ],
   "metadata": {
    "collapsed": false,
    "pycharm": {
     "name": "#%%\n"
    }
   }
  },
  {
   "cell_type": "code",
   "execution_count": 17,
   "outputs": [
    {
     "data": {
      "text/plain": "['GME',\n 'AMC',\n 'BB',\n 'A',\n 'PLTR',\n 'TSLA',\n 'DD',\n 'RH',\n 'NOK',\n 'WE',\n 'IS',\n 'YOU',\n 'RKT',\n 'AMD',\n 'TLRY',\n 'CLNE',\n 'AAPL',\n 'F',\n 'NIO',\n 'MVIS',\n 'TD',\n 'IT',\n 'BABA',\n 'U',\n 'UWMC',\n 'SPCE',\n 'ALL',\n 'ON',\n 'EOD',\n 'GO',\n 'WKHS',\n 'CRSR',\n 'NVDA',\n 'FOR',\n 'ARE',\n 'CLF',\n 'AMZN',\n 'PM',\n 'FB',\n 'UP',\n 'SOFI',\n 'HOOD',\n 'AM',\n 'ME',\n 'LMAO',\n 'PLUG',\n 'DKNG',\n 'LOVE',\n 'X',\n 'GOEV',\n 'OCGN',\n 'COIN',\n 'BE',\n 'MSFT',\n 'ASO',\n 'SO',\n 'NOW',\n 'OR',\n 'RBLX',\n 'R',\n 'RIOT',\n 'TA',\n 'DIS',\n 'LCID',\n 'LFG',\n 'USA',\n 'VIAC',\n 'TV',\n 'SQ',\n 'IMO',\n 'T',\n 'FUBO',\n 'SI',\n 'CAN',\n 'BIG',\n 'V',\n 'MRNA',\n 'BBBY',\n 'GM',\n 'VXX',\n 'MU',\n 'IRNT',\n 'AI',\n 'L',\n 'G',\n 'HE',\n 'B',\n 'TSM',\n 'C',\n 'OUT',\n 'PTON',\n 'MVST',\n 'BA',\n 'RC',\n 'NKLA',\n 'MARA',\n 'PSFE',\n 'OPEN',\n 'MT',\n 'S',\n 'CC',\n 'HAS',\n 'QS',\n 'SNAP',\n 'IQ',\n 'UI',\n 'DM',\n 'RSI',\n 'K',\n 'PYPL',\n 'O',\n 'GE',\n 'IRS',\n 'SKLZ',\n 'D',\n 'WOOF',\n 'FCEL',\n 'ET',\n 'J',\n 'DWAC',\n 'Y',\n 'IBKR',\n 'ACB',\n 'GOOD',\n 'E',\n 'NFLX',\n 'PFE',\n 'AAL',\n 'PDT',\n 'M',\n 'NET',\n 'WEN',\n 'INTC',\n 'UPST',\n 'JD',\n 'HYLN',\n 'CCL',\n 'HES',\n 'JPM',\n 'SEE',\n 'ZM',\n 'W',\n 'DASH',\n 'XOM',\n 'VERY',\n 'AG',\n 'RIVN',\n 'SAVA',\n 'PSTH',\n 'BY',\n 'REAL',\n 'GL',\n 'FSR',\n 'NYC',\n 'MSM',\n 'PINS',\n 'MAN',\n 'HOUR',\n 'AFRM',\n 'ROKU',\n 'AN',\n 'OI',\n 'TIL',\n 'ABNB',\n 'SKT',\n 'Z',\n 'DOW',\n 'POST',\n 'CHWY',\n 'VALE',\n 'RKLB',\n 'NNDM',\n 'MF',\n 'DIDI',\n 'PRPL',\n 'ASTS',\n 'H',\n 'AMP',\n 'PENN',\n 'DTE',\n 'TWTR',\n 'INO',\n 'FSLY',\n 'ATVI',\n 'FREE',\n 'CCJ',\n 'BYND',\n 'EAT',\n 'HD',\n 'CRM',\n 'PLAY',\n 'PUMP',\n 'CHPT',\n 'GS',\n 'WMT',\n 'ELY',\n 'CGC',\n 'MA',\n 'TTCF',\n 'EVER',\n 'RUN',\n 'BAC',\n 'IBM',\n 'SP',\n 'FSD',\n 'ZNGA',\n 'XPEV',\n 'GOOG',\n 'NVAX',\n 'DNUT',\n 'IP',\n 'ICE',\n 'BRO',\n 'NYT',\n 'LOW',\n 'CVS',\n 'UPS',\n 'TDOC',\n 'WELL',\n 'WOW',\n 'GF',\n 'BP',\n 'SHOP',\n 'GMED',\n 'TWO',\n 'KO',\n 'MO',\n 'LEAP',\n 'SRNE',\n 'HEAR',\n 'NICE',\n 'ENPH',\n 'DISCA',\n 'CAT',\n 'OPAD',\n 'SE',\n 'AA',\n 'CS',\n 'MS',\n 'BTX',\n 'BLNK',\n 'JMIA',\n 'LMT',\n 'GOLD',\n 'SNOW',\n 'AKA',\n 'BMBL',\n 'SBUX',\n 'COST',\n 'DTC',\n 'SAVE',\n 'BNTX',\n 'NKE',\n 'CASH',\n 'CRWD',\n 'CAR',\n 'WFC',\n 'MSTR',\n 'BCRX',\n 'LULU',\n 'TTD',\n 'LMND',\n 'PAY',\n 'GOOGL',\n 'QCOM',\n 'DNA',\n 'WWE',\n 'TX',\n 'FCX',\n 'TAL',\n 'ZIM',\n 'BARK',\n 'EA',\n 'BOOM',\n 'MRO',\n 'HUT',\n 'HR',\n 'LIFE',\n 'HOPE',\n 'AC',\n 'CRSP',\n 'ITUB',\n 'TECH',\n 'MAC',\n 'UBER',\n 'TGT',\n 'TWNK',\n 'EDIT',\n 'MC',\n 'ASTR',\n 'UAL',\n 'TEAM',\n 'MGNI',\n 'RIG',\n 'SWBI',\n 'BROS',\n 'KTOS',\n 'MP',\n 'GRWG',\n 'PSA',\n 'CPA',\n 'CIA',\n 'BIDU',\n 'ETSY',\n 'AR',\n 'GEVO',\n 'EXPR',\n 'ES',\n 'VZ',\n 'MGM',\n 'PTRA',\n 'EB',\n 'LZB',\n 'NCLH',\n 'LAZR',\n 'MOVE',\n 'BBQ',\n 'SPWR',\n 'PUBM',\n 'RTX',\n 'CPNG',\n 'ACH',\n 'SOL',\n 'HL',\n 'DAL',\n 'JNJ',\n 'AMAT',\n 'LAC',\n 'HIMX',\n 'MCD',\n 'BJ',\n 'TURN',\n 'MCFE',\n 'SA',\n 'FDX',\n 'VZIO',\n 'SF',\n 'KBH',\n 'RE',\n 'TR',\n 'DOCU',\n 'WTI',\n 'GPRO',\n 'ARVL',\n 'DDD',\n 'LUV',\n 'API',\n 'VFF',\n 'KOSS',\n 'AUPH',\n 'SRPT',\n 'LEV',\n 'BFLY',\n 'TY',\n 'PLBY',\n 'CD',\n 'BC',\n 'TRUE',\n 'FL',\n 'HA',\n 'APPS',\n 'FANG',\n 'CMPS',\n 'BBY',\n 'LUMN',\n 'THC',\n 'GENI',\n 'GPS',\n 'LINK',\n 'HUYA',\n 'CBD',\n 'KHC',\n 'OXY',\n 'DOLE',\n 'APR',\n 'FUND',\n 'BK',\n 'LI',\n 'DE',\n 'CROX',\n 'CRON',\n 'MLM',\n 'TACO',\n 'TIGR',\n 'SPOT',\n 'MAX',\n 'CHGG',\n 'FUTU',\n 'SU',\n 'CMC',\n 'VC',\n 'OSTK',\n 'MRVI',\n 'AVPT',\n 'AMCX',\n 'ALOT',\n 'MAPS',\n 'JACK',\n 'ABC',\n 'NEE',\n 'MOD',\n 'TME',\n 'REE',\n 'FAST',\n 'FAT',\n 'IONQ',\n 'HIMS',\n 'EVGO',\n 'LOGI',\n 'LILM',\n 'RNG',\n 'FIGS',\n 'APP',\n 'VXRT',\n 'VLDR',\n 'MRK',\n 'WH',\n 'LC',\n 'AZ',\n 'ZTS',\n 'TAK',\n 'JOE',\n 'SKY',\n 'UMC',\n 'XLNX',\n 'CARE',\n 'EDR',\n 'DOOR',\n 'LVS',\n 'STEM',\n 'MD',\n 'RAD',\n 'SONO',\n 'CB',\n 'CNK',\n 'SAFE',\n 'PH',\n 'ROCK',\n 'VLTA',\n 'FUN',\n 'EH',\n 'III',\n 'BIIB',\n 'HP',\n 'RYAN',\n 'PDD',\n 'CALM',\n 'VUZI',\n 'DISCB',\n 'ASML',\n 'OC',\n 'EBAY',\n 'AP',\n 'KB',\n 'CMG',\n 'NUE',\n 'HI',\n 'SLQT',\n 'OTLY',\n 'SAM',\n 'MAXR',\n 'CAKE',\n 'ST',\n 'PBR',\n 'HSBC',\n 'COTY',\n 'RCL',\n 'GD',\n 'GAIN',\n 'VG',\n 'POSH',\n 'CBOE',\n 'FT',\n 'CO',\n 'PACB',\n 'ASAN',\n 'OSK',\n 'GOGO',\n 'BUD',\n 'WBA',\n 'FOX',\n 'PLUS',\n 'LNG',\n 'WB',\n 'TWLO',\n 'ED',\n 'PLAN',\n 'UNFI',\n 'IPA',\n 'ONTO',\n 'SUN',\n 'CVX',\n 'DKS',\n 'UBS',\n 'TTWO',\n 'LDI',\n 'BLUE',\n 'MTCH',\n 'ORCL']"
     },
     "execution_count": 17,
     "metadata": {},
     "output_type": "execute_result"
    }
   ],
   "source": [
    "symbol_list = [key for key, value in c.most_common(500)]\n",
    "symbol_list.pop(0)\n",
    "symbol_list"
   ],
   "metadata": {
    "collapsed": false,
    "pycharm": {
     "name": "#%%\n"
    }
   }
  },
  {
   "cell_type": "code",
   "execution_count": null,
   "outputs": [],
   "source": [],
   "metadata": {
    "collapsed": false,
    "pycharm": {
     "name": "#%%\n"
    }
   }
  }
 ],
 "metadata": {
  "kernelspec": {
   "display_name": "Python 3",
   "language": "python",
   "name": "python3"
  },
  "language_info": {
   "codemirror_mode": {
    "name": "ipython",
    "version": 2
   },
   "file_extension": ".py",
   "mimetype": "text/x-python",
   "name": "python",
   "nbconvert_exporter": "python",
   "pygments_lexer": "ipython2",
   "version": "2.7.6"
  }
 },
 "nbformat": 4,
 "nbformat_minor": 0
}