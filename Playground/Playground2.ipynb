{
 "cells": [
  {
   "cell_type": "code",
   "execution_count": 1,
   "metadata": {
    "collapsed": true
   },
   "outputs": [],
   "source": [
    "import pandas as pd"
   ]
  },
  {
   "cell_type": "code",
   "execution_count": 2,
   "outputs": [
    {
     "name": "stdout",
     "output_type": "stream",
     "text": [
      "CPU times: user 2.16 s, sys: 2.63 s, total: 4.8 s\n",
      "Wall time: 6.23 s\n"
     ]
    },
    {
     "data": {
      "text/plain": "body                              object\ncreated_utc               datetime64[ns]\nSymbol                            object\nTextBlob_Polarity                float64\nTextBlob_Subjectivity            float64\nDefault_Vader_Negative           float64\nDefault_Vader_Neutral            float64\nDefault_Vader_Positive           float64\nDefault_Vader_Compound           float64\ndtype: object"
     },
     "execution_count": 2,
     "metadata": {},
     "output_type": "execute_result"
    }
   ],
   "source": [
    "%%time\n",
    "comments_df = pd.read_pickle('../Sentiment Analysis/comments_with_textblob_dvader_df.pkl')\n",
    "comments_df.dtypes"
   ],
   "metadata": {
    "collapsed": false,
    "pycharm": {
     "name": "#%%\n"
    }
   }
  },
  {
   "cell_type": "code",
   "execution_count": 3,
   "outputs": [],
   "source": [
    "symbol_list = comments_df.Symbol.tolist()"
   ],
   "metadata": {
    "collapsed": false,
    "pycharm": {
     "name": "#%%\n"
    }
   }
  },
  {
   "cell_type": "code",
   "execution_count": 6,
   "outputs": [
    {
     "data": {
      "text/plain": "[('', 14926159),\n ('GME', 517224),\n ('AMC', 209970),\n ('BB', 140441),\n ('A', 131667),\n ('PLTR', 76165),\n ('TSLA', 76020),\n ('DD', 75911),\n ('RH', 63948),\n ('NOK', 47086),\n ('WE', 46590),\n ('IS', 43264),\n ('YOU', 35934),\n ('RKT', 32206),\n ('AMD', 30151),\n ('TLRY', 28382),\n ('CLNE', 27491),\n ('AAPL', 26866),\n ('F', 25400),\n ('NIO', 21396),\n ('MVIS', 20035),\n ('TD', 19694),\n ('IT', 17903),\n ('BABA', 17523),\n ('U', 17487),\n ('UWMC', 17419),\n ('SPCE', 17316),\n ('ALL', 16675),\n ('ON', 16610),\n ('EOD', 16357),\n ('GO', 15732),\n ('WKHS', 14909),\n ('CRSR', 14002),\n ('NVDA', 13904),\n ('FOR', 13806),\n ('ARE', 12546),\n ('CLF', 12315),\n ('AMZN', 11609),\n ('PM', 10700),\n ('FB', 10498),\n ('UP', 10108),\n ('SOFI', 9805),\n ('HOOD', 9270),\n ('AM', 8893),\n ('ME', 8823),\n ('LMAO', 8701),\n ('PLUG', 7628),\n ('DKNG', 7578),\n ('LOVE', 7429),\n ('X', 6926)]"
     },
     "execution_count": 6,
     "metadata": {},
     "output_type": "execute_result"
    }
   ],
   "source": [
    "from collections import Counter\n",
    "c = Counter(symbol_list)\n",
    "c.most_common(50)"
   ],
   "metadata": {
    "collapsed": false,
    "pycharm": {
     "name": "#%%\n"
    }
   }
  },
  {
   "cell_type": "code",
   "execution_count": 5,
   "outputs": [
    {
     "data": {
      "text/plain": "17681183"
     },
     "execution_count": 5,
     "metadata": {},
     "output_type": "execute_result"
    }
   ],
   "source": [],
   "metadata": {
    "collapsed": false,
    "pycharm": {
     "name": "#%%\n"
    }
   }
  },
  {
   "cell_type": "code",
   "execution_count": null,
   "outputs": [],
   "source": [],
   "metadata": {
    "collapsed": false,
    "pycharm": {
     "name": "#%%\n"
    }
   }
  }
 ],
 "metadata": {
  "kernelspec": {
   "display_name": "Python 3",
   "language": "python",
   "name": "python3"
  },
  "language_info": {
   "codemirror_mode": {
    "name": "ipython",
    "version": 2
   },
   "file_extension": ".py",
   "mimetype": "text/x-python",
   "name": "python",
   "nbconvert_exporter": "python",
   "pygments_lexer": "ipython2",
   "version": "2.7.6"
  }
 },
 "nbformat": 4,
 "nbformat_minor": 0
}