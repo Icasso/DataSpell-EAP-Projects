{
 "cells": [
  {
   "cell_type": "code",
   "execution_count": 1,
   "metadata": {
    "collapsed": true
   },
   "outputs": [],
   "source": [
    "import pandas as pd\n",
    "import dask.dataframe as dd"
   ]
  },
  {
   "cell_type": "code",
   "execution_count": 2,
   "outputs": [
    {
     "name": "stdout",
     "output_type": "stream",
     "text": [
      "CPU times: user 6.18 s, sys: 4.89 s, total: 11.1 s\n",
      "Wall time: 12.2 s\n"
     ]
    },
    {
     "data": {
      "text/plain": "body                   object\ncreated_utc    datetime64[ns]\ndtype: object"
     },
     "execution_count": 2,
     "metadata": {},
     "output_type": "execute_result"
    }
   ],
   "source": [
    "%%time\n",
    "comments_df = pd.read_pickle('processed_df.pkl')\n",
    "comments_df = dd.from_pandas(comments_df, npartitions=10)\n",
    "comments_df.dtypes"
   ],
   "metadata": {
    "collapsed": false,
    "pycharm": {
     "name": "#%%\n"
    }
   }
  },
  {
   "cell_type": "code",
   "execution_count": 3,
   "outputs": [],
   "source": [
    "comments_df[\"Symbol\"] = \"\""
   ],
   "metadata": {
    "collapsed": false,
    "pycharm": {
     "name": "#%%\n"
    }
   }
  },
  {
   "cell_type": "code",
   "execution_count": 4,
   "outputs": [
    {
     "data": {
      "text/plain": "                                                   body created_utc Symbol\n0     420 calls 4/21 are about 60$ a pop not gonna l...  2021-04-09       \n1                                   7% a week ain’t bad  2021-04-09       \n2               Man the GME cult thread is pure comedy.  2021-04-09       \n3     I hope that you have $30k set aside for taxes....  2021-04-09       \n4     I mean as long as it is profitable for you but...  2021-04-09       \n...                                                 ...         ...    ...\n4996         can a homie get a dead cat bounce? goddamn  2021-05-13       \n4997                       I beat you, -72% this month.  2021-05-13       \n4998                               Better before friday  2021-05-13       \n4999  🤡🤡🤡 This is me with my EU marketplace spy puts...  2021-05-13       \n5000                    You really like those jeans huh  2021-07-10       \n\n[4058 rows x 3 columns]",
      "text/html": "<div>\n<style scoped>\n    .dataframe tbody tr th:only-of-type {\n        vertical-align: middle;\n    }\n\n    .dataframe tbody tr th {\n        vertical-align: top;\n    }\n\n    .dataframe thead th {\n        text-align: right;\n    }\n</style>\n<table border=\"1\" class=\"dataframe\">\n  <thead>\n    <tr style=\"text-align: right;\">\n      <th></th>\n      <th>body</th>\n      <th>created_utc</th>\n      <th>Symbol</th>\n    </tr>\n  </thead>\n  <tbody>\n    <tr>\n      <th>0</th>\n      <td>420 calls 4/21 are about 60$ a pop not gonna l...</td>\n      <td>2021-04-09</td>\n      <td></td>\n    </tr>\n    <tr>\n      <th>1</th>\n      <td>7% a week ain’t bad</td>\n      <td>2021-04-09</td>\n      <td></td>\n    </tr>\n    <tr>\n      <th>2</th>\n      <td>Man the GME cult thread is pure comedy.</td>\n      <td>2021-04-09</td>\n      <td></td>\n    </tr>\n    <tr>\n      <th>3</th>\n      <td>I hope that you have $30k set aside for taxes....</td>\n      <td>2021-04-09</td>\n      <td></td>\n    </tr>\n    <tr>\n      <th>4</th>\n      <td>I mean as long as it is profitable for you but...</td>\n      <td>2021-04-09</td>\n      <td></td>\n    </tr>\n    <tr>\n      <th>...</th>\n      <td>...</td>\n      <td>...</td>\n      <td>...</td>\n    </tr>\n    <tr>\n      <th>4996</th>\n      <td>can a homie get a dead cat bounce? goddamn</td>\n      <td>2021-05-13</td>\n      <td></td>\n    </tr>\n    <tr>\n      <th>4997</th>\n      <td>I beat you, -72% this month.</td>\n      <td>2021-05-13</td>\n      <td></td>\n    </tr>\n    <tr>\n      <th>4998</th>\n      <td>Better before friday</td>\n      <td>2021-05-13</td>\n      <td></td>\n    </tr>\n    <tr>\n      <th>4999</th>\n      <td>🤡🤡🤡 This is me with my EU marketplace spy puts...</td>\n      <td>2021-05-13</td>\n      <td></td>\n    </tr>\n    <tr>\n      <th>5000</th>\n      <td>You really like those jeans huh</td>\n      <td>2021-07-10</td>\n      <td></td>\n    </tr>\n  </tbody>\n</table>\n<p>4058 rows × 3 columns</p>\n</div>"
     },
     "execution_count": 4,
     "metadata": {},
     "output_type": "execute_result"
    }
   ],
   "source": [
    "test_df = comments_df.loc[0:5000]\n",
    "test_df.compute()"
   ],
   "metadata": {
    "collapsed": false,
    "pycharm": {
     "name": "#%%\n"
    }
   }
  },
  {
   "cell_type": "code",
   "execution_count": 5,
   "outputs": [],
   "source": [
    "from data import *\n",
    "# us 5553 stocks"
   ],
   "metadata": {
    "collapsed": false,
    "pycharm": {
     "name": "#%%\n"
    }
   }
  },
  {
   "cell_type": "code",
   "execution_count": 15,
   "outputs": [
    {
     "name": "stdout",
     "output_type": "stream",
     "text": [
      "Dask Series Structure:\n",
      "npartitions=1\n",
      "2    object\n",
      "2       ...\n",
      "Name: body, dtype: object\n",
      "Dask Name: str-split, 23 tasks\n"
     ]
    }
   ],
   "source": [
    "split = test_df.loc[2, 'body'].str.split(\" \")\n",
    "print(split)\n",
    "# for word in split:\n",
    "#     word = str(word).replace(\"$\", \"\")\n",
    "#     if word.isupper() and len(word) <= 5 and word in us:\n",
    "#         test_df.loc[i, \"Symbol\"] = word\n",
    "# count += 1\n",
    "# if count % 500 == 0:\n",
    "#     print(count)"
   ],
   "metadata": {
    "collapsed": false,
    "pycharm": {
     "name": "#%%\n"
    }
   }
  },
  {
   "cell_type": "code",
   "execution_count": 6,
   "outputs": [
    {
     "name": "stdout",
     "output_type": "stream",
     "text": [
      "500\n",
      "1000\n",
      "1500\n",
      "2000\n",
      "2500\n",
      "3000\n",
      "3500\n",
      "4000\n"
     ]
    }
   ],
   "source": [
    "count = 0\n",
    "for i in test_df.index:\n",
    "    split = test_df.loc[i, 'body'].str.split(\" \")\n",
    "    for word in split:\n",
    "        word = str(word).replace(\"$\", \"\")\n",
    "        if word.isupper() and len(word) <= 5 and word in us:\n",
    "            test_df.loc[i, \"Symbol\"] = word\n",
    "    count += 1\n",
    "    if count % 500 == 0:\n",
    "        print(count)"
   ],
   "metadata": {
    "collapsed": false,
    "pycharm": {
     "name": "#%%\n"
    }
   }
  },
  {
   "cell_type": "code",
   "execution_count": 8,
   "outputs": [
    {
     "data": {
      "text/plain": "                                                       body created_utc Symbol\n0         420 calls 4/21 are about 60$ a pop not gonna l...  2021-04-09       \n1                                       7% a week ain’t bad  2021-04-09       \n2                   Man the GME cult thread is pure comedy.  2021-04-09       \n3         I hope that you have $30k set aside for taxes....  2021-04-09       \n4         I mean as long as it is profitable for you but...  2021-04-09       \n...                                                     ...         ...    ...\n22739092                    I’m in! They canceled my order!  2021-01-28       \n22739095  This is not working Can barely get any search ...  2021-01-28       \n22739096                                        Do not sell  2021-01-28       \n22739097                            GME, AMC, BB!!! 🚀🚀🚀🚀🚀🚀🚀  2021-01-28       \n22739100             SILV AG AND SLV UNBLOCKED ON ROBINHOOD  2021-01-28       \n\n[17681183 rows x 3 columns]",
      "text/html": "<div>\n<style scoped>\n    .dataframe tbody tr th:only-of-type {\n        vertical-align: middle;\n    }\n\n    .dataframe tbody tr th {\n        vertical-align: top;\n    }\n\n    .dataframe thead th {\n        text-align: right;\n    }\n</style>\n<table border=\"1\" class=\"dataframe\">\n  <thead>\n    <tr style=\"text-align: right;\">\n      <th></th>\n      <th>body</th>\n      <th>created_utc</th>\n      <th>Symbol</th>\n    </tr>\n  </thead>\n  <tbody>\n    <tr>\n      <th>0</th>\n      <td>420 calls 4/21 are about 60$ a pop not gonna l...</td>\n      <td>2021-04-09</td>\n      <td></td>\n    </tr>\n    <tr>\n      <th>1</th>\n      <td>7% a week ain’t bad</td>\n      <td>2021-04-09</td>\n      <td></td>\n    </tr>\n    <tr>\n      <th>2</th>\n      <td>Man the GME cult thread is pure comedy.</td>\n      <td>2021-04-09</td>\n      <td></td>\n    </tr>\n    <tr>\n      <th>3</th>\n      <td>I hope that you have $30k set aside for taxes....</td>\n      <td>2021-04-09</td>\n      <td></td>\n    </tr>\n    <tr>\n      <th>4</th>\n      <td>I mean as long as it is profitable for you but...</td>\n      <td>2021-04-09</td>\n      <td></td>\n    </tr>\n    <tr>\n      <th>...</th>\n      <td>...</td>\n      <td>...</td>\n      <td>...</td>\n    </tr>\n    <tr>\n      <th>22739092</th>\n      <td>I’m in! They canceled my order!</td>\n      <td>2021-01-28</td>\n      <td></td>\n    </tr>\n    <tr>\n      <th>22739095</th>\n      <td>This is not working Can barely get any search ...</td>\n      <td>2021-01-28</td>\n      <td></td>\n    </tr>\n    <tr>\n      <th>22739096</th>\n      <td>Do not sell</td>\n      <td>2021-01-28</td>\n      <td></td>\n    </tr>\n    <tr>\n      <th>22739097</th>\n      <td>GME, AMC, BB!!! 🚀🚀🚀🚀🚀🚀🚀</td>\n      <td>2021-01-28</td>\n      <td></td>\n    </tr>\n    <tr>\n      <th>22739100</th>\n      <td>SILV AG AND SLV UNBLOCKED ON ROBINHOOD</td>\n      <td>2021-01-28</td>\n      <td></td>\n    </tr>\n  </tbody>\n</table>\n<p>17681183 rows × 3 columns</p>\n</div>"
     },
     "execution_count": 7,
     "metadata": {},
     "output_type": "execute_result"
    },
    {
     "data": {
      "text/plain": "                                                   body created_utc Symbol\n0     420 calls 4/21 are about 60$ a pop not gonna l...  2021-04-09       \n1                                   7% a week ain’t bad  2021-04-09       \n2               Man the GME cult thread is pure comedy.  2021-04-09       \n3     I hope that you have $30k set aside for taxes....  2021-04-09       \n4     I mean as long as it is profitable for you but...  2021-04-09       \n...                                                 ...         ...    ...\n4996         can a homie get a dead cat bounce? goddamn  2021-05-13       \n4997                       I beat you, -72% this month.  2021-05-13       \n4998                               Better before friday  2021-05-13       \n4999  🤡🤡🤡 This is me with my EU marketplace spy puts...  2021-05-13       \n5000                    You really like those jeans huh  2021-07-10       \n\n[4058 rows x 3 columns]",
      "text/html": "<div>\n<style scoped>\n    .dataframe tbody tr th:only-of-type {\n        vertical-align: middle;\n    }\n\n    .dataframe tbody tr th {\n        vertical-align: top;\n    }\n\n    .dataframe thead th {\n        text-align: right;\n    }\n</style>\n<table border=\"1\" class=\"dataframe\">\n  <thead>\n    <tr style=\"text-align: right;\">\n      <th></th>\n      <th>body</th>\n      <th>created_utc</th>\n      <th>Symbol</th>\n    </tr>\n  </thead>\n  <tbody>\n    <tr>\n      <th>0</th>\n      <td>420 calls 4/21 are about 60$ a pop not gonna l...</td>\n      <td>2021-04-09</td>\n      <td></td>\n    </tr>\n    <tr>\n      <th>1</th>\n      <td>7% a week ain’t bad</td>\n      <td>2021-04-09</td>\n      <td></td>\n    </tr>\n    <tr>\n      <th>2</th>\n      <td>Man the GME cult thread is pure comedy.</td>\n      <td>2021-04-09</td>\n      <td></td>\n    </tr>\n    <tr>\n      <th>3</th>\n      <td>I hope that you have $30k set aside for taxes....</td>\n      <td>2021-04-09</td>\n      <td></td>\n    </tr>\n    <tr>\n      <th>4</th>\n      <td>I mean as long as it is profitable for you but...</td>\n      <td>2021-04-09</td>\n      <td></td>\n    </tr>\n    <tr>\n      <th>...</th>\n      <td>...</td>\n      <td>...</td>\n      <td>...</td>\n    </tr>\n    <tr>\n      <th>4996</th>\n      <td>can a homie get a dead cat bounce? goddamn</td>\n      <td>2021-05-13</td>\n      <td></td>\n    </tr>\n    <tr>\n      <th>4997</th>\n      <td>I beat you, -72% this month.</td>\n      <td>2021-05-13</td>\n      <td></td>\n    </tr>\n    <tr>\n      <th>4998</th>\n      <td>Better before friday</td>\n      <td>2021-05-13</td>\n      <td></td>\n    </tr>\n    <tr>\n      <th>4999</th>\n      <td>🤡🤡🤡 This is me with my EU marketplace spy puts...</td>\n      <td>2021-05-13</td>\n      <td></td>\n    </tr>\n    <tr>\n      <th>5000</th>\n      <td>You really like those jeans huh</td>\n      <td>2021-07-10</td>\n      <td></td>\n    </tr>\n  </tbody>\n</table>\n<p>4058 rows × 3 columns</p>\n</div>"
     },
     "execution_count": 8,
     "metadata": {},
     "output_type": "execute_result"
    }
   ],
   "source": [
    "test_df.compute()"
   ],
   "metadata": {
    "collapsed": false,
    "pycharm": {
     "name": "#%%\n"
    }
   }
  },
  {
   "cell_type": "code",
   "execution_count": 9,
   "outputs": [
    {
     "data": {
      "text/plain": "Dask DataFrame Structure:\n                 body     created_utc  Symbol\nnpartitions=1                                \n0              object  datetime64[ns]  object\n5000              ...             ...     ...\nDask Name: loc, 21 tasks",
      "text/html": "<div><strong>Dask DataFrame Structure:</strong></div>\n<div>\n<style scoped>\n    .dataframe tbody tr th:only-of-type {\n        vertical-align: middle;\n    }\n\n    .dataframe tbody tr th {\n        vertical-align: top;\n    }\n\n    .dataframe thead th {\n        text-align: right;\n    }\n</style>\n<table border=\"1\" class=\"dataframe\">\n  <thead>\n    <tr style=\"text-align: right;\">\n      <th></th>\n      <th>body</th>\n      <th>created_utc</th>\n      <th>Symbol</th>\n    </tr>\n    <tr>\n      <th>npartitions=1</th>\n      <th></th>\n      <th></th>\n      <th></th>\n    </tr>\n  </thead>\n  <tbody>\n    <tr>\n      <th>0</th>\n      <td>object</td>\n      <td>datetime64[ns]</td>\n      <td>object</td>\n    </tr>\n    <tr>\n      <th>5000</th>\n      <td>...</td>\n      <td>...</td>\n      <td>...</td>\n    </tr>\n  </tbody>\n</table>\n</div>\n<div>Dask Name: loc, 21 tasks</div>"
     },
     "execution_count": 9,
     "metadata": {},
     "output_type": "execute_result"
    }
   ],
   "source": [
    "test_df"
   ],
   "metadata": {
    "collapsed": false,
    "pycharm": {
     "name": "#%%\n"
    }
   }
  },
  {
   "cell_type": "code",
   "execution_count": 10,
   "outputs": [
    {
     "data": {
      "text/plain": "                                                   body created_utc Symbol\n0     420 calls 4/21 are about 60$ a pop not gonna l...  2021-04-09       \n1                                   7% a week ain’t bad  2021-04-09       \n2               Man the GME cult thread is pure comedy.  2021-04-09       \n3     I hope that you have $30k set aside for taxes....  2021-04-09       \n4     I mean as long as it is profitable for you but...  2021-04-09       \n...                                                 ...         ...    ...\n4996         can a homie get a dead cat bounce? goddamn  2021-05-13       \n4997                       I beat you, -72% this month.  2021-05-13       \n4998                               Better before friday  2021-05-13       \n4999  🤡🤡🤡 This is me with my EU marketplace spy puts...  2021-05-13       \n5000                    You really like those jeans huh  2021-07-10       \n\n[4058 rows x 3 columns]",
      "text/html": "<div>\n<style scoped>\n    .dataframe tbody tr th:only-of-type {\n        vertical-align: middle;\n    }\n\n    .dataframe tbody tr th {\n        vertical-align: top;\n    }\n\n    .dataframe thead th {\n        text-align: right;\n    }\n</style>\n<table border=\"1\" class=\"dataframe\">\n  <thead>\n    <tr style=\"text-align: right;\">\n      <th></th>\n      <th>body</th>\n      <th>created_utc</th>\n      <th>Symbol</th>\n    </tr>\n  </thead>\n  <tbody>\n    <tr>\n      <th>0</th>\n      <td>420 calls 4/21 are about 60$ a pop not gonna l...</td>\n      <td>2021-04-09</td>\n      <td></td>\n    </tr>\n    <tr>\n      <th>1</th>\n      <td>7% a week ain’t bad</td>\n      <td>2021-04-09</td>\n      <td></td>\n    </tr>\n    <tr>\n      <th>2</th>\n      <td>Man the GME cult thread is pure comedy.</td>\n      <td>2021-04-09</td>\n      <td></td>\n    </tr>\n    <tr>\n      <th>3</th>\n      <td>I hope that you have $30k set aside for taxes....</td>\n      <td>2021-04-09</td>\n      <td></td>\n    </tr>\n    <tr>\n      <th>4</th>\n      <td>I mean as long as it is profitable for you but...</td>\n      <td>2021-04-09</td>\n      <td></td>\n    </tr>\n    <tr>\n      <th>...</th>\n      <td>...</td>\n      <td>...</td>\n      <td>...</td>\n    </tr>\n    <tr>\n      <th>4996</th>\n      <td>can a homie get a dead cat bounce? goddamn</td>\n      <td>2021-05-13</td>\n      <td></td>\n    </tr>\n    <tr>\n      <th>4997</th>\n      <td>I beat you, -72% this month.</td>\n      <td>2021-05-13</td>\n      <td></td>\n    </tr>\n    <tr>\n      <th>4998</th>\n      <td>Better before friday</td>\n      <td>2021-05-13</td>\n      <td></td>\n    </tr>\n    <tr>\n      <th>4999</th>\n      <td>🤡🤡🤡 This is me with my EU marketplace spy puts...</td>\n      <td>2021-05-13</td>\n      <td></td>\n    </tr>\n    <tr>\n      <th>5000</th>\n      <td>You really like those jeans huh</td>\n      <td>2021-07-10</td>\n      <td></td>\n    </tr>\n  </tbody>\n</table>\n<p>4058 rows × 3 columns</p>\n</div>"
     },
     "execution_count": 10,
     "metadata": {},
     "output_type": "execute_result"
    }
   ],
   "source": [
    "test_df.compute()"
   ],
   "metadata": {
    "collapsed": false,
    "pycharm": {
     "name": "#%%\n"
    }
   }
  },
  {
   "cell_type": "code",
   "execution_count": 11,
   "outputs": [
    {
     "ename": "ValueError",
     "evalue": "The truth value of a Series is ambiguous. Use a.any() or a.all().",
     "output_type": "error",
     "traceback": [
      "\u001B[0;31m---------------------------------------------------------------------------\u001B[0m",
      "\u001B[0;31mValueError\u001B[0m                                Traceback (most recent call last)",
      "\u001B[0;32m<timed exec>\u001B[0m in \u001B[0;36m<module>\u001B[0;34m\u001B[0m\n",
      "\u001B[0;32m~/lib/python3.10/site-packages/dask/dataframe/core.py\u001B[0m in \u001B[0;36m__bool__\u001B[0;34m(self)\u001B[0m\n\u001B[1;32m    631\u001B[0m \u001B[0;34m\u001B[0m\u001B[0m\n\u001B[1;32m    632\u001B[0m     \u001B[0;32mdef\u001B[0m \u001B[0m__bool__\u001B[0m\u001B[0;34m(\u001B[0m\u001B[0mself\u001B[0m\u001B[0;34m)\u001B[0m\u001B[0;34m:\u001B[0m\u001B[0;34m\u001B[0m\u001B[0;34m\u001B[0m\u001B[0m\n\u001B[0;32m--> 633\u001B[0;31m         raise ValueError(\n\u001B[0m\u001B[1;32m    634\u001B[0m             \u001B[0;34mf\"The truth value of a {self.__class__.__name__} is ambiguous. \"\u001B[0m\u001B[0;34m\u001B[0m\u001B[0;34m\u001B[0m\u001B[0m\n\u001B[1;32m    635\u001B[0m             \u001B[0;34m\"Use a.any() or a.all().\"\u001B[0m\u001B[0;34m\u001B[0m\u001B[0;34m\u001B[0m\u001B[0m\n",
      "\u001B[0;31mValueError\u001B[0m: The truth value of a Series is ambiguous. Use a.any() or a.all()."
     ]
    }
   ],
   "source": [
    "%%time\n",
    "count = 0\n",
    "for i in test_df.index:\n",
    "    if test_df.loc[i, \"Symbol\"] != \"\":\n",
    "        count += 1\n",
    "count"
   ],
   "metadata": {
    "collapsed": false,
    "pycharm": {
     "name": "#%%\n"
    }
   }
  }
 ],
 "metadata": {
  "kernelspec": {
   "display_name": "Python 3",
   "language": "python",
   "name": "python3"
  },
  "language_info": {
   "codemirror_mode": {
    "name": "ipython",
    "version": 2
   },
   "file_extension": ".py",
   "mimetype": "text/x-python",
   "name": "python",
   "nbconvert_exporter": "python",
   "pygments_lexer": "ipython2",
   "version": "2.7.6"
  }
 },
 "nbformat": 4,
 "nbformat_minor": 0
}