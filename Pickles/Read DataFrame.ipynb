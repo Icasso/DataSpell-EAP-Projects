{
 "cells": [
  {
   "cell_type": "code",
   "execution_count": 25,
   "metadata": {
    "collapsed": true
   },
   "outputs": [],
   "source": [
    "import pandas as pd"
   ]
  },
  {
   "cell_type": "code",
   "execution_count": 66,
   "outputs": [
    {
     "data": {
      "text/plain": "                                                      body created_utc Symbol  \\\n2298819  Up 8.8K, 22%. Started trading and getting vacc...  2021-01-01   TSLA   \n4482268  This. The less you all buy short term OTM opti...  2021-01-01   PLTR   \n2299088  Appreciate all the DD you have done, but I jus...  2021-01-01     DD   \n4482275                                                  F  2021-01-01      F   \n4482128                                                GME  2021-01-01    GME   \n...                                                    ...         ...    ...   \n465806                                 !banbet $DKNG 37 7D  2021-11-28   DKNG   \n465803   I am a bot from /r/wallstreetbets. Your submis...  2021-11-28     DD   \n6743427  STOCKS CRASH. SOYBEAN FUTURES SKY ROCKET . DOL...  2021-11-28    SKY   \n465891   I was definitely looking at TD and Webull. I w...  2021-11-28     TD   \n6744349  Your roots are showing. A long line of ho ho h...  2021-11-28      A   \n\n         TextBlob_Polarity  TextBlob_Subjectivity  Default_Vader_Negative  \\\n2298819           0.030556               0.144444                   0.024   \n4482268           0.020000               0.614444                   0.102   \n2299088          -0.076190               0.447619                   0.000   \n4482275           0.000000               0.000000                   0.000   \n4482128           0.000000               0.000000                   0.000   \n...                    ...                    ...                     ...   \n465806            0.000000               0.000000                   0.000   \n465803            0.000000               0.000000                   0.000   \n6743427           0.000000               0.000000                   0.184   \n465891            0.102778               0.536111                   0.125   \n6744349          -0.050000               0.400000                   0.000   \n\n         Default_Vader_Neutral  Default_Vader_Positive  \\\n2298819                  0.879                   0.097   \n4482268                  0.741                   0.156   \n2299088                  0.920                   0.080   \n4482275                  0.000                   0.000   \n4482128                  1.000                   0.000   \n...                        ...                     ...   \n465806                   1.000                   0.000   \n465803                   1.000                   0.000   \n6743427                  0.816                   0.000   \n465891                   0.810                   0.065   \n6744349                  1.000                   0.000   \n\n         Default_Vader_Compound  Modified_Vader_Negative  \\\n2298819                  0.7906                    0.090   \n4482268                  0.7935                    0.134   \n2299088                  0.9306                    0.023   \n4482275                  0.0000                    0.000   \n4482128                  0.0000                    0.000   \n...                         ...                      ...   \n465806                   0.0000                    0.000   \n465803                   0.0000                    0.000   \n6743427                 -0.4019                    0.129   \n465891                  -0.4025                    0.125   \n6744349                  0.0000                    0.000   \n\n         Modified_Vader_Neutral  Modified_Vader_Positive  \\\n2298819                   0.818                    0.092   \n4482268                   0.595                    0.271   \n2299088                   0.898                    0.079   \n4482275                   0.000                    0.000   \n4482128                   1.000                    0.000   \n...                         ...                      ...   \n465806                    1.000                    0.000   \n465803                    1.000                    0.000   \n6743427                   0.478                    0.392   \n465891                    0.810                    0.065   \n6744349                   0.812                    0.188   \n\n         Modified_Vader_Compound  \n2298819                  -0.1779  \n4482268                   0.9893  \n2299088                   0.8705  \n4482275                   0.0000  \n4482128                   0.0000  \n...                          ...  \n465806                    0.0000  \n465803                    0.0000  \n6743427                   0.7579  \n465891                   -0.4025  \n6744349                   0.4588  \n\n[2755024 rows x 13 columns]",
      "text/html": "<div>\n<style scoped>\n    .dataframe tbody tr th:only-of-type {\n        vertical-align: middle;\n    }\n\n    .dataframe tbody tr th {\n        vertical-align: top;\n    }\n\n    .dataframe thead th {\n        text-align: right;\n    }\n</style>\n<table border=\"1\" class=\"dataframe\">\n  <thead>\n    <tr style=\"text-align: right;\">\n      <th></th>\n      <th>body</th>\n      <th>created_utc</th>\n      <th>Symbol</th>\n      <th>TextBlob_Polarity</th>\n      <th>TextBlob_Subjectivity</th>\n      <th>Default_Vader_Negative</th>\n      <th>Default_Vader_Neutral</th>\n      <th>Default_Vader_Positive</th>\n      <th>Default_Vader_Compound</th>\n      <th>Modified_Vader_Negative</th>\n      <th>Modified_Vader_Neutral</th>\n      <th>Modified_Vader_Positive</th>\n      <th>Modified_Vader_Compound</th>\n    </tr>\n  </thead>\n  <tbody>\n    <tr>\n      <th>2298819</th>\n      <td>Up 8.8K, 22%. Started trading and getting vacc...</td>\n      <td>2021-01-01</td>\n      <td>TSLA</td>\n      <td>0.030556</td>\n      <td>0.144444</td>\n      <td>0.024</td>\n      <td>0.879</td>\n      <td>0.097</td>\n      <td>0.7906</td>\n      <td>0.090</td>\n      <td>0.818</td>\n      <td>0.092</td>\n      <td>-0.1779</td>\n    </tr>\n    <tr>\n      <th>4482268</th>\n      <td>This. The less you all buy short term OTM opti...</td>\n      <td>2021-01-01</td>\n      <td>PLTR</td>\n      <td>0.020000</td>\n      <td>0.614444</td>\n      <td>0.102</td>\n      <td>0.741</td>\n      <td>0.156</td>\n      <td>0.7935</td>\n      <td>0.134</td>\n      <td>0.595</td>\n      <td>0.271</td>\n      <td>0.9893</td>\n    </tr>\n    <tr>\n      <th>2299088</th>\n      <td>Appreciate all the DD you have done, but I jus...</td>\n      <td>2021-01-01</td>\n      <td>DD</td>\n      <td>-0.076190</td>\n      <td>0.447619</td>\n      <td>0.000</td>\n      <td>0.920</td>\n      <td>0.080</td>\n      <td>0.9306</td>\n      <td>0.023</td>\n      <td>0.898</td>\n      <td>0.079</td>\n      <td>0.8705</td>\n    </tr>\n    <tr>\n      <th>4482275</th>\n      <td>F</td>\n      <td>2021-01-01</td>\n      <td>F</td>\n      <td>0.000000</td>\n      <td>0.000000</td>\n      <td>0.000</td>\n      <td>0.000</td>\n      <td>0.000</td>\n      <td>0.0000</td>\n      <td>0.000</td>\n      <td>0.000</td>\n      <td>0.000</td>\n      <td>0.0000</td>\n    </tr>\n    <tr>\n      <th>4482128</th>\n      <td>GME</td>\n      <td>2021-01-01</td>\n      <td>GME</td>\n      <td>0.000000</td>\n      <td>0.000000</td>\n      <td>0.000</td>\n      <td>1.000</td>\n      <td>0.000</td>\n      <td>0.0000</td>\n      <td>0.000</td>\n      <td>1.000</td>\n      <td>0.000</td>\n      <td>0.0000</td>\n    </tr>\n    <tr>\n      <th>...</th>\n      <td>...</td>\n      <td>...</td>\n      <td>...</td>\n      <td>...</td>\n      <td>...</td>\n      <td>...</td>\n      <td>...</td>\n      <td>...</td>\n      <td>...</td>\n      <td>...</td>\n      <td>...</td>\n      <td>...</td>\n      <td>...</td>\n    </tr>\n    <tr>\n      <th>465806</th>\n      <td>!banbet $DKNG 37 7D</td>\n      <td>2021-11-28</td>\n      <td>DKNG</td>\n      <td>0.000000</td>\n      <td>0.000000</td>\n      <td>0.000</td>\n      <td>1.000</td>\n      <td>0.000</td>\n      <td>0.0000</td>\n      <td>0.000</td>\n      <td>1.000</td>\n      <td>0.000</td>\n      <td>0.0000</td>\n    </tr>\n    <tr>\n      <th>465803</th>\n      <td>I am a bot from /r/wallstreetbets. Your submis...</td>\n      <td>2021-11-28</td>\n      <td>DD</td>\n      <td>0.000000</td>\n      <td>0.000000</td>\n      <td>0.000</td>\n      <td>1.000</td>\n      <td>0.000</td>\n      <td>0.0000</td>\n      <td>0.000</td>\n      <td>1.000</td>\n      <td>0.000</td>\n      <td>0.0000</td>\n    </tr>\n    <tr>\n      <th>6743427</th>\n      <td>STOCKS CRASH. SOYBEAN FUTURES SKY ROCKET . DOL...</td>\n      <td>2021-11-28</td>\n      <td>SKY</td>\n      <td>0.000000</td>\n      <td>0.000000</td>\n      <td>0.184</td>\n      <td>0.816</td>\n      <td>0.000</td>\n      <td>-0.4019</td>\n      <td>0.129</td>\n      <td>0.478</td>\n      <td>0.392</td>\n      <td>0.7579</td>\n    </tr>\n    <tr>\n      <th>465891</th>\n      <td>I was definitely looking at TD and Webull. I w...</td>\n      <td>2021-11-28</td>\n      <td>TD</td>\n      <td>0.102778</td>\n      <td>0.536111</td>\n      <td>0.125</td>\n      <td>0.810</td>\n      <td>0.065</td>\n      <td>-0.4025</td>\n      <td>0.125</td>\n      <td>0.810</td>\n      <td>0.065</td>\n      <td>-0.4025</td>\n    </tr>\n    <tr>\n      <th>6744349</th>\n      <td>Your roots are showing. A long line of ho ho h...</td>\n      <td>2021-11-28</td>\n      <td>A</td>\n      <td>-0.050000</td>\n      <td>0.400000</td>\n      <td>0.000</td>\n      <td>1.000</td>\n      <td>0.000</td>\n      <td>0.0000</td>\n      <td>0.000</td>\n      <td>0.812</td>\n      <td>0.188</td>\n      <td>0.4588</td>\n    </tr>\n  </tbody>\n</table>\n<p>2755024 rows × 13 columns</p>\n</div>"
     },
     "execution_count": 66,
     "metadata": {},
     "output_type": "execute_result"
    }
   ],
   "source": [
    "df = pd.read_pickle('../Sentiment Analysis/comments_fin_df.pkl')\n",
    "df = df[df['Symbol'] != '']\n",
    "df"
   ],
   "metadata": {
    "collapsed": false,
    "pycharm": {
     "name": "#%%\n"
    }
   }
  },
  {
   "cell_type": "code",
   "execution_count": 67,
   "outputs": [],
   "source": [
    "df = df.drop(columns=['body', 'TextBlob_Polarity', 'Default_Vader_Neutral', 'Default_Vader_Negative', 'Default_Vader_Positive', 'TextBlob_Subjectivity', 'Default_Vader_Compound', 'Modified_Vader_Negative', 'Modified_Vader_Positive', 'Modified_Vader_Neutral'])"
   ],
   "metadata": {
    "collapsed": false,
    "pycharm": {
     "name": "#%%\n"
    }
   }
  },
  {
   "cell_type": "code",
   "execution_count": 68,
   "outputs": [
    {
     "data": {
      "text/plain": "        created_utc Symbol  Modified_Vader_Compound\n2298819  2021-01-01   TSLA                  -0.1779\n4482268  2021-01-01   PLTR                   0.9893\n2299088  2021-01-01     DD                   0.8705\n4482275  2021-01-01      F                   0.0000\n4482128  2021-01-01    GME                   0.0000\n...             ...    ...                      ...\n465806   2021-11-28   DKNG                   0.0000\n465803   2021-11-28     DD                   0.0000\n6743427  2021-11-28    SKY                   0.7579\n465891   2021-11-28     TD                  -0.4025\n6744349  2021-11-28      A                   0.4588\n\n[2755024 rows x 3 columns]",
      "text/html": "<div>\n<style scoped>\n    .dataframe tbody tr th:only-of-type {\n        vertical-align: middle;\n    }\n\n    .dataframe tbody tr th {\n        vertical-align: top;\n    }\n\n    .dataframe thead th {\n        text-align: right;\n    }\n</style>\n<table border=\"1\" class=\"dataframe\">\n  <thead>\n    <tr style=\"text-align: right;\">\n      <th></th>\n      <th>created_utc</th>\n      <th>Symbol</th>\n      <th>Modified_Vader_Compound</th>\n    </tr>\n  </thead>\n  <tbody>\n    <tr>\n      <th>2298819</th>\n      <td>2021-01-01</td>\n      <td>TSLA</td>\n      <td>-0.1779</td>\n    </tr>\n    <tr>\n      <th>4482268</th>\n      <td>2021-01-01</td>\n      <td>PLTR</td>\n      <td>0.9893</td>\n    </tr>\n    <tr>\n      <th>2299088</th>\n      <td>2021-01-01</td>\n      <td>DD</td>\n      <td>0.8705</td>\n    </tr>\n    <tr>\n      <th>4482275</th>\n      <td>2021-01-01</td>\n      <td>F</td>\n      <td>0.0000</td>\n    </tr>\n    <tr>\n      <th>4482128</th>\n      <td>2021-01-01</td>\n      <td>GME</td>\n      <td>0.0000</td>\n    </tr>\n    <tr>\n      <th>...</th>\n      <td>...</td>\n      <td>...</td>\n      <td>...</td>\n    </tr>\n    <tr>\n      <th>465806</th>\n      <td>2021-11-28</td>\n      <td>DKNG</td>\n      <td>0.0000</td>\n    </tr>\n    <tr>\n      <th>465803</th>\n      <td>2021-11-28</td>\n      <td>DD</td>\n      <td>0.0000</td>\n    </tr>\n    <tr>\n      <th>6743427</th>\n      <td>2021-11-28</td>\n      <td>SKY</td>\n      <td>0.7579</td>\n    </tr>\n    <tr>\n      <th>465891</th>\n      <td>2021-11-28</td>\n      <td>TD</td>\n      <td>-0.4025</td>\n    </tr>\n    <tr>\n      <th>6744349</th>\n      <td>2021-11-28</td>\n      <td>A</td>\n      <td>0.4588</td>\n    </tr>\n  </tbody>\n</table>\n<p>2755024 rows × 3 columns</p>\n</div>"
     },
     "execution_count": 68,
     "metadata": {},
     "output_type": "execute_result"
    }
   ],
   "source": [
    "df"
   ],
   "metadata": {
    "collapsed": false,
    "pycharm": {
     "name": "#%%\n"
    }
   }
  },
  {
   "cell_type": "code",
   "execution_count": 69,
   "outputs": [],
   "source": [
    "df.to_pickle('symbol_mvader_compound.pkl')"
   ],
   "metadata": {
    "collapsed": false,
    "pycharm": {
     "name": "#%%\n"
    }
   }
  },
  {
   "cell_type": "code",
   "execution_count": 70,
   "outputs": [
    {
     "data": {
      "text/plain": "        created_utc Symbol  Modified_Vader_Compound\n2298819  2021-01-01   TSLA                  -0.1779\n4482268  2021-01-01   PLTR                   0.9893\n2299088  2021-01-01     DD                   0.8705\n4482275  2021-01-01      F                   0.0000\n4482128  2021-01-01    GME                   0.0000\n...             ...    ...                      ...\n465806   2021-11-28   DKNG                   0.0000\n465803   2021-11-28     DD                   0.0000\n6743427  2021-11-28    SKY                   0.7579\n465891   2021-11-28     TD                  -0.4025\n6744349  2021-11-28      A                   0.4588\n\n[2755024 rows x 3 columns]",
      "text/html": "<div>\n<style scoped>\n    .dataframe tbody tr th:only-of-type {\n        vertical-align: middle;\n    }\n\n    .dataframe tbody tr th {\n        vertical-align: top;\n    }\n\n    .dataframe thead th {\n        text-align: right;\n    }\n</style>\n<table border=\"1\" class=\"dataframe\">\n  <thead>\n    <tr style=\"text-align: right;\">\n      <th></th>\n      <th>created_utc</th>\n      <th>Symbol</th>\n      <th>Modified_Vader_Compound</th>\n    </tr>\n  </thead>\n  <tbody>\n    <tr>\n      <th>2298819</th>\n      <td>2021-01-01</td>\n      <td>TSLA</td>\n      <td>-0.1779</td>\n    </tr>\n    <tr>\n      <th>4482268</th>\n      <td>2021-01-01</td>\n      <td>PLTR</td>\n      <td>0.9893</td>\n    </tr>\n    <tr>\n      <th>2299088</th>\n      <td>2021-01-01</td>\n      <td>DD</td>\n      <td>0.8705</td>\n    </tr>\n    <tr>\n      <th>4482275</th>\n      <td>2021-01-01</td>\n      <td>F</td>\n      <td>0.0000</td>\n    </tr>\n    <tr>\n      <th>4482128</th>\n      <td>2021-01-01</td>\n      <td>GME</td>\n      <td>0.0000</td>\n    </tr>\n    <tr>\n      <th>...</th>\n      <td>...</td>\n      <td>...</td>\n      <td>...</td>\n    </tr>\n    <tr>\n      <th>465806</th>\n      <td>2021-11-28</td>\n      <td>DKNG</td>\n      <td>0.0000</td>\n    </tr>\n    <tr>\n      <th>465803</th>\n      <td>2021-11-28</td>\n      <td>DD</td>\n      <td>0.0000</td>\n    </tr>\n    <tr>\n      <th>6743427</th>\n      <td>2021-11-28</td>\n      <td>SKY</td>\n      <td>0.7579</td>\n    </tr>\n    <tr>\n      <th>465891</th>\n      <td>2021-11-28</td>\n      <td>TD</td>\n      <td>-0.4025</td>\n    </tr>\n    <tr>\n      <th>6744349</th>\n      <td>2021-11-28</td>\n      <td>A</td>\n      <td>0.4588</td>\n    </tr>\n  </tbody>\n</table>\n<p>2755024 rows × 3 columns</p>\n</div>"
     },
     "execution_count": 70,
     "metadata": {},
     "output_type": "execute_result"
    }
   ],
   "source": [
    "df = pd.read_pickle('symbol_mvader_compound.pkl')\n",
    "df"
   ],
   "metadata": {
    "collapsed": false,
    "pycharm": {
     "name": "#%%\n"
    }
   }
  },
  {
   "cell_type": "code",
   "execution_count": null,
   "outputs": [],
   "source": [],
   "metadata": {
    "collapsed": false,
    "pycharm": {
     "name": "#%%\n"
    }
   }
  }
 ],
 "metadata": {
  "kernelspec": {
   "display_name": "Python 3",
   "language": "python",
   "name": "python3"
  },
  "language_info": {
   "codemirror_mode": {
    "name": "ipython",
    "version": 2
   },
   "file_extension": ".py",
   "mimetype": "text/x-python",
   "name": "python",
   "nbconvert_exporter": "python",
   "pygments_lexer": "ipython2",
   "version": "2.7.6"
  }
 },
 "nbformat": 4,
 "nbformat_minor": 0
}