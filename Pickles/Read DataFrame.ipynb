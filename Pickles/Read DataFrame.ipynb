{
 "cells": [
  {
   "cell_type": "code",
   "execution_count": 6,
   "metadata": {
    "collapsed": true
   },
   "outputs": [],
   "source": [
    "import pandas as pd"
   ]
  },
  {
   "cell_type": "code",
   "execution_count": 7,
   "outputs": [
    {
     "data": {
      "text/plain": "                Subreddit  Subscribers\n0          wallstreetbets     11576679\n1          CryptoCurrency      4449677\n2                 Bitcoin      3874136\n3                  stocks      3613102\n4               investing      1995307\n5             StockMarket      1935246\n6             pennystocks      1857855\n7               Economics      1854851\n8             algotrading      1365441\n9              Daytrading       864983\n10                options       834292\n11      Wallstreetbetsnew       828398\n12                economy       764963\n13   RobinHoodPennyStocks       602993\n14                finance       531419\n15    WallStreetbetsELITE       432272\n16              dividends       250735\n17             weedstocks       234164\n18       CanadianInvestor       227954\n19        smallstreetbets       226137\n20       Wallstreetsilver       180166\n21       SecurityAnalysis       177203\n22              thetagang       160728\n23            Stock_Picks       113263\n24       StocksAndTrading        93713\n25                Trading        89279\n26               ASX_Bets        86508\n27        wallstreetbets2        78631\n28         InvestmentClub        72818\n29        wallstreetbets_        56237\n30            UKInvesting        55250\n31          WSBAfterHours        51459\n32                 stonks        50705\n33       IndianStreetBets        50270\n34              ausstocks        47601\n35          Baystreetbets        42411\n36            econmonitor        29785\n37               MoonBets        27903\n38                  quant        24556\n39          farialimabets        20712\n40  wallstreetbetsoptions        17633\n41                ISKbets        13794\n42          wallstreetbet        13471\n43         babystreetbets        12190\n44           quantfinance        10004\n45  ameisenstrassenwetten         9132\n46     wallstreetsidebets         8699\n47     algorithmictrading         7481\n48          antstreetbets         6423\n49      Wallstreetwarrior         3490\n50             retardbets         2769\n51      shortinterestbets         2286\n52       InvestingRetards         1569\n53          GlobalMarkets          287",
      "text/html": "<div>\n<style scoped>\n    .dataframe tbody tr th:only-of-type {\n        vertical-align: middle;\n    }\n\n    .dataframe tbody tr th {\n        vertical-align: top;\n    }\n\n    .dataframe thead th {\n        text-align: right;\n    }\n</style>\n<table border=\"1\" class=\"dataframe\">\n  <thead>\n    <tr style=\"text-align: right;\">\n      <th></th>\n      <th>Subreddit</th>\n      <th>Subscribers</th>\n    </tr>\n  </thead>\n  <tbody>\n    <tr>\n      <th>0</th>\n      <td>wallstreetbets</td>\n      <td>11576679</td>\n    </tr>\n    <tr>\n      <th>1</th>\n      <td>CryptoCurrency</td>\n      <td>4449677</td>\n    </tr>\n    <tr>\n      <th>2</th>\n      <td>Bitcoin</td>\n      <td>3874136</td>\n    </tr>\n    <tr>\n      <th>3</th>\n      <td>stocks</td>\n      <td>3613102</td>\n    </tr>\n    <tr>\n      <th>4</th>\n      <td>investing</td>\n      <td>1995307</td>\n    </tr>\n    <tr>\n      <th>5</th>\n      <td>StockMarket</td>\n      <td>1935246</td>\n    </tr>\n    <tr>\n      <th>6</th>\n      <td>pennystocks</td>\n      <td>1857855</td>\n    </tr>\n    <tr>\n      <th>7</th>\n      <td>Economics</td>\n      <td>1854851</td>\n    </tr>\n    <tr>\n      <th>8</th>\n      <td>algotrading</td>\n      <td>1365441</td>\n    </tr>\n    <tr>\n      <th>9</th>\n      <td>Daytrading</td>\n      <td>864983</td>\n    </tr>\n    <tr>\n      <th>10</th>\n      <td>options</td>\n      <td>834292</td>\n    </tr>\n    <tr>\n      <th>11</th>\n      <td>Wallstreetbetsnew</td>\n      <td>828398</td>\n    </tr>\n    <tr>\n      <th>12</th>\n      <td>economy</td>\n      <td>764963</td>\n    </tr>\n    <tr>\n      <th>13</th>\n      <td>RobinHoodPennyStocks</td>\n      <td>602993</td>\n    </tr>\n    <tr>\n      <th>14</th>\n      <td>finance</td>\n      <td>531419</td>\n    </tr>\n    <tr>\n      <th>15</th>\n      <td>WallStreetbetsELITE</td>\n      <td>432272</td>\n    </tr>\n    <tr>\n      <th>16</th>\n      <td>dividends</td>\n      <td>250735</td>\n    </tr>\n    <tr>\n      <th>17</th>\n      <td>weedstocks</td>\n      <td>234164</td>\n    </tr>\n    <tr>\n      <th>18</th>\n      <td>CanadianInvestor</td>\n      <td>227954</td>\n    </tr>\n    <tr>\n      <th>19</th>\n      <td>smallstreetbets</td>\n      <td>226137</td>\n    </tr>\n    <tr>\n      <th>20</th>\n      <td>Wallstreetsilver</td>\n      <td>180166</td>\n    </tr>\n    <tr>\n      <th>21</th>\n      <td>SecurityAnalysis</td>\n      <td>177203</td>\n    </tr>\n    <tr>\n      <th>22</th>\n      <td>thetagang</td>\n      <td>160728</td>\n    </tr>\n    <tr>\n      <th>23</th>\n      <td>Stock_Picks</td>\n      <td>113263</td>\n    </tr>\n    <tr>\n      <th>24</th>\n      <td>StocksAndTrading</td>\n      <td>93713</td>\n    </tr>\n    <tr>\n      <th>25</th>\n      <td>Trading</td>\n      <td>89279</td>\n    </tr>\n    <tr>\n      <th>26</th>\n      <td>ASX_Bets</td>\n      <td>86508</td>\n    </tr>\n    <tr>\n      <th>27</th>\n      <td>wallstreetbets2</td>\n      <td>78631</td>\n    </tr>\n    <tr>\n      <th>28</th>\n      <td>InvestmentClub</td>\n      <td>72818</td>\n    </tr>\n    <tr>\n      <th>29</th>\n      <td>wallstreetbets_</td>\n      <td>56237</td>\n    </tr>\n    <tr>\n      <th>30</th>\n      <td>UKInvesting</td>\n      <td>55250</td>\n    </tr>\n    <tr>\n      <th>31</th>\n      <td>WSBAfterHours</td>\n      <td>51459</td>\n    </tr>\n    <tr>\n      <th>32</th>\n      <td>stonks</td>\n      <td>50705</td>\n    </tr>\n    <tr>\n      <th>33</th>\n      <td>IndianStreetBets</td>\n      <td>50270</td>\n    </tr>\n    <tr>\n      <th>34</th>\n      <td>ausstocks</td>\n      <td>47601</td>\n    </tr>\n    <tr>\n      <th>35</th>\n      <td>Baystreetbets</td>\n      <td>42411</td>\n    </tr>\n    <tr>\n      <th>36</th>\n      <td>econmonitor</td>\n      <td>29785</td>\n    </tr>\n    <tr>\n      <th>37</th>\n      <td>MoonBets</td>\n      <td>27903</td>\n    </tr>\n    <tr>\n      <th>38</th>\n      <td>quant</td>\n      <td>24556</td>\n    </tr>\n    <tr>\n      <th>39</th>\n      <td>farialimabets</td>\n      <td>20712</td>\n    </tr>\n    <tr>\n      <th>40</th>\n      <td>wallstreetbetsoptions</td>\n      <td>17633</td>\n    </tr>\n    <tr>\n      <th>41</th>\n      <td>ISKbets</td>\n      <td>13794</td>\n    </tr>\n    <tr>\n      <th>42</th>\n      <td>wallstreetbet</td>\n      <td>13471</td>\n    </tr>\n    <tr>\n      <th>43</th>\n      <td>babystreetbets</td>\n      <td>12190</td>\n    </tr>\n    <tr>\n      <th>44</th>\n      <td>quantfinance</td>\n      <td>10004</td>\n    </tr>\n    <tr>\n      <th>45</th>\n      <td>ameisenstrassenwetten</td>\n      <td>9132</td>\n    </tr>\n    <tr>\n      <th>46</th>\n      <td>wallstreetsidebets</td>\n      <td>8699</td>\n    </tr>\n    <tr>\n      <th>47</th>\n      <td>algorithmictrading</td>\n      <td>7481</td>\n    </tr>\n    <tr>\n      <th>48</th>\n      <td>antstreetbets</td>\n      <td>6423</td>\n    </tr>\n    <tr>\n      <th>49</th>\n      <td>Wallstreetwarrior</td>\n      <td>3490</td>\n    </tr>\n    <tr>\n      <th>50</th>\n      <td>retardbets</td>\n      <td>2769</td>\n    </tr>\n    <tr>\n      <th>51</th>\n      <td>shortinterestbets</td>\n      <td>2286</td>\n    </tr>\n    <tr>\n      <th>52</th>\n      <td>InvestingRetards</td>\n      <td>1569</td>\n    </tr>\n    <tr>\n      <th>53</th>\n      <td>GlobalMarkets</td>\n      <td>287</td>\n    </tr>\n  </tbody>\n</table>\n</div>"
     },
     "execution_count": 7,
     "metadata": {},
     "output_type": "execute_result"
    }
   ],
   "source": [
    "df = pd.read_pickle('list.pkl')\n",
    "df"
   ],
   "metadata": {
    "collapsed": false,
    "pycharm": {
     "name": "#%%\n"
    }
   }
  },
  {
   "cell_type": "code",
   "execution_count": null,
   "outputs": [],
   "source": [],
   "metadata": {
    "collapsed": false,
    "pycharm": {
     "name": "#%%\n"
    }
   }
  }
 ],
 "metadata": {
  "kernelspec": {
   "display_name": "Python 3",
   "language": "python",
   "name": "python3"
  },
  "language_info": {
   "codemirror_mode": {
    "name": "ipython",
    "version": 2
   },
   "file_extension": ".py",
   "mimetype": "text/x-python",
   "name": "python",
   "nbconvert_exporter": "python",
   "pygments_lexer": "ipython2",
   "version": "2.7.6"
  }
 },
 "nbformat": 4,
 "nbformat_minor": 0
}