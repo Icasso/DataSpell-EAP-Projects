{
 "cells": [
  {
   "cell_type": "code",
   "execution_count": 2,
   "metadata": {
    "collapsed": true
   },
   "outputs": [],
   "source": [
    "import pandas as pd"
   ]
  },
  {
   "cell_type": "code",
   "execution_count": 4,
   "outputs": [
    {
     "data": {
      "text/plain": "        created_utc Symbol  TextBlob_Subjectivity\n2298819  2021-01-01   TSLA               0.144444\n4482268  2021-01-01   PLTR               0.614444\n2299088  2021-01-01     DD               0.447619\n4482275  2021-01-01      F               0.000000\n4482128  2021-01-01    GME               0.000000\n...             ...    ...                    ...\n465806   2021-11-28   DKNG               0.000000\n465803   2021-11-28     DD               0.000000\n6743427  2021-11-28    SKY               0.000000\n465891   2021-11-28     TD               0.536111\n6744349  2021-11-28      A               0.400000\n\n[2755024 rows x 3 columns]",
      "text/html": "<div>\n<style scoped>\n    .dataframe tbody tr th:only-of-type {\n        vertical-align: middle;\n    }\n\n    .dataframe tbody tr th {\n        vertical-align: top;\n    }\n\n    .dataframe thead th {\n        text-align: right;\n    }\n</style>\n<table border=\"1\" class=\"dataframe\">\n  <thead>\n    <tr style=\"text-align: right;\">\n      <th></th>\n      <th>created_utc</th>\n      <th>Symbol</th>\n      <th>TextBlob_Subjectivity</th>\n    </tr>\n  </thead>\n  <tbody>\n    <tr>\n      <th>2298819</th>\n      <td>2021-01-01</td>\n      <td>TSLA</td>\n      <td>0.144444</td>\n    </tr>\n    <tr>\n      <th>4482268</th>\n      <td>2021-01-01</td>\n      <td>PLTR</td>\n      <td>0.614444</td>\n    </tr>\n    <tr>\n      <th>2299088</th>\n      <td>2021-01-01</td>\n      <td>DD</td>\n      <td>0.447619</td>\n    </tr>\n    <tr>\n      <th>4482275</th>\n      <td>2021-01-01</td>\n      <td>F</td>\n      <td>0.000000</td>\n    </tr>\n    <tr>\n      <th>4482128</th>\n      <td>2021-01-01</td>\n      <td>GME</td>\n      <td>0.000000</td>\n    </tr>\n    <tr>\n      <th>...</th>\n      <td>...</td>\n      <td>...</td>\n      <td>...</td>\n    </tr>\n    <tr>\n      <th>465806</th>\n      <td>2021-11-28</td>\n      <td>DKNG</td>\n      <td>0.000000</td>\n    </tr>\n    <tr>\n      <th>465803</th>\n      <td>2021-11-28</td>\n      <td>DD</td>\n      <td>0.000000</td>\n    </tr>\n    <tr>\n      <th>6743427</th>\n      <td>2021-11-28</td>\n      <td>SKY</td>\n      <td>0.000000</td>\n    </tr>\n    <tr>\n      <th>465891</th>\n      <td>2021-11-28</td>\n      <td>TD</td>\n      <td>0.536111</td>\n    </tr>\n    <tr>\n      <th>6744349</th>\n      <td>2021-11-28</td>\n      <td>A</td>\n      <td>0.400000</td>\n    </tr>\n  </tbody>\n</table>\n<p>2755024 rows × 3 columns</p>\n</div>"
     },
     "execution_count": 4,
     "metadata": {},
     "output_type": "execute_result"
    }
   ],
   "source": [
    "df = pd.read_pickle('symbol_textblob_subjectivity.pkl')\n",
    "df"
   ],
   "metadata": {
    "collapsed": false,
    "pycharm": {
     "name": "#%%\n"
    }
   }
  },
  {
   "cell_type": "code",
   "execution_count": null,
   "outputs": [],
   "source": [],
   "metadata": {
    "collapsed": false,
    "pycharm": {
     "name": "#%%\n"
    }
   }
  }
 ],
 "metadata": {
  "kernelspec": {
   "display_name": "Python 3",
   "language": "python",
   "name": "python3"
  },
  "language_info": {
   "codemirror_mode": {
    "name": "ipython",
    "version": 2
   },
   "file_extension": ".py",
   "mimetype": "text/x-python",
   "name": "python",
   "nbconvert_exporter": "python",
   "pygments_lexer": "ipython2",
   "version": "2.7.6"
  }
 },
 "nbformat": 4,
 "nbformat_minor": 0
}