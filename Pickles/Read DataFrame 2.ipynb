{
 "cells": [
  {
   "cell_type": "code",
   "execution_count": 29,
   "metadata": {
    "collapsed": true
   },
   "outputs": [],
   "source": [
    "import pandas as pd"
   ]
  },
  {
   "cell_type": "code",
   "execution_count": 48,
   "outputs": [
    {
     "data": {
      "text/plain": "    created_utc       AMC       AMD        BB       GME       NOK      PLTR  \\\n0    2021-01-01  0.000000  0.048077  0.017000  0.063710  0.000000  0.077882   \n1    2021-01-02  0.000000  0.011400  0.124000  0.058627  0.000000  0.058823   \n2    2021-01-03  0.000000  0.056333  0.033067  0.054770  0.049667  0.066678   \n3    2021-01-04  0.000000  0.089649  0.082000  0.082828  0.161143  0.084030   \n4    2021-01-05  0.000000  0.102611  0.015333  0.080953  0.076500  0.073023   \n..          ...       ...       ...       ...       ...       ...       ...   \n306  2021-11-24  0.128382  0.071987  0.063397  0.082121  0.211500  0.072741   \n307  2021-11-25  0.017294  0.046437  0.048911  0.074537  0.000000  0.040333   \n308  2021-11-26  0.053769  0.084750  0.032872  0.103321  0.123500  0.078339   \n309  2021-11-27  0.106429  0.060857  0.067778  0.103193  0.109000  0.064200   \n310  2021-11-28  0.074500  0.045571  0.000000  0.090615  0.000000  0.099625   \n\n           RH       RKT      TLRY      TSLA  \n0    0.092982  0.089231  0.000000  0.048232  \n1    0.085267  0.063600  0.089000  0.056692  \n2    0.051541  0.077313  0.061100  0.075995  \n3    0.078984  0.101242  0.020275  0.070899  \n4    0.078932  0.056983  0.043122  0.065118  \n..        ...       ...       ...       ...  \n306  0.089571  0.040000  0.024857  0.073734  \n307  0.112714  0.000000  0.023200  0.071127  \n308  0.070824  0.000000  0.070750  0.075429  \n309  0.037889  0.000000  0.068000  0.060059  \n310  0.254500  0.000000  0.000000  0.054545  \n\n[311 rows x 11 columns]",
      "text/html": "<div>\n<style scoped>\n    .dataframe tbody tr th:only-of-type {\n        vertical-align: middle;\n    }\n\n    .dataframe tbody tr th {\n        vertical-align: top;\n    }\n\n    .dataframe thead th {\n        text-align: right;\n    }\n</style>\n<table border=\"1\" class=\"dataframe\">\n  <thead>\n    <tr style=\"text-align: right;\">\n      <th></th>\n      <th>created_utc</th>\n      <th>AMC</th>\n      <th>AMD</th>\n      <th>BB</th>\n      <th>GME</th>\n      <th>NOK</th>\n      <th>PLTR</th>\n      <th>RH</th>\n      <th>RKT</th>\n      <th>TLRY</th>\n      <th>TSLA</th>\n    </tr>\n  </thead>\n  <tbody>\n    <tr>\n      <th>0</th>\n      <td>2021-01-01</td>\n      <td>0.000000</td>\n      <td>0.048077</td>\n      <td>0.017000</td>\n      <td>0.063710</td>\n      <td>0.000000</td>\n      <td>0.077882</td>\n      <td>0.092982</td>\n      <td>0.089231</td>\n      <td>0.000000</td>\n      <td>0.048232</td>\n    </tr>\n    <tr>\n      <th>1</th>\n      <td>2021-01-02</td>\n      <td>0.000000</td>\n      <td>0.011400</td>\n      <td>0.124000</td>\n      <td>0.058627</td>\n      <td>0.000000</td>\n      <td>0.058823</td>\n      <td>0.085267</td>\n      <td>0.063600</td>\n      <td>0.089000</td>\n      <td>0.056692</td>\n    </tr>\n    <tr>\n      <th>2</th>\n      <td>2021-01-03</td>\n      <td>0.000000</td>\n      <td>0.056333</td>\n      <td>0.033067</td>\n      <td>0.054770</td>\n      <td>0.049667</td>\n      <td>0.066678</td>\n      <td>0.051541</td>\n      <td>0.077313</td>\n      <td>0.061100</td>\n      <td>0.075995</td>\n    </tr>\n    <tr>\n      <th>3</th>\n      <td>2021-01-04</td>\n      <td>0.000000</td>\n      <td>0.089649</td>\n      <td>0.082000</td>\n      <td>0.082828</td>\n      <td>0.161143</td>\n      <td>0.084030</td>\n      <td>0.078984</td>\n      <td>0.101242</td>\n      <td>0.020275</td>\n      <td>0.070899</td>\n    </tr>\n    <tr>\n      <th>4</th>\n      <td>2021-01-05</td>\n      <td>0.000000</td>\n      <td>0.102611</td>\n      <td>0.015333</td>\n      <td>0.080953</td>\n      <td>0.076500</td>\n      <td>0.073023</td>\n      <td>0.078932</td>\n      <td>0.056983</td>\n      <td>0.043122</td>\n      <td>0.065118</td>\n    </tr>\n    <tr>\n      <th>...</th>\n      <td>...</td>\n      <td>...</td>\n      <td>...</td>\n      <td>...</td>\n      <td>...</td>\n      <td>...</td>\n      <td>...</td>\n      <td>...</td>\n      <td>...</td>\n      <td>...</td>\n      <td>...</td>\n    </tr>\n    <tr>\n      <th>306</th>\n      <td>2021-11-24</td>\n      <td>0.128382</td>\n      <td>0.071987</td>\n      <td>0.063397</td>\n      <td>0.082121</td>\n      <td>0.211500</td>\n      <td>0.072741</td>\n      <td>0.089571</td>\n      <td>0.040000</td>\n      <td>0.024857</td>\n      <td>0.073734</td>\n    </tr>\n    <tr>\n      <th>307</th>\n      <td>2021-11-25</td>\n      <td>0.017294</td>\n      <td>0.046437</td>\n      <td>0.048911</td>\n      <td>0.074537</td>\n      <td>0.000000</td>\n      <td>0.040333</td>\n      <td>0.112714</td>\n      <td>0.000000</td>\n      <td>0.023200</td>\n      <td>0.071127</td>\n    </tr>\n    <tr>\n      <th>308</th>\n      <td>2021-11-26</td>\n      <td>0.053769</td>\n      <td>0.084750</td>\n      <td>0.032872</td>\n      <td>0.103321</td>\n      <td>0.123500</td>\n      <td>0.078339</td>\n      <td>0.070824</td>\n      <td>0.000000</td>\n      <td>0.070750</td>\n      <td>0.075429</td>\n    </tr>\n    <tr>\n      <th>309</th>\n      <td>2021-11-27</td>\n      <td>0.106429</td>\n      <td>0.060857</td>\n      <td>0.067778</td>\n      <td>0.103193</td>\n      <td>0.109000</td>\n      <td>0.064200</td>\n      <td>0.037889</td>\n      <td>0.000000</td>\n      <td>0.068000</td>\n      <td>0.060059</td>\n    </tr>\n    <tr>\n      <th>310</th>\n      <td>2021-11-28</td>\n      <td>0.074500</td>\n      <td>0.045571</td>\n      <td>0.000000</td>\n      <td>0.090615</td>\n      <td>0.000000</td>\n      <td>0.099625</td>\n      <td>0.254500</td>\n      <td>0.000000</td>\n      <td>0.000000</td>\n      <td>0.054545</td>\n    </tr>\n  </tbody>\n</table>\n<p>311 rows × 11 columns</p>\n</div>"
     },
     "execution_count": 48,
     "metadata": {},
     "output_type": "execute_result"
    }
   ],
   "source": [
    "df = pd.read_pickle('temp/out_symbol_dvader_negative.pkl')\n",
    "df"
   ],
   "metadata": {
    "collapsed": false,
    "pycharm": {
     "name": "#%%\n"
    }
   }
  },
  {
   "cell_type": "code",
   "execution_count": 38,
   "outputs": [],
   "source": [
    "df =df.fillna(0)"
   ],
   "metadata": {
    "collapsed": false,
    "pycharm": {
     "name": "#%%\n"
    }
   }
  },
  {
   "cell_type": "code",
   "execution_count": 39,
   "outputs": [
    {
     "data": {
      "text/plain": "    created_utc       AMC       AMD        BB       GME       NOK      PLTR  \\\n0    2021-01-01  0.266667  0.043239 -0.138229  0.058888  0.000000  0.029304   \n1    2021-01-02  0.000000  0.151684 -0.300000  0.051569  0.125000  0.049101   \n2    2021-01-03  0.000000 -0.019659  0.020793  0.073163  0.301010  0.024633   \n3    2021-01-04  0.000000 -0.008564 -0.024036  0.055610 -0.113690  0.031607   \n4    2021-01-05  0.068182  0.006633  0.146446  0.036245  0.113889  0.047192   \n..          ...       ...       ...       ...       ...       ...       ...   \n306  2021-11-24  0.029533  0.053881  0.075557  0.032911  0.150000  0.062319   \n307  2021-11-25 -0.004455  0.100304  0.088428  0.048742  0.000000  0.075078   \n308  2021-11-26  0.080309 -0.038791  0.078464 -0.008884  0.091667  0.045654   \n309  2021-11-27  0.034040  0.131017 -0.201790  0.010656  0.125000  0.104312   \n310  2021-11-28 -0.012500  0.026361  0.000000  0.085783  0.000000  0.115046   \n\n           RH       RKT      TLRY      TSLA  \n0    0.008329 -0.002508  0.000000  0.048509  \n1    0.050854  0.011097  0.119318  0.041724  \n2    0.071805  0.121791  0.152305  0.014928  \n3    0.038225  0.047669  0.115555  0.029912  \n4    0.021436  0.063452  0.111093  0.063104  \n..        ...       ...       ...       ...  \n306  0.009534  0.040000  0.048061  0.028299  \n307 -0.007537  0.000000  0.009917  0.087428  \n308 -0.007435  0.100000 -0.010822  0.019301  \n309 -0.057161  0.000000  0.033333  0.099051  \n310 -0.200000  0.000000  0.000000  0.056218  \n\n[311 rows x 11 columns]",
      "text/html": "<div>\n<style scoped>\n    .dataframe tbody tr th:only-of-type {\n        vertical-align: middle;\n    }\n\n    .dataframe tbody tr th {\n        vertical-align: top;\n    }\n\n    .dataframe thead th {\n        text-align: right;\n    }\n</style>\n<table border=\"1\" class=\"dataframe\">\n  <thead>\n    <tr style=\"text-align: right;\">\n      <th></th>\n      <th>created_utc</th>\n      <th>AMC</th>\n      <th>AMD</th>\n      <th>BB</th>\n      <th>GME</th>\n      <th>NOK</th>\n      <th>PLTR</th>\n      <th>RH</th>\n      <th>RKT</th>\n      <th>TLRY</th>\n      <th>TSLA</th>\n    </tr>\n  </thead>\n  <tbody>\n    <tr>\n      <th>0</th>\n      <td>2021-01-01</td>\n      <td>0.266667</td>\n      <td>0.043239</td>\n      <td>-0.138229</td>\n      <td>0.058888</td>\n      <td>0.000000</td>\n      <td>0.029304</td>\n      <td>0.008329</td>\n      <td>-0.002508</td>\n      <td>0.000000</td>\n      <td>0.048509</td>\n    </tr>\n    <tr>\n      <th>1</th>\n      <td>2021-01-02</td>\n      <td>0.000000</td>\n      <td>0.151684</td>\n      <td>-0.300000</td>\n      <td>0.051569</td>\n      <td>0.125000</td>\n      <td>0.049101</td>\n      <td>0.050854</td>\n      <td>0.011097</td>\n      <td>0.119318</td>\n      <td>0.041724</td>\n    </tr>\n    <tr>\n      <th>2</th>\n      <td>2021-01-03</td>\n      <td>0.000000</td>\n      <td>-0.019659</td>\n      <td>0.020793</td>\n      <td>0.073163</td>\n      <td>0.301010</td>\n      <td>0.024633</td>\n      <td>0.071805</td>\n      <td>0.121791</td>\n      <td>0.152305</td>\n      <td>0.014928</td>\n    </tr>\n    <tr>\n      <th>3</th>\n      <td>2021-01-04</td>\n      <td>0.000000</td>\n      <td>-0.008564</td>\n      <td>-0.024036</td>\n      <td>0.055610</td>\n      <td>-0.113690</td>\n      <td>0.031607</td>\n      <td>0.038225</td>\n      <td>0.047669</td>\n      <td>0.115555</td>\n      <td>0.029912</td>\n    </tr>\n    <tr>\n      <th>4</th>\n      <td>2021-01-05</td>\n      <td>0.068182</td>\n      <td>0.006633</td>\n      <td>0.146446</td>\n      <td>0.036245</td>\n      <td>0.113889</td>\n      <td>0.047192</td>\n      <td>0.021436</td>\n      <td>0.063452</td>\n      <td>0.111093</td>\n      <td>0.063104</td>\n    </tr>\n    <tr>\n      <th>...</th>\n      <td>...</td>\n      <td>...</td>\n      <td>...</td>\n      <td>...</td>\n      <td>...</td>\n      <td>...</td>\n      <td>...</td>\n      <td>...</td>\n      <td>...</td>\n      <td>...</td>\n      <td>...</td>\n    </tr>\n    <tr>\n      <th>306</th>\n      <td>2021-11-24</td>\n      <td>0.029533</td>\n      <td>0.053881</td>\n      <td>0.075557</td>\n      <td>0.032911</td>\n      <td>0.150000</td>\n      <td>0.062319</td>\n      <td>0.009534</td>\n      <td>0.040000</td>\n      <td>0.048061</td>\n      <td>0.028299</td>\n    </tr>\n    <tr>\n      <th>307</th>\n      <td>2021-11-25</td>\n      <td>-0.004455</td>\n      <td>0.100304</td>\n      <td>0.088428</td>\n      <td>0.048742</td>\n      <td>0.000000</td>\n      <td>0.075078</td>\n      <td>-0.007537</td>\n      <td>0.000000</td>\n      <td>0.009917</td>\n      <td>0.087428</td>\n    </tr>\n    <tr>\n      <th>308</th>\n      <td>2021-11-26</td>\n      <td>0.080309</td>\n      <td>-0.038791</td>\n      <td>0.078464</td>\n      <td>-0.008884</td>\n      <td>0.091667</td>\n      <td>0.045654</td>\n      <td>-0.007435</td>\n      <td>0.100000</td>\n      <td>-0.010822</td>\n      <td>0.019301</td>\n    </tr>\n    <tr>\n      <th>309</th>\n      <td>2021-11-27</td>\n      <td>0.034040</td>\n      <td>0.131017</td>\n      <td>-0.201790</td>\n      <td>0.010656</td>\n      <td>0.125000</td>\n      <td>0.104312</td>\n      <td>-0.057161</td>\n      <td>0.000000</td>\n      <td>0.033333</td>\n      <td>0.099051</td>\n    </tr>\n    <tr>\n      <th>310</th>\n      <td>2021-11-28</td>\n      <td>-0.012500</td>\n      <td>0.026361</td>\n      <td>0.000000</td>\n      <td>0.085783</td>\n      <td>0.000000</td>\n      <td>0.115046</td>\n      <td>-0.200000</td>\n      <td>0.000000</td>\n      <td>0.000000</td>\n      <td>0.056218</td>\n    </tr>\n  </tbody>\n</table>\n<p>311 rows × 11 columns</p>\n</div>"
     },
     "execution_count": 39,
     "metadata": {},
     "output_type": "execute_result"
    }
   ],
   "source": [
    "df"
   ],
   "metadata": {
    "collapsed": false,
    "pycharm": {
     "name": "#%%\n"
    }
   }
  },
  {
   "cell_type": "code",
   "execution_count": 40,
   "outputs": [],
   "source": [
    "df.to_pickle('temp/out_symbol_textblob_polarity.pkl')"
   ],
   "metadata": {
    "collapsed": false,
    "pycharm": {
     "name": "#%%\n"
    }
   }
  },
  {
   "cell_type": "code",
   "execution_count": null,
   "outputs": [],
   "source": [],
   "metadata": {
    "collapsed": false,
    "pycharm": {
     "name": "#%%\n"
    }
   }
  }
 ],
 "metadata": {
  "kernelspec": {
   "display_name": "Python 3",
   "language": "python",
   "name": "python3"
  },
  "language_info": {
   "codemirror_mode": {
    "name": "ipython",
    "version": 2
   },
   "file_extension": ".py",
   "mimetype": "text/x-python",
   "name": "python",
   "nbconvert_exporter": "python",
   "pygments_lexer": "ipython2",
   "version": "2.7.6"
  }
 },
 "nbformat": 4,
 "nbformat_minor": 0
}